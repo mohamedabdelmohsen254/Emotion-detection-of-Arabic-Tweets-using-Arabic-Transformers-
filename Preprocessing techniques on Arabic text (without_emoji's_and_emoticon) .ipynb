{
  "cells": [
    {
      "cell_type": "markdown",
      "source": [
        "In this notebook, we performed different types of preprocessing of text and we removed emojis and emoticons from the data during the preprocessing"
      ],
      "metadata": {
        "id": "vCGfdM4uKqA7"
      },
      "id": "vCGfdM4uKqA7"
    },
    {
      "cell_type": "code",
      "execution_count": null,
      "id": "15b51f13",
      "metadata": {
        "id": "15b51f13"
      },
      "outputs": [],
      "source": [
        "#importing libaraires\n",
        "\n",
        "# Add environment Packages paths to conda\n",
        "import os, sys, warnings\n",
        "import pandas as pd\n",
        "import numpy as np\n",
        "warnings.simplefilter(\"ignore\")\n",
        "\n",
        "# Text preprocessing packages\n",
        "import nltk # Text libarary\n",
        "# nltk.download('stopwords')\n",
        "import string # Removing special characters {#, @, ...}\n",
        "import re # Regex Package\n",
        "import regex\n",
        "import emoji\n",
        "# Corpora is a group presenting multiple collections of text documents. A single collection is called corpus.\n",
        "from nltk.corpus import stopwords # Stopwords\n",
        "import arabicstopwords.arabicstopwords as stp #more range of arabic stop words\n",
        "from nltk.stem.isri import ISRIStemmer\n",
        "import pyarabic.araby as araby\n",
        "from tashaphyne.stemming import ArabicLightStemmer\n",
        "\n",
        "from nltk.stem import SnowballStemmer, WordNetLemmatizer # Stemmer & Lemmatizer\n",
        "#from gensim.utils import simple_preprocess  # Text ==> List of Tokens\n",
        "\n",
        "# Text Embedding\n",
        "from sklearn.feature_extraction.text import TfidfVectorizer\n",
        "from sklearn.feature_extraction.text import CountVectorizer\n",
        "\n",
        "# Modelling\n",
        "from sklearn.model_selection import train_test_split,KFold, GridSearchCV\n",
        "from sklearn.ensemble import RandomForestClassifier\n",
        "from sklearn.linear_model import LogisticRegression\n",
        "from sklearn.tree import DecisionTreeClassifier\n",
        "from sklearn.ensemble import RandomForestClassifier\n",
        "from sklearn.metrics import accuracy_score,confusion_matrix, classification_report\n",
        "from sklearn.pipeline import Pipeline\n",
        "from sklearn.metrics import f1_score\n",
        "from sklearn.svm import SVC\n",
        "# Saving Model\n",
        "import pickle\n",
        "\n",
        "# Visualization Packages\n",
        "import seaborn as sns\n",
        "import matplotlib.pyplot as plt\n",
        "sns.set(font_scale=1.3)\n",
        "%matplotlib inline"
      ]
    },
    {
      "cell_type": "code",
      "execution_count": null,
      "id": "d462162b",
      "metadata": {
        "id": "d462162b"
      },
      "outputs": [],
      "source": [
        "#!pip install nltk\n",
        "#!pip install emoji\n",
        "#!pip install Arabic-Stopwords\n",
        "#pip install PyArabic\n",
        "#pip install Tashaphyne\n",
        "#pip install translate\n",
        "#pip install transformers"
      ]
    },
    {
      "cell_type": "code",
      "execution_count": null,
      "id": "dd9cc358",
      "metadata": {
        "id": "dd9cc358",
        "outputId": "d732c3d1-a77b-48f2-b46f-a4384b767c30"
      },
      "outputs": [
        {
          "data": {
            "text/html": [
              "<div>\n",
              "<style scoped>\n",
              "    .dataframe tbody tr th:only-of-type {\n",
              "        vertical-align: middle;\n",
              "    }\n",
              "\n",
              "    .dataframe tbody tr th {\n",
              "        vertical-align: top;\n",
              "    }\n",
              "\n",
              "    .dataframe thead th {\n",
              "        text-align: right;\n",
              "    }\n",
              "</style>\n",
              "<table border=\"1\" class=\"dataframe\">\n",
              "  <thead>\n",
              "    <tr style=\"text-align: right;\">\n",
              "      <th></th>\n",
              "      <th>ID</th>\n",
              "      <th>text</th>\n",
              "      <th>label</th>\n",
              "    </tr>\n",
              "  </thead>\n",
              "  <tbody>\n",
              "    <tr>\n",
              "      <th>0</th>\n",
              "      <td>1</td>\n",
              "      <td>الاوليمبياد الجايه هكون لسه ف الكليه ..</td>\n",
              "      <td>none</td>\n",
              "    </tr>\n",
              "    <tr>\n",
              "      <th>1</th>\n",
              "      <td>2</td>\n",
              "      <td>عجز الموازنه وصل ل93.7 % من الناتج المحلي يعني...</td>\n",
              "      <td>anger</td>\n",
              "    </tr>\n",
              "    <tr>\n",
              "      <th>2</th>\n",
              "      <td>3</td>\n",
              "      <td>كتنا نيله ف حظنا الهباب xD</td>\n",
              "      <td>sadness</td>\n",
              "    </tr>\n",
              "    <tr>\n",
              "      <th>3</th>\n",
              "      <td>4</td>\n",
              "      <td>جميعنا نريد تحقيق اهدافنا لكن تونس تالقت في حر...</td>\n",
              "      <td>joy</td>\n",
              "    </tr>\n",
              "    <tr>\n",
              "      <th>4</th>\n",
              "      <td>5</td>\n",
              "      <td>الاوليمبياد نظامها مختلف .. ومواعيد المونديال ...</td>\n",
              "      <td>none</td>\n",
              "    </tr>\n",
              "  </tbody>\n",
              "</table>\n",
              "</div>"
            ],
            "text/plain": [
              "   ID                                               text    label\n",
              "0   1            الاوليمبياد الجايه هكون لسه ف الكليه ..     none\n",
              "1   2  عجز الموازنه وصل ل93.7 % من الناتج المحلي يعني...    anger\n",
              "2   3                         كتنا نيله ف حظنا الهباب xD  sadness\n",
              "3   4  جميعنا نريد تحقيق اهدافنا لكن تونس تالقت في حر...      joy\n",
              "4   5  الاوليمبياد نظامها مختلف .. ومواعيد المونديال ...     none"
            ]
          },
          "execution_count": 3,
          "metadata": {},
          "output_type": "execute_result"
        }
      ],
      "source": [
        "df=pd.read_excel('NileUniversity_Emotional.xlsx')\n",
        "df.head()"
      ]
    },
    {
      "cell_type": "code",
      "execution_count": null,
      "id": "fb6695df",
      "metadata": {
        "id": "fb6695df"
      },
      "outputs": [],
      "source": [
        "#deop unnecessary columns\n",
        "df.drop('ID', axis=1,inplace=True)"
      ]
    },
    {
      "cell_type": "markdown",
      "id": "2ddeb010",
      "metadata": {
        "id": "2ddeb010"
      },
      "source": [
        "## Assessing"
      ]
    },
    {
      "cell_type": "code",
      "execution_count": null,
      "id": "7900d8d5",
      "metadata": {
        "id": "7900d8d5",
        "outputId": "d870b813-3b1e-4b13-e751-bfbd285ca43c"
      },
      "outputs": [
        {
          "data": {
            "text/plain": [
              "(10065, 2)"
            ]
          },
          "execution_count": 5,
          "metadata": {},
          "output_type": "execute_result"
        }
      ],
      "source": [
        "#print the shape of the data set\n",
        "df.shape"
      ]
    },
    {
      "cell_type": "code",
      "execution_count": null,
      "id": "5cc0db65",
      "metadata": {
        "id": "5cc0db65",
        "outputId": "fd75f807-7452-4ed7-dede-cb404c3e74d6"
      },
      "outputs": [
        {
          "name": "stdout",
          "output_type": "stream",
          "text": [
            "<class 'pandas.core.frame.DataFrame'>\n",
            "RangeIndex: 10065 entries, 0 to 10064\n",
            "Data columns (total 2 columns):\n",
            " #   Column  Non-Null Count  Dtype \n",
            "---  ------  --------------  ----- \n",
            " 0   text    10064 non-null  object\n",
            " 1   label   10065 non-null  object\n",
            "dtypes: object(2)\n",
            "memory usage: 157.4+ KB\n"
          ]
        }
      ],
      "source": [
        "df.info()"
      ]
    },
    {
      "cell_type": "code",
      "execution_count": null,
      "id": "cfae968c",
      "metadata": {
        "id": "cfae968c",
        "outputId": "0f547d34-0131-46c7-e06e-03708590d808"
      },
      "outputs": [
        {
          "data": {
            "text/plain": [
              "none        1550\n",
              "anger       1444\n",
              "joy         1281\n",
              "sadness     1256\n",
              "love        1220\n",
              "fear        1207\n",
              "sympathy    1062\n",
              "surprise    1045\n",
              "Name: label, dtype: int64"
            ]
          },
          "execution_count": 7,
          "metadata": {},
          "output_type": "execute_result"
        }
      ],
      "source": [
        "#check if the data is balanced or not\n",
        "df.label.value_counts()"
      ]
    },
    {
      "cell_type": "code",
      "execution_count": null,
      "id": "f4679609",
      "metadata": {
        "id": "f4679609",
        "outputId": "9faf4ae1-9a01-4c9a-abb7-9c70353e63ed"
      },
      "outputs": [
        {
          "data": {
            "image/png": "[encoded data removed]",
            "text/plain": [
              "<Figure size 576x288 with 1 Axes>"
            ]
          },
          "metadata": {
            "needs_background": "light"
          },
          "output_type": "display_data"
        }
      ],
      "source": [
        "plt.figure(figsize=(8,4))\n",
        "sns.countplot(x='label', data=df);"
      ]
    },
    {
      "cell_type": "markdown",
      "id": "a4291742",
      "metadata": {
        "id": "a4291742"
      },
      "source": [
        "The differences between the labels is not large so, we can say that the data is balanced"
      ]
    },
    {
      "cell_type": "code",
      "execution_count": null,
      "id": "8d99a1fa",
      "metadata": {
        "id": "8d99a1fa",
        "outputId": "d4aaad87-1c97-43af-ee62-9660172fb286"
      },
      "outputs": [
        {
          "data": {
            "text/plain": [
              "text     1\n",
              "label    0\n",
              "dtype: int64"
            ]
          },
          "execution_count": 9,
          "metadata": {},
          "output_type": "execute_result"
        }
      ],
      "source": [
        "#print the number of null values in each column\n",
        "df.isnull().sum()"
      ]
    },
    {
      "cell_type": "code",
      "execution_count": null,
      "id": "3bad80e5",
      "metadata": {
        "id": "3bad80e5",
        "outputId": "875c1fab-23a3-4c2f-db31-a58505d64680"
      },
      "outputs": [
        {
          "data": {
            "text/html": [
              "<div>\n",
              "<style scoped>\n",
              "    .dataframe tbody tr th:only-of-type {\n",
              "        vertical-align: middle;\n",
              "    }\n",
              "\n",
              "    .dataframe tbody tr th {\n",
              "        vertical-align: top;\n",
              "    }\n",
              "\n",
              "    .dataframe thead th {\n",
              "        text-align: right;\n",
              "    }\n",
              "</style>\n",
              "<table border=\"1\" class=\"dataframe\">\n",
              "  <thead>\n",
              "    <tr style=\"text-align: right;\">\n",
              "      <th></th>\n",
              "      <th>text</th>\n",
              "      <th>label</th>\n",
              "    </tr>\n",
              "  </thead>\n",
              "  <tbody>\n",
              "    <tr>\n",
              "      <th>8619</th>\n",
              "      <td>NaN</td>\n",
              "      <td>love</td>\n",
              "    </tr>\n",
              "  </tbody>\n",
              "</table>\n",
              "</div>"
            ],
            "text/plain": [
              "     text label\n",
              "8619  NaN  love"
            ]
          },
          "execution_count": 10,
          "metadata": {},
          "output_type": "execute_result"
        }
      ],
      "source": [
        "#to get the index of the null value\n",
        "df[df['text'].isnull() == True]"
      ]
    },
    {
      "cell_type": "markdown",
      "id": "53255e0d",
      "metadata": {
        "id": "53255e0d"
      },
      "source": [
        "This label doesn't mean anything because the original text is missing so, we will remove it"
      ]
    },
    {
      "cell_type": "code",
      "execution_count": null,
      "id": "3dbbbb5a",
      "metadata": {
        "id": "3dbbbb5a"
      },
      "outputs": [],
      "source": [
        "#removing null value\n",
        "df.drop(8619, axis=0, inplace = True)\n",
        "\n",
        "#resetting the index of the data\n",
        "df.reset_index(drop=True, inplace = True)"
      ]
    },
    {
      "cell_type": "code",
      "execution_count": null,
      "id": "fdd217ff",
      "metadata": {
        "id": "fdd217ff",
        "outputId": "b0f2bea8-ab2c-4799-853e-57a7a0e59184"
      },
      "outputs": [
        {
          "data": {
            "text/plain": [
              "36"
            ]
          },
          "execution_count": 12,
          "metadata": {},
          "output_type": "execute_result"
        }
      ],
      "source": [
        "#print the number of duplicated values \n",
        "df.duplicated().sum()"
      ]
    },
    {
      "cell_type": "code",
      "execution_count": null,
      "id": "12785ad6",
      "metadata": {
        "scrolled": true,
        "id": "12785ad6",
        "outputId": "5ef188aa-d1fc-45fa-c3b3-f42a7d69e1e2"
      },
      "outputs": [
        {
          "data": {
            "text/html": [
              "<div>\n",
              "<style scoped>\n",
              "    .dataframe tbody tr th:only-of-type {\n",
              "        vertical-align: middle;\n",
              "    }\n",
              "\n",
              "    .dataframe tbody tr th {\n",
              "        vertical-align: top;\n",
              "    }\n",
              "\n",
              "    .dataframe thead th {\n",
              "        text-align: right;\n",
              "    }\n",
              "</style>\n",
              "<table border=\"1\" class=\"dataframe\">\n",
              "  <thead>\n",
              "    <tr style=\"text-align: right;\">\n",
              "      <th></th>\n",
              "      <th>text</th>\n",
              "      <th>label</th>\n",
              "    </tr>\n",
              "  </thead>\n",
              "  <tbody>\n",
              "    <tr>\n",
              "      <th>1236</th>\n",
              "      <td>الشخص الذي يجعلُك من اساسيات يومه، يستحقُ ان ت...</td>\n",
              "      <td>love</td>\n",
              "    </tr>\n",
              "    <tr>\n",
              "      <th>1449</th>\n",
              "      <td>:  اليوم العالمي للشباب الامم المتحده تمنح جائ...</td>\n",
              "      <td>love</td>\n",
              "    </tr>\n",
              "    <tr>\n",
              "      <th>1487</th>\n",
              "      <td>اللهم يا من قلت ادعوني استجب لكم ، انصر اخوانن...</td>\n",
              "      <td>sympathy</td>\n",
              "    </tr>\n",
              "    <tr>\n",
              "      <th>2115</th>\n",
              "      <td>: اللهّم خفف عن جدتي كُل ذره وجع ترهقها وانزل ...</td>\n",
              "      <td>sympathy</td>\n",
              "    </tr>\n",
              "    <tr>\n",
              "      <th>2826</th>\n",
              "      <td>: لعب من اجل النصر! اعطي من اجل النصر! ضحّي من...</td>\n",
              "      <td>love</td>\n",
              "    </tr>\n",
              "    <tr>\n",
              "      <th>2916</th>\n",
              "      <td>: لا تستطيع ان تستقيم بحياه مريحه نفسياً وانت ...</td>\n",
              "      <td>sympathy</td>\n",
              "    </tr>\n",
              "    <tr>\n",
              "      <th>3699</th>\n",
              "      <td>حماده طلعت اللي رفع العلم السعودي في الاوليمبي...</td>\n",
              "      <td>anger</td>\n",
              "    </tr>\n",
              "    <tr>\n",
              "      <th>3944</th>\n",
              "      <td>يا اهل مصر قلوبنا ودعائنا معكم  نازلين 11 11 عشان</td>\n",
              "      <td>sympathy</td>\n",
              "    </tr>\n",
              "    <tr>\n",
              "      <th>4319</th>\n",
              "      <td>alqarnee: يا حي ياقيوم يا ذا الجلال والاكرام ف...</td>\n",
              "      <td>sympathy</td>\n",
              "    </tr>\n",
              "    <tr>\n",
              "      <th>4398</th>\n",
              "      <td>في الاوليمبياد مع نيجيريا</td>\n",
              "      <td>none</td>\n",
              "    </tr>\n",
              "    <tr>\n",
              "      <th>4463</th>\n",
              "      <td>fisal holibi: اذا لم يعد لنا قلب يستطيع ان يتح...</td>\n",
              "      <td>sympathy</td>\n",
              "    </tr>\n",
              "    <tr>\n",
              "      <th>4498</th>\n",
              "      <td>: يِصِيِبنيِ الّان نوع مٌن  الّحًزُن  الُمجٍہۆ...</td>\n",
              "      <td>sadness</td>\n",
              "    </tr>\n",
              "    <tr>\n",
              "      <th>4739</th>\n",
              "      <td>الهدف الرئيسي من الاوليمبياد هو نشر روح السلام...</td>\n",
              "      <td>none</td>\n",
              "    </tr>\n",
              "    <tr>\n",
              "      <th>5026</th>\n",
              "      <td>خوفي عليكِ كـ خوفِ ابٍ يحْمِلُ مولودَهُ الاوَّ...</td>\n",
              "      <td>fear</td>\n",
              "    </tr>\n",
              "    <tr>\n",
              "      <th>5091</th>\n",
              "      <td>الاوليمبياد</td>\n",
              "      <td>none</td>\n",
              "    </tr>\n",
              "    <tr>\n",
              "      <th>5199</th>\n",
              "      <td>يا رب شفاك لمن مسّه الضر و لمن ضمه التراب.</td>\n",
              "      <td>sympathy</td>\n",
              "    </tr>\n",
              "    <tr>\n",
              "      <th>5263</th>\n",
              "      <td>اطالب بتحقيق رسمي من قبل اتحاد كره اليد مع الم...</td>\n",
              "      <td>none</td>\n",
              "    </tr>\n",
              "    <tr>\n",
              "      <th>5296</th>\n",
              "      <td>الغيره فِي الحُبّ  تَجعَلنْا كالاَطْفال لا يُر...</td>\n",
              "      <td>love</td>\n",
              "    </tr>\n",
              "    <tr>\n",
              "      <th>6264</th>\n",
              "      <td>في الاوليمبياد</td>\n",
              "      <td>none</td>\n",
              "    </tr>\n",
              "    <tr>\n",
              "      <th>6447</th>\n",
              "      <td>اعشق لمعه عينيك واعشق ابتسامتك واريدك بجانبي ط...</td>\n",
              "      <td>love</td>\n",
              "    </tr>\n",
              "    <tr>\n",
              "      <th>6952</th>\n",
              "      <td>وعلي صعيد منفصل تماما فيه لاعبه المانيه من اصل...</td>\n",
              "      <td>none</td>\n",
              "    </tr>\n",
              "    <tr>\n",
              "      <th>7158</th>\n",
              "      <td>alghfaily: اللهم تشكو و تنتحب؛ رجالها ونساؤها،...</td>\n",
              "      <td>sympathy</td>\n",
              "    </tr>\n",
              "    <tr>\n",
              "      <th>7288</th>\n",
              "      <td>: وبكل خوف قلت :  بطل توجعني ، انا مابي الدنيا...</td>\n",
              "      <td>fear</td>\n",
              "    </tr>\n",
              "    <tr>\n",
              "      <th>7362</th>\n",
              "      <td>aljohra:  رب في يوم الجمعه لك عبادٌ ينتظرون فر...</td>\n",
              "      <td>sympathy</td>\n",
              "    </tr>\n",
              "    <tr>\n",
              "      <th>7376</th>\n",
              "      <td>الله يوفقهم وينصرهم</td>\n",
              "      <td>sympathy</td>\n",
              "    </tr>\n",
              "    <tr>\n",
              "      <th>7740</th>\n",
              "      <td>ياخي كسم العرص اللي رفع علم غير علم مصر في دخل...</td>\n",
              "      <td>anger</td>\n",
              "    </tr>\n",
              "    <tr>\n",
              "      <th>7807</th>\n",
              "      <td>الاوليمبياد</td>\n",
              "      <td>none</td>\n",
              "    </tr>\n",
              "    <tr>\n",
              "      <th>8018</th>\n",
              "      <td>الهدف الرئيسي من الاوليمبياد هو نشر روح السلام...</td>\n",
              "      <td>none</td>\n",
              "    </tr>\n",
              "    <tr>\n",
              "      <th>8019</th>\n",
              "      <td>يلاحظ في مقدمه الرساله ونهايتها اطراء جم لعلما...</td>\n",
              "      <td>love</td>\n",
              "    </tr>\n",
              "    <tr>\n",
              "      <th>8146</th>\n",
              "      <td>: جعل ابوي .. اللي عن الدنيا فنا ف الجنان : وت...</td>\n",
              "      <td>sympathy</td>\n",
              "    </tr>\n",
              "    <tr>\n",
              "      <th>8413</th>\n",
              "      <td>جمالها يالله !!</td>\n",
              "      <td>surprise</td>\n",
              "    </tr>\n",
              "    <tr>\n",
              "      <th>8506</th>\n",
              "      <td>Madaniah: لقطات تشقعر لها الابدان.. لقطات من ك...</td>\n",
              "      <td>sympathy</td>\n",
              "    </tr>\n",
              "    <tr>\n",
              "      <th>8633</th>\n",
              "      <td>22   حمدين صباحي حيموت علي الرياسه ياعيني كل ش...</td>\n",
              "      <td>anger</td>\n",
              "    </tr>\n",
              "    <tr>\n",
              "      <th>8641</th>\n",
              "      <td>:  خايف نكون انتهينا من قبل ما حكايتنا تبتدي و...</td>\n",
              "      <td>fear</td>\n",
              "    </tr>\n",
              "    <tr>\n",
              "      <th>8785</th>\n",
              "      <td>اذا كان هذا هو حال فكيف هو حال سكانها ؟؟؟  الل...</td>\n",
              "      <td>sympathy</td>\n",
              "    </tr>\n",
              "    <tr>\n",
              "      <th>8810</th>\n",
              "      <td>ياريت اي حد محبط من نتايج بعثه الاوليمبياد يخل...</td>\n",
              "      <td>sadness</td>\n",
              "    </tr>\n",
              "    <tr>\n",
              "      <th>9213</th>\n",
              "      <td>558: . ربي امسح علي قلب امي براحـه تسّر نفسها ...</td>\n",
              "      <td>sympathy</td>\n",
              "    </tr>\n",
              "    <tr>\n",
              "      <th>9494</th>\n",
              "      <td>اللهم ارفع البلاء عن اهلنا في  سوريا و اللهم ا...</td>\n",
              "      <td>sympathy</td>\n",
              "    </tr>\n",
              "    <tr>\n",
              "      <th>9518</th>\n",
              "      <td>قطر خاشه الاوليمبياد ب25 لاعب .. اللي يبي يخنب...</td>\n",
              "      <td>none</td>\n",
              "    </tr>\n",
              "    <tr>\n",
              "      <th>9722</th>\n",
              "      <td>2016:  شخصيه الاسبوع  الملك عبدالله بن عبدالعز...</td>\n",
              "      <td>joy</td>\n",
              "    </tr>\n",
              "    <tr>\n",
              "      <th>9765</th>\n",
              "      <td>الاوليمبياد</td>\n",
              "      <td>none</td>\n",
              "    </tr>\n",
              "    <tr>\n",
              "      <th>9869</th>\n",
              "      <td>اللهم لطفگ باخواننا في و  الموصل اللهم ارحم ضع...</td>\n",
              "      <td>sympathy</td>\n",
              "    </tr>\n",
              "    <tr>\n",
              "      <th>9894</th>\n",
              "      <td>:  تحب تقول ايه لتميم بن موزه يا جبان ما انت ج...</td>\n",
              "      <td>anger</td>\n",
              "    </tr>\n",
              "    <tr>\n",
              "      <th>9958</th>\n",
              "      <td>الاوليمبياد ؟ الواحد يلحق يدور في جوجل علي رمي...</td>\n",
              "      <td>none</td>\n",
              "    </tr>\n",
              "  </tbody>\n",
              "</table>\n",
              "</div>"
            ],
            "text/plain": [
              "                                                   text     label\n",
              "1236  الشخص الذي يجعلُك من اساسيات يومه، يستحقُ ان ت...      love\n",
              "1449  :  اليوم العالمي للشباب الامم المتحده تمنح جائ...      love\n",
              "1487  اللهم يا من قلت ادعوني استجب لكم ، انصر اخوانن...  sympathy\n",
              "2115  : اللهّم خفف عن جدتي كُل ذره وجع ترهقها وانزل ...  sympathy\n",
              "2826  : لعب من اجل النصر! اعطي من اجل النصر! ضحّي من...      love\n",
              "2916  : لا تستطيع ان تستقيم بحياه مريحه نفسياً وانت ...  sympathy\n",
              "3699  حماده طلعت اللي رفع العلم السعودي في الاوليمبي...     anger\n",
              "3944  يا اهل مصر قلوبنا ودعائنا معكم  نازلين 11 11 عشان  sympathy\n",
              "4319  alqarnee: يا حي ياقيوم يا ذا الجلال والاكرام ف...  sympathy\n",
              "4398                          في الاوليمبياد مع نيجيريا      none\n",
              "4463  fisal holibi: اذا لم يعد لنا قلب يستطيع ان يتح...  sympathy\n",
              "4498  : يِصِيِبنيِ الّان نوع مٌن  الّحًزُن  الُمجٍہۆ...   sadness\n",
              "4739  الهدف الرئيسي من الاوليمبياد هو نشر روح السلام...      none\n",
              "5026  خوفي عليكِ كـ خوفِ ابٍ يحْمِلُ مولودَهُ الاوَّ...      fear\n",
              "5091                                        الاوليمبياد      none\n",
              "5199         يا رب شفاك لمن مسّه الضر و لمن ضمه التراب.  sympathy\n",
              "5263  اطالب بتحقيق رسمي من قبل اتحاد كره اليد مع الم...      none\n",
              "5296  الغيره فِي الحُبّ  تَجعَلنْا كالاَطْفال لا يُر...      love\n",
              "6264                                     في الاوليمبياد      none\n",
              "6447  اعشق لمعه عينيك واعشق ابتسامتك واريدك بجانبي ط...      love\n",
              "6952  وعلي صعيد منفصل تماما فيه لاعبه المانيه من اصل...      none\n",
              "7158  alghfaily: اللهم تشكو و تنتحب؛ رجالها ونساؤها،...  sympathy\n",
              "7288  : وبكل خوف قلت :  بطل توجعني ، انا مابي الدنيا...      fear\n",
              "7362  aljohra:  رب في يوم الجمعه لك عبادٌ ينتظرون فر...  sympathy\n",
              "7376                                الله يوفقهم وينصرهم  sympathy\n",
              "7740  ياخي كسم العرص اللي رفع علم غير علم مصر في دخل...     anger\n",
              "7807                                        الاوليمبياد      none\n",
              "8018  الهدف الرئيسي من الاوليمبياد هو نشر روح السلام...      none\n",
              "8019  يلاحظ في مقدمه الرساله ونهايتها اطراء جم لعلما...      love\n",
              "8146  : جعل ابوي .. اللي عن الدنيا فنا ف الجنان : وت...  sympathy\n",
              "8413                                    جمالها يالله !!  surprise\n",
              "8506  Madaniah: لقطات تشقعر لها الابدان.. لقطات من ك...  sympathy\n",
              "8633  22   حمدين صباحي حيموت علي الرياسه ياعيني كل ش...     anger\n",
              "8641  :  خايف نكون انتهينا من قبل ما حكايتنا تبتدي و...      fear\n",
              "8785  اذا كان هذا هو حال فكيف هو حال سكانها ؟؟؟  الل...  sympathy\n",
              "8810  ياريت اي حد محبط من نتايج بعثه الاوليمبياد يخل...   sadness\n",
              "9213  558: . ربي امسح علي قلب امي براحـه تسّر نفسها ...  sympathy\n",
              "9494  اللهم ارفع البلاء عن اهلنا في  سوريا و اللهم ا...  sympathy\n",
              "9518  قطر خاشه الاوليمبياد ب25 لاعب .. اللي يبي يخنب...      none\n",
              "9722  2016:  شخصيه الاسبوع  الملك عبدالله بن عبدالعز...       joy\n",
              "9765                                        الاوليمبياد      none\n",
              "9869  اللهم لطفگ باخواننا في و  الموصل اللهم ارحم ضع...  sympathy\n",
              "9894  :  تحب تقول ايه لتميم بن موزه يا جبان ما انت ج...     anger\n",
              "9958  الاوليمبياد ؟ الواحد يلحق يدور في جوجل علي رمي...      none"
            ]
          },
          "execution_count": 13,
          "metadata": {},
          "output_type": "execute_result"
        }
      ],
      "source": [
        "#print the rows which are duplicated\n",
        "df[df['text'].duplicated() == True]"
      ]
    },
    {
      "cell_type": "code",
      "execution_count": null,
      "id": "cebacfa7",
      "metadata": {
        "id": "cebacfa7",
        "outputId": "23bf4911-29b2-48da-ffed-b8942496b291"
      },
      "outputs": [
        {
          "data": {
            "text/html": [
              "<div>\n",
              "<style scoped>\n",
              "    .dataframe tbody tr th:only-of-type {\n",
              "        vertical-align: middle;\n",
              "    }\n",
              "\n",
              "    .dataframe tbody tr th {\n",
              "        vertical-align: top;\n",
              "    }\n",
              "\n",
              "    .dataframe thead th {\n",
              "        text-align: right;\n",
              "    }\n",
              "</style>\n",
              "<table border=\"1\" class=\"dataframe\">\n",
              "  <thead>\n",
              "    <tr style=\"text-align: right;\">\n",
              "      <th></th>\n",
              "      <th>text</th>\n",
              "      <th>label</th>\n",
              "    </tr>\n",
              "  </thead>\n",
              "  <tbody>\n",
              "    <tr>\n",
              "      <th>790</th>\n",
              "      <td>الشخص الذي يجعلُك من اساسيات يومه، يستحقُ ان ت...</td>\n",
              "      <td>love</td>\n",
              "    </tr>\n",
              "    <tr>\n",
              "      <th>1236</th>\n",
              "      <td>الشخص الذي يجعلُك من اساسيات يومه، يستحقُ ان ت...</td>\n",
              "      <td>love</td>\n",
              "    </tr>\n",
              "  </tbody>\n",
              "</table>\n",
              "</div>"
            ],
            "text/plain": [
              "                                                   text label\n",
              "790   الشخص الذي يجعلُك من اساسيات يومه، يستحقُ ان ت...  love\n",
              "1236  الشخص الذي يجعلُك من اساسيات يومه، يستحقُ ان ت...  love"
            ]
          },
          "execution_count": 14,
          "metadata": {},
          "output_type": "execute_result"
        }
      ],
      "source": [
        "df[df['text'] == df.iloc[1236]['text']]"
      ]
    },
    {
      "cell_type": "code",
      "execution_count": null,
      "id": "dde7920d",
      "metadata": {
        "id": "dde7920d"
      },
      "outputs": [],
      "source": [
        "#removing duplicated values\n",
        "index = df[df['text'].duplicated() == True].index\n",
        "df.drop(index, axis = 0, inplace = True)"
      ]
    },
    {
      "cell_type": "code",
      "execution_count": null,
      "id": "8bf41137",
      "metadata": {
        "id": "8bf41137",
        "outputId": "fc5fd36d-8a02-40c5-ac47-8a2b05a40abb"
      },
      "outputs": [
        {
          "data": {
            "text/plain": [
              "754"
            ]
          },
          "execution_count": 16,
          "metadata": {},
          "output_type": "execute_result"
        }
      ],
      "source": [
        "#are there any stop words in the data?\n",
        "arabic_stopwords = stopwords.words(\"arabic\")\n",
        "len(arabic_stopwords)"
      ]
    },
    {
      "cell_type": "markdown",
      "id": "2af884a0",
      "metadata": {
        "id": "2af884a0"
      },
      "source": [
        "Note that There are different libraries provide a different numbers of arabic stop words like \"nltk\" and \"arabicstopwords\" now we will use nltk's arabic stopwords and we will see the results and if needed we can use \"arabicstopwords\" library which provide the stopwords and it's conjugations"
      ]
    },
    {
      "cell_type": "code",
      "execution_count": null,
      "id": "eb317c85",
      "metadata": {
        "id": "eb317c85",
        "outputId": "589d1da8-08b3-4fdb-c6fe-bc632e5560d5"
      },
      "outputs": [
        {
          "data": {
            "text/plain": [
              "1     2843\n",
              "2     2328\n",
              "0     1907\n",
              "3     1532\n",
              "4      843\n",
              "5      371\n",
              "6      134\n",
              "7       43\n",
              "8       16\n",
              "9        2\n",
              "10       1\n",
              "Name: stop_words, dtype: int64"
            ]
          },
          "execution_count": 17,
          "metadata": {},
          "output_type": "execute_result"
        }
      ],
      "source": [
        "df['stop_words'] = df['text'].apply(lambda x: len(set(x.split()) & set(arabic_stopwords)))\n",
        "df.stop_words.value_counts()"
      ]
    },
    {
      "cell_type": "code",
      "execution_count": null,
      "id": "d861da6d",
      "metadata": {
        "id": "d861da6d",
        "outputId": "d2011374-2e95-4cc1-ac34-59d9eb235726"
      },
      "outputs": [
        {
          "data": {
            "text/plain": [
              "<AxesSubplot:ylabel='Frequency'>"
            ]
          },
          "execution_count": 18,
          "metadata": {},
          "output_type": "execute_result"
        },
        {
          "data": {
            "image/png": "[encoded data removed]",
            "text/plain": [
              "<Figure size 432x288 with 1 Axes>"
            ]
          },
          "metadata": {
            "needs_background": "light"
          },
          "output_type": "display_data"
        }
      ],
      "source": [
        "df['stop_words'].plot(kind= 'hist')"
      ]
    },
    {
      "cell_type": "markdown",
      "id": "649dd3ea",
      "metadata": {
        "id": "649dd3ea"
      },
      "source": [
        "it seems that the data contains alot of stop words and it should be removed"
      ]
    },
    {
      "cell_type": "code",
      "execution_count": null,
      "id": "54d46db3",
      "metadata": {
        "id": "54d46db3",
        "outputId": "373af70f-9a47-4a5f-c6da-011b714b58dc"
      },
      "outputs": [
        {
          "data": {
            "text/plain": [
              "0    8114\n",
              "1    1031\n",
              "2     527\n",
              "3     173\n",
              "4      85\n",
              "5      39\n",
              "6      18\n",
              "7      14\n",
              "9       7\n",
              "8       6\n",
              "Name: emoji_count, dtype: int64"
            ]
          },
          "execution_count": 19,
          "metadata": {},
          "output_type": "execute_result"
        }
      ],
      "source": [
        "#to count the number of emojis in the dataset\n",
        "def emoji_counter(sentence):\n",
        "    return emoji.emoji_count(sentence)\n",
        "\n",
        "df['emoji_count'] = df['text'].apply(lambda x: emoji_counter(x))\n",
        "df.emoji_count.value_counts()[:10]"
      ]
    },
    {
      "cell_type": "markdown",
      "id": "c0aada2c",
      "metadata": {
        "id": "c0aada2c"
      },
      "source": [
        "most of the records doesn't contain emojies but there are about 1910 emoji that we should take care during preprocessing"
      ]
    },
    {
      "cell_type": "markdown",
      "id": "4813d6fd",
      "metadata": {
        "id": "4813d6fd"
      },
      "source": [
        "**extract the emojis from every text**"
      ]
    },
    {
      "cell_type": "code",
      "execution_count": null,
      "id": "6ec5072c",
      "metadata": {
        "id": "6ec5072c"
      },
      "outputs": [],
      "source": [
        "emojis_data = df[df['emoji_count'] > 0]"
      ]
    },
    {
      "cell_type": "code",
      "execution_count": null,
      "id": "42935906",
      "metadata": {
        "id": "42935906"
      },
      "outputs": [],
      "source": [
        "def extract_emoji(text):\n",
        "\n",
        "    emoji_list = []\n",
        "    data = regex.findall(r'\\X', text)\n",
        "    for word in data:\n",
        "        if any(char in emoji.UNICODE_EMOJI['en'] for char in word):\n",
        "            emoji_list.append(word)\n",
        "    \n",
        "    return emoji_list"
      ]
    },
    {
      "cell_type": "code",
      "execution_count": null,
      "id": "b2028ab1",
      "metadata": {
        "id": "b2028ab1"
      },
      "outputs": [],
      "source": [
        "emojis_data['emoji'] = emojis_data['text'].apply(lambda x: extract_emoji(x))\n",
        "emojis_data['emoji'] = emojis_data['emoji'].apply(lambda x: ' '.join([word for word in x ]))"
      ]
    },
    {
      "cell_type": "code",
      "execution_count": null,
      "id": "75d832e0",
      "metadata": {
        "id": "75d832e0",
        "outputId": "c6116aae-ffb5-469f-ac4e-46e398ea7546"
      },
      "outputs": [
        {
          "data": {
            "text/html": [
              "<div>\n",
              "<style scoped>\n",
              "    .dataframe tbody tr th:only-of-type {\n",
              "        vertical-align: middle;\n",
              "    }\n",
              "\n",
              "    .dataframe tbody tr th {\n",
              "        vertical-align: top;\n",
              "    }\n",
              "\n",
              "    .dataframe thead th {\n",
              "        text-align: right;\n",
              "    }\n",
              "</style>\n",
              "<table border=\"1\" class=\"dataframe\">\n",
              "  <thead>\n",
              "    <tr style=\"text-align: right;\">\n",
              "      <th></th>\n",
              "      <th>text</th>\n",
              "      <th>label</th>\n",
              "      <th>stop_words</th>\n",
              "      <th>emoji_count</th>\n",
              "      <th>emoji</th>\n",
              "    </tr>\n",
              "  </thead>\n",
              "  <tbody>\n",
              "    <tr>\n",
              "      <th>12</th>\n",
              "      <td>يا ويل  قلبي منه ي كثر ما اغليه ويا كثر ماله ف...</td>\n",
              "      <td>love</td>\n",
              "      <td>6</td>\n",
              "      <td>1</td>\n",
              "      <td>❤</td>\n",
              "    </tr>\n",
              "    <tr>\n",
              "      <th>18</th>\n",
              "      <td>المفروض يلغوها من الاوليمبياد وندخل الاسكواش م...</td>\n",
              "      <td>none</td>\n",
              "      <td>1</td>\n",
              "      <td>1</td>\n",
              "      <td>😂</td>\n",
              "    </tr>\n",
              "    <tr>\n",
              "      <th>19</th>\n",
              "      <td>25jan   اعوذ بالله مايسوي هذا الرز اللي تحكوا ...</td>\n",
              "      <td>sympathy</td>\n",
              "      <td>2</td>\n",
              "      <td>1</td>\n",
              "      <td>💔</td>\n",
              "    </tr>\n",
              "    <tr>\n",
              "      <th>24</th>\n",
              "      <td>بعثه مصر في الاوليمبياد رايحه تتفرج زيها زينا 😂😂</td>\n",
              "      <td>none</td>\n",
              "      <td>1</td>\n",
              "      <td>2</td>\n",
              "      <td>😂 😂</td>\n",
              "    </tr>\n",
              "    <tr>\n",
              "      <th>27</th>\n",
              "      <td>: كل التوفيق للجهاز الاداري بقياده عبدالعزيز ا...</td>\n",
              "      <td>sympathy</td>\n",
              "      <td>1</td>\n",
              "      <td>3</td>\n",
              "      <td>💚 💚 💚</td>\n",
              "    </tr>\n",
              "    <tr>\n",
              "      <th>...</th>\n",
              "      <td>...</td>\n",
              "      <td>...</td>\n",
              "      <td>...</td>\n",
              "      <td>...</td>\n",
              "      <td>...</td>\n",
              "    </tr>\n",
              "    <tr>\n",
              "      <th>10048</th>\n",
              "      <td>تدري وش اللي مَ يخليني انساك ؟اني لا جيِت احب ...</td>\n",
              "      <td>love</td>\n",
              "      <td>1</td>\n",
              "      <td>1</td>\n",
              "      <td>💙</td>\n",
              "    </tr>\n",
              "    <tr>\n",
              "      <th>10056</th>\n",
              "      <td>للامانه كنت متعاطفه مع هيلاري كثير لانها حرمه ...</td>\n",
              "      <td>sympathy</td>\n",
              "      <td>1</td>\n",
              "      <td>1</td>\n",
              "      <td>😁</td>\n",
              "    </tr>\n",
              "    <tr>\n",
              "      <th>10057</th>\n",
              "      <td>كنت خايفه من هاد اليوم 💔💔💔 فاقولنا يا جدك  الج...</td>\n",
              "      <td>fear</td>\n",
              "      <td>2</td>\n",
              "      <td>3</td>\n",
              "      <td>💔 💔 💔</td>\n",
              "    </tr>\n",
              "    <tr>\n",
              "      <th>10060</th>\n",
              "      <td>Mohamed5: اييييه دااا 😲😲 اوزيييل❤</td>\n",
              "      <td>surprise</td>\n",
              "      <td>0</td>\n",
              "      <td>3</td>\n",
              "      <td>😲 😲 ❤</td>\n",
              "    </tr>\n",
              "    <tr>\n",
              "      <th>10061</th>\n",
              "      <td>عملتلها ريتويت بمناسبه ساره بتاعه الاوليمبياد 😃</td>\n",
              "      <td>none</td>\n",
              "      <td>0</td>\n",
              "      <td>1</td>\n",
              "      <td>😃</td>\n",
              "    </tr>\n",
              "  </tbody>\n",
              "</table>\n",
              "<p>1906 rows × 5 columns</p>\n",
              "</div>"
            ],
            "text/plain": [
              "                                                    text     label  \\\n",
              "12     يا ويل  قلبي منه ي كثر ما اغليه ويا كثر ماله ف...      love   \n",
              "18     المفروض يلغوها من الاوليمبياد وندخل الاسكواش م...      none   \n",
              "19     25jan   اعوذ بالله مايسوي هذا الرز اللي تحكوا ...  sympathy   \n",
              "24      بعثه مصر في الاوليمبياد رايحه تتفرج زيها زينا 😂😂      none   \n",
              "27     : كل التوفيق للجهاز الاداري بقياده عبدالعزيز ا...  sympathy   \n",
              "...                                                  ...       ...   \n",
              "10048  تدري وش اللي مَ يخليني انساك ؟اني لا جيِت احب ...      love   \n",
              "10056  للامانه كنت متعاطفه مع هيلاري كثير لانها حرمه ...  sympathy   \n",
              "10057  كنت خايفه من هاد اليوم 💔💔💔 فاقولنا يا جدك  الج...      fear   \n",
              "10060                  Mohamed5: اييييه دااا 😲😲 اوزيييل❤  surprise   \n",
              "10061    عملتلها ريتويت بمناسبه ساره بتاعه الاوليمبياد 😃      none   \n",
              "\n",
              "       stop_words  emoji_count  emoji  \n",
              "12              6            1      ❤  \n",
              "18              1            1      😂  \n",
              "19              2            1      💔  \n",
              "24              1            2    😂 😂  \n",
              "27              1            3  💚 💚 💚  \n",
              "...           ...          ...    ...  \n",
              "10048           1            1      💙  \n",
              "10056           1            1      😁  \n",
              "10057           2            3  💔 💔 💔  \n",
              "10060           0            3  😲 😲 ❤  \n",
              "10061           0            1      😃  \n",
              "\n",
              "[1906 rows x 5 columns]"
            ]
          },
          "execution_count": 25,
          "metadata": {},
          "output_type": "execute_result"
        }
      ],
      "source": [
        "emojis_data"
      ]
    },
    {
      "cell_type": "code",
      "execution_count": null,
      "id": "e73ffaae",
      "metadata": {
        "id": "e73ffaae",
        "outputId": "0bde90a8-439a-4d8e-eb07-7bca64fd08d9"
      },
      "outputs": [
        {
          "data": {
            "text/plain": [
              "😂     730\n",
              "💔     282\n",
              "❤     159\n",
              "❤️    151\n",
              "😍     132\n",
              "😭     122\n",
              "😢      86\n",
              "♥      86\n",
              "✋      83\n",
              "😔      74\n",
              "dtype: int64"
            ]
          },
          "execution_count": 26,
          "metadata": {},
          "output_type": "execute_result"
        }
      ],
      "source": [
        "#find most repeated emojis\n",
        "pd.Series(' '.join(emojis_data['emoji']).split()).value_counts()[:10]"
      ]
    },
    {
      "cell_type": "markdown",
      "id": "a4a05c69",
      "metadata": {
        "id": "a4a05c69"
      },
      "source": [
        "Face With Tears of Joy is the most repeated emoji"
      ]
    },
    {
      "cell_type": "code",
      "execution_count": null,
      "id": "f6699b5f",
      "metadata": {
        "id": "f6699b5f",
        "outputId": "5d239938-6538-4535-a61a-18b6bd021592"
      },
      "outputs": [
        {
          "data": {
            "text/plain": [
              "'والقلبُ متلهّفٌ؛ لنعيمٍ سرمدي❤️'"
            ]
          },
          "execution_count": 27,
          "metadata": {},
          "output_type": "execute_result"
        }
      ],
      "source": [
        "df.text.iloc[99]"
      ]
    },
    {
      "cell_type": "markdown",
      "id": "bef7c5eb",
      "metadata": {
        "id": "bef7c5eb"
      },
      "source": [
        "After Exploring some records we found Diacritics in the dataset and we should put this in our considerations"
      ]
    },
    {
      "cell_type": "markdown",
      "id": "4ce4ca01",
      "metadata": {
        "id": "4ce4ca01"
      },
      "source": [
        "### Assessing Results"
      ]
    },
    {
      "cell_type": "markdown",
      "id": "e40a157a",
      "metadata": {
        "id": "e40a157a"
      },
      "source": [
        "- The data contains null values\n",
        "- The data contains duplicated values\n",
        "- The data is balanced and contains 8 classes\n",
        "- About 20% of the data contains emojis\n",
        "- More than 85% of the text in each records contains stopwords\n",
        "- the data contains Diacritics \n",
        "- The data contains Punctuations, Disapprobation words and hashtags and other things that we should take care during cleaning and preprocessing"
      ]
    },
    {
      "cell_type": "markdown",
      "id": "8bf14746",
      "metadata": {
        "id": "8bf14746"
      },
      "source": [
        "## Cleaning"
      ]
    },
    {
      "cell_type": "markdown",
      "id": "876917e4",
      "metadata": {
        "id": "876917e4"
      },
      "source": [
        "### Functions"
      ]
    },
    {
      "cell_type": "code",
      "execution_count": null,
      "id": "f4d8fe0d",
      "metadata": {
        "id": "f4d8fe0d"
      },
      "outputs": [],
      "source": [
        "def remove_stop_words(text):\n",
        "    Text=[i for i in str(text).split() if i not in arabic_stopwords]\n",
        "    return \" \".join(Text)\n",
        "\n",
        "def ISRI_Stemmer(text):\n",
        "    #making an object\n",
        "    stemmer = ISRIStemmer()\n",
        "    \n",
        "    #stemming each word\n",
        "    text = stemmer.stem(text)\n",
        "    text = stemmer.pre32(text)\n",
        "    text = stemmer.suf32(text)\n",
        "    \n",
        "    return text\n",
        "\n",
        "def Snowball_stemmer(text):\n",
        "    text = text.split()\n",
        "    #making an object\n",
        "    stemmer = SnowballStemmer(\"arabic\")\n",
        "    \n",
        "    #stemming each word\n",
        "    text=[stemmer.stem(y) for y in text]\n",
        "    \n",
        "    return \" \" .join(text)\n",
        "\n",
        "def Arabic_Light_Stemmer(text):\n",
        "    #making an object\n",
        "    Arabic_Stemmer = ArabicLightStemmer()\n",
        "    \n",
        "    #stemming each word\n",
        "    text=[Arabic_Stemmer.light_stem(y) for y in text.split()]\n",
        "    \n",
        "    return \" \" .join(text)\n",
        "\n",
        "def normalizeArabic(text):\n",
        "    text = text.strip()\n",
        "    text = re.sub(\"ى\", \"ي\", text)\n",
        "    text = re.sub(\"ؤ\", \"ء\", text)\n",
        "    text = re.sub(\"ئ\", \"ء\", text)\n",
        "    text = re.sub(\"ة\", \"ه\", text)\n",
        "    \n",
        "    #remove repetetions\n",
        "    text = re.sub(\"[إأٱآا]\", \"ا\", text)\n",
        "    text = text.replace('وو', 'و')\n",
        "    text = text.replace('يي', 'ي')\n",
        "    text = text.replace('ييي', 'ي')\n",
        "    text = text.replace('اا', 'ا')\n",
        "\n",
        "    ## remove extra whitespace\n",
        "    text = re.sub('\\s+', ' ', text)\n",
        "    \n",
        "    # Remove longation\n",
        "    text = re.sub(r'(.)\\1+', r\"\\1\\1\", text) \n",
        "    \n",
        "    #Strip vowels from a text, include Shadda.\n",
        "    text = araby.strip_tashkeel(text)\n",
        "    \n",
        "    #Strip diacritics from a text, include harakats and small lettres The striped marks are\n",
        "    text = araby.strip_diacritics(text)\n",
        "    text=''.join([i for i in text if not i.isdigit()])\n",
        "    return text\n",
        "\n",
        "def Removing_non_arabic(text):\n",
        "    text = re.sub('[A-Za-z]+',' ',text)\n",
        "    return text\n",
        "\n",
        "def Removing_numbers(text):\n",
        "    text=''.join([i for i in text if not i.isdigit()])\n",
        "    return text\n",
        "\n",
        "def Removing_punctuations(text):\n",
        "    ## Remove punctuations\n",
        "    text = re.sub('[%s]' % re.escape(\"\"\"!\"#$%&'()*+,،-./:;<=>؟?@[\\]^_`{|}~\"\"\"), ' ', text)\n",
        "    text = text.replace('؛',\"\", )\n",
        "    \n",
        "    ## remove extra whitespace\n",
        "    text = re.sub('\\s+', ' ', text)\n",
        "    return text.strip()\n",
        "\n",
        "def Removing_urls(text):\n",
        "    url_pattern = re.compile(r'https?://\\S+|www\\.\\S+')\n",
        "    return url_pattern.sub(r'', text)\n",
        "\n",
        "def remove_emoji(string):\n",
        "    \n",
        "    emoji_pattern = re.compile(\"[\"\n",
        "                           u\"\\U0001F600-\\U0001F64F\"  # emoticons\n",
        "                           u\"\\U0001F300-\\U0001F5FF\"  # symbols & pictographs\n",
        "                           u\"\\U0001F680-\\U0001F6FF\"  # transport & map symbols\n",
        "                           u\"\\U0001F1E0-\\U0001F1FF\"  # flags (iOS)\n",
        "                           u\"\\U00002702-\\U000027B0\"\n",
        "                           u\"\\U000024C2-\\U0001F251\"\n",
        "                           \"]+\", flags=re.UNICODE)\n",
        "    return emoji_pattern.sub(r'', string).strip()\n",
        "\n",
        "def remove_emoticons(text):\n",
        "    emoticon_pattern = re.compile(u'(' + u'|'.join(k for k in EMOTICONS) + u')')\n",
        "    return emoticon_pattern.sub(r'', text).strip()\n",
        "\n",
        "\n",
        "def convert_emoticons(text):\n",
        "    for emot in EMOTICONS:\n",
        "        text = re.sub(u'('+emot+')', \"_\".join(EMOTICONS[emot].replace(\",\",\"\").split()), text)\n",
        "    return text\n",
        "\n",
        "def convert_emojis(text):\n",
        "    for emot in UNICODE_EMO:\n",
        "        text = re.sub(r'('+emot+')', \"_\".join(UNICODE_EMO[emot].replace(\",\",\"\").replace(\":\",\"\").split()), text)\n",
        "    return text\n",
        "\n",
        "def remove_extra_Space(text):\n",
        "    ## remove extra whitespace\n",
        "    text = re.sub('\\s+', ' ', text)\n",
        "    return text\n",
        "\n",
        "def remove_small_sentences(df):\n",
        "    for i in range(len(df)):\n",
        "        if len(df.text.iloc[i].split()) < 3:\n",
        "            df.text.iloc[i] = np.nan\n",
        "            "
      ]
    },
    {
      "cell_type": "code",
      "execution_count": null,
      "id": "1da71270",
      "metadata": {
        "id": "1da71270"
      },
      "outputs": [],
      "source": [
        "cleaned_data = pd.read_excel('NileUniversity_Emotional.xlsx')"
      ]
    },
    {
      "cell_type": "code",
      "execution_count": null,
      "id": "1d96cf5a",
      "metadata": {
        "id": "1d96cf5a",
        "outputId": "02bac5d7-b6b1-4fc3-afe5-71ec5b1c00cf"
      },
      "outputs": [
        {
          "data": {
            "text/html": [
              "<div>\n",
              "<style scoped>\n",
              "    .dataframe tbody tr th:only-of-type {\n",
              "        vertical-align: middle;\n",
              "    }\n",
              "\n",
              "    .dataframe tbody tr th {\n",
              "        vertical-align: top;\n",
              "    }\n",
              "\n",
              "    .dataframe thead th {\n",
              "        text-align: right;\n",
              "    }\n",
              "</style>\n",
              "<table border=\"1\" class=\"dataframe\">\n",
              "  <thead>\n",
              "    <tr style=\"text-align: right;\">\n",
              "      <th></th>\n",
              "      <th>ID</th>\n",
              "      <th>text</th>\n",
              "      <th>label</th>\n",
              "    </tr>\n",
              "  </thead>\n",
              "  <tbody>\n",
              "    <tr>\n",
              "      <th>0</th>\n",
              "      <td>1</td>\n",
              "      <td>الاوليمبياد الجايه هكون لسه ف الكليه ..</td>\n",
              "      <td>none</td>\n",
              "    </tr>\n",
              "    <tr>\n",
              "      <th>1</th>\n",
              "      <td>2</td>\n",
              "      <td>عجز الموازنه وصل ل93.7 % من الناتج المحلي يعني...</td>\n",
              "      <td>anger</td>\n",
              "    </tr>\n",
              "    <tr>\n",
              "      <th>2</th>\n",
              "      <td>3</td>\n",
              "      <td>كتنا نيله ف حظنا الهباب xD</td>\n",
              "      <td>sadness</td>\n",
              "    </tr>\n",
              "    <tr>\n",
              "      <th>3</th>\n",
              "      <td>4</td>\n",
              "      <td>جميعنا نريد تحقيق اهدافنا لكن تونس تالقت في حر...</td>\n",
              "      <td>joy</td>\n",
              "    </tr>\n",
              "    <tr>\n",
              "      <th>4</th>\n",
              "      <td>5</td>\n",
              "      <td>الاوليمبياد نظامها مختلف .. ومواعيد المونديال ...</td>\n",
              "      <td>none</td>\n",
              "    </tr>\n",
              "  </tbody>\n",
              "</table>\n",
              "</div>"
            ],
            "text/plain": [
              "   ID                                               text    label\n",
              "0   1            الاوليمبياد الجايه هكون لسه ف الكليه ..     none\n",
              "1   2  عجز الموازنه وصل ل93.7 % من الناتج المحلي يعني...    anger\n",
              "2   3                         كتنا نيله ف حظنا الهباب xD  sadness\n",
              "3   4  جميعنا نريد تحقيق اهدافنا لكن تونس تالقت في حر...      joy\n",
              "4   5  الاوليمبياد نظامها مختلف .. ومواعيد المونديال ...     none"
            ]
          },
          "execution_count": 157,
          "metadata": {},
          "output_type": "execute_result"
        }
      ],
      "source": [
        "cleaned_data.head()"
      ]
    },
    {
      "cell_type": "markdown",
      "id": "47e8bbe6",
      "metadata": {
        "id": "47e8bbe6"
      },
      "source": [
        "**drop unnecessary columns**"
      ]
    },
    {
      "cell_type": "code",
      "execution_count": null,
      "id": "20d6f4a0",
      "metadata": {
        "id": "20d6f4a0"
      },
      "outputs": [],
      "source": [
        "cleaned_data.drop('ID', axis=1,inplace=True)"
      ]
    },
    {
      "cell_type": "markdown",
      "id": "cb7cd6a7",
      "metadata": {
        "id": "cb7cd6a7"
      },
      "source": [
        "**removing null values**"
      ]
    },
    {
      "cell_type": "code",
      "execution_count": null,
      "id": "93059648",
      "metadata": {
        "id": "93059648"
      },
      "outputs": [],
      "source": [
        "cleaned_data.drop(8619, axis=0, inplace = True)"
      ]
    },
    {
      "cell_type": "code",
      "execution_count": null,
      "id": "ea3f4d1a",
      "metadata": {
        "id": "ea3f4d1a",
        "outputId": "94830003-2861-40da-bf89-b76100cea171"
      },
      "outputs": [
        {
          "data": {
            "text/plain": [
              "text           0\n",
              "label          0\n",
              "stop_words     0\n",
              "emoji_count    0\n",
              "dtype: int64"
            ]
          },
          "execution_count": 160,
          "metadata": {},
          "output_type": "execute_result"
        }
      ],
      "source": [
        "#Before\n",
        "df.isnull().sum()"
      ]
    },
    {
      "cell_type": "code",
      "execution_count": null,
      "id": "41bafd35",
      "metadata": {
        "id": "41bafd35",
        "outputId": "0add0e27-d279-4bff-979b-663c433222aa"
      },
      "outputs": [
        {
          "data": {
            "text/plain": [
              "text     0\n",
              "label    0\n",
              "dtype: int64"
            ]
          },
          "execution_count": 161,
          "metadata": {},
          "output_type": "execute_result"
        }
      ],
      "source": [
        "#Ater\n",
        "cleaned_data.isnull().sum()"
      ]
    },
    {
      "cell_type": "markdown",
      "id": "5932e47b",
      "metadata": {
        "id": "5932e47b"
      },
      "source": [
        "**removing duplicated values**"
      ]
    },
    {
      "cell_type": "code",
      "execution_count": null,
      "id": "84cde057",
      "metadata": {
        "id": "84cde057"
      },
      "outputs": [],
      "source": [
        "index = cleaned_data[cleaned_data['text'].duplicated() == True].index\n",
        "cleaned_data.drop(index, axis = 0, inplace = True)\n",
        "\n",
        "#resetting the index of the data\n",
        "cleaned_data.reset_index(drop=True, inplace = True)"
      ]
    },
    {
      "cell_type": "code",
      "execution_count": null,
      "id": "b4dd1249",
      "metadata": {
        "id": "b4dd1249",
        "outputId": "e7b136fe-f67a-4b18-fb69-35e53ec7acac"
      },
      "outputs": [
        {
          "data": {
            "text/plain": [
              "0"
            ]
          },
          "execution_count": 163,
          "metadata": {},
          "output_type": "execute_result"
        }
      ],
      "source": [
        "#Before\n",
        "df.duplicated().sum()"
      ]
    },
    {
      "cell_type": "code",
      "execution_count": null,
      "id": "c805e358",
      "metadata": {
        "id": "c805e358",
        "outputId": "7c1c32f3-f662-425b-d706-5a0010a0eebf"
      },
      "outputs": [
        {
          "data": {
            "text/plain": [
              "0"
            ]
          },
          "execution_count": 164,
          "metadata": {},
          "output_type": "execute_result"
        }
      ],
      "source": [
        "#Ater\n",
        "cleaned_data.duplicated().sum()"
      ]
    },
    {
      "cell_type": "markdown",
      "id": "79807397",
      "metadata": {
        "id": "79807397"
      },
      "source": [
        "**removing arabic stopwords**"
      ]
    },
    {
      "cell_type": "code",
      "execution_count": null,
      "id": "85533026",
      "metadata": {
        "id": "85533026"
      },
      "outputs": [],
      "source": [
        "cleaned_data.text=cleaned_data.text.apply(lambda text : remove_stop_words(text))"
      ]
    },
    {
      "cell_type": "code",
      "execution_count": null,
      "id": "d9d2fd56",
      "metadata": {
        "id": "d9d2fd56",
        "outputId": "8b92c272-b279-4b34-c96b-c6e75dd63006"
      },
      "outputs": [
        {
          "data": {
            "text/plain": [
              "'كتنا نيله ف حظنا الهباب xD'"
            ]
          },
          "execution_count": 166,
          "metadata": {},
          "output_type": "execute_result"
        }
      ],
      "source": [
        "#Before\n",
        "df.text[2]"
      ]
    },
    {
      "cell_type": "code",
      "execution_count": null,
      "id": "9c2c7962",
      "metadata": {
        "id": "9c2c7962",
        "outputId": "c0d0405e-ae78-4859-b341-d808bf6ec21c"
      },
      "outputs": [
        {
          "data": {
            "text/plain": [
              "'عجز الموازنه وصل ل93.7 % الناتج المحلي يعني لسه اقل 7 % نفلس بهايم لسه يتابعوا الاوليمبياد'"
            ]
          },
          "execution_count": 167,
          "metadata": {},
          "output_type": "execute_result"
        }
      ],
      "source": [
        "#After\n",
        "cleaned_data.text[1]"
      ]
    },
    {
      "cell_type": "markdown",
      "id": "a46a3201",
      "metadata": {
        "id": "a46a3201"
      },
      "source": [
        "**Removal of non-Arabic words**"
      ]
    },
    {
      "cell_type": "code",
      "execution_count": null,
      "id": "5d8e73b6",
      "metadata": {
        "id": "5d8e73b6"
      },
      "outputs": [],
      "source": [
        "cleaned_data.text=cleaned_data.text.apply(lambda text : Removing_non_arabic(text))"
      ]
    },
    {
      "cell_type": "code",
      "execution_count": null,
      "id": "2f498876",
      "metadata": {
        "id": "2f498876",
        "outputId": "caceae51-29ee-4fb6-a2a0-b96d1239afe5"
      },
      "outputs": [
        {
          "data": {
            "text/plain": [
              "'Mohamed5: اييييه دااا 😲😲 اوزيييل❤'"
            ]
          },
          "execution_count": 169,
          "metadata": {},
          "output_type": "execute_result"
        }
      ],
      "source": [
        "#Before\n",
        "df.text.iloc[10016]"
      ]
    },
    {
      "cell_type": "code",
      "execution_count": null,
      "id": "dfd5e916",
      "metadata": {
        "id": "dfd5e916",
        "outputId": "346af389-0b8b-4066-d4f9-e6a114cdbe4a"
      },
      "outputs": [
        {
          "data": {
            "text/plain": [
              "' 5: اييييه دااا 😲😲 اوزيييل❤'"
            ]
          },
          "execution_count": 170,
          "metadata": {},
          "output_type": "execute_result"
        }
      ],
      "source": [
        "#After\n",
        "cleaned_data.iloc[10016].text"
      ]
    },
    {
      "cell_type": "markdown",
      "id": "1c9b0b66",
      "metadata": {
        "id": "1c9b0b66"
      },
      "source": [
        "**removing Diacritics**"
      ]
    },
    {
      "cell_type": "code",
      "execution_count": null,
      "id": "e4d59a53",
      "metadata": {
        "scrolled": true,
        "id": "e4d59a53"
      },
      "outputs": [],
      "source": [
        "cleaned_data.text=cleaned_data.text.apply(lambda text : normalizeArabic(text))"
      ]
    },
    {
      "cell_type": "code",
      "execution_count": null,
      "id": "916f5d03",
      "metadata": {
        "id": "916f5d03",
        "outputId": "adf95094-e7c7-4934-b38f-6e3353c7d769"
      },
      "outputs": [
        {
          "data": {
            "text/plain": [
              "'والقلبُ متلهّفٌ؛ لنعيمٍ سرمدي❤️'"
            ]
          },
          "execution_count": 172,
          "metadata": {},
          "output_type": "execute_result"
        }
      ],
      "source": [
        "df.text.iloc[99]"
      ]
    },
    {
      "cell_type": "code",
      "execution_count": null,
      "id": "8439ace7",
      "metadata": {
        "id": "8439ace7",
        "outputId": "7a37dc33-087a-4700-e4d4-3b29ccf48613"
      },
      "outputs": [
        {
          "data": {
            "text/plain": [
              "'والقلب متلهف؛ لنعيم سرمدي❤️'"
            ]
          },
          "execution_count": 173,
          "metadata": {},
          "output_type": "execute_result"
        }
      ],
      "source": [
        "cleaned_data.text.iloc[99]"
      ]
    },
    {
      "cell_type": "markdown",
      "id": "9418fef4",
      "metadata": {
        "id": "9418fef4"
      },
      "source": [
        "**Removal of numbers**"
      ]
    },
    {
      "cell_type": "code",
      "execution_count": null,
      "id": "f292c65e",
      "metadata": {
        "id": "f292c65e"
      },
      "outputs": [],
      "source": [
        "cleaned_data.text=cleaned_data.text.apply(lambda text : Removing_numbers(text))"
      ]
    },
    {
      "cell_type": "code",
      "execution_count": null,
      "id": "d6c2360d",
      "metadata": {
        "id": "d6c2360d",
        "outputId": "771cbc1a-2cdb-404e-889d-73df8d08173f"
      },
      "outputs": [
        {
          "data": {
            "text/plain": [
              "'2222: يلا يا جماعه حفله عمرو دياب خلصت نريح شويه ونبدا نكتئب ونعشم نفسنا اننا هنروح الحفله التانيه وبعدين نقطع شرايينا يلا.'"
            ]
          },
          "execution_count": 175,
          "metadata": {},
          "output_type": "execute_result"
        }
      ],
      "source": [
        "#Before\n",
        "df.text.iloc[10015]"
      ]
    },
    {
      "cell_type": "code",
      "execution_count": null,
      "id": "5cf66916",
      "metadata": {
        "id": "5cf66916",
        "outputId": "111521a3-58fa-458f-a761-4a5862aae766"
      },
      "outputs": [
        {
          "data": {
            "text/plain": [
              "': يلا جماعه حفله عمرو دياب خلصت نريح شويه ونبدا نكتءب ونعشم نفسنا اننا هنروح الحفله التانيه وبعدين نقطع شراينا يلا.'"
            ]
          },
          "execution_count": 176,
          "metadata": {},
          "output_type": "execute_result"
        }
      ],
      "source": [
        "cleaned_data.iloc[10015].text"
      ]
    },
    {
      "cell_type": "markdown",
      "id": "b839921e",
      "metadata": {
        "id": "b839921e"
      },
      "source": [
        "**Removing Hastags**"
      ]
    },
    {
      "cell_type": "code",
      "execution_count": null,
      "id": "bec66351",
      "metadata": {
        "id": "bec66351"
      },
      "outputs": [],
      "source": [
        "for i in range(len(cleaned_data)):\n",
        "    index = cleaned_data.text.iloc[i].find(\"#\")\n",
        "    if index != -1:\n",
        "        print(index)"
      ]
    },
    {
      "cell_type": "markdown",
      "id": "694841c4",
      "metadata": {
        "id": "694841c4"
      },
      "source": [
        "it seems that the data doesn't contains hastgas"
      ]
    },
    {
      "cell_type": "markdown",
      "id": "c1d1e658",
      "metadata": {
        "id": "c1d1e658"
      },
      "source": [
        "**Removal of Links**"
      ]
    },
    {
      "cell_type": "code",
      "execution_count": null,
      "id": "fcf8ad86",
      "metadata": {
        "id": "fcf8ad86"
      },
      "outputs": [],
      "source": [
        "cleaned_data.text=cleaned_data.text.apply(lambda text : Removing_urls(text))"
      ]
    },
    {
      "cell_type": "markdown",
      "id": "14979c4a",
      "metadata": {
        "id": "14979c4a"
      },
      "source": [
        "**Remove Emotions and Emotioncs**"
      ]
    },
    {
      "cell_type": "code",
      "execution_count": null,
      "id": "6e7a5cf3",
      "metadata": {
        "id": "6e7a5cf3"
      },
      "outputs": [],
      "source": [
        "cleaned_data.text=cleaned_data.text.apply(lambda text : remove_emoji(text))\n"
      ]
    },
    {
      "cell_type": "code",
      "execution_count": null,
      "id": "bd920ccc",
      "metadata": {
        "id": "bd920ccc",
        "outputId": "0ae2973d-5cce-4f5f-974a-bd91c2d91a38"
      },
      "outputs": [
        {
          "data": {
            "text/plain": [
              "'Mohamed5: اييييه دااا 😲😲 اوزيييل❤'"
            ]
          },
          "execution_count": 180,
          "metadata": {},
          "output_type": "execute_result"
        }
      ],
      "source": [
        "#Before\n",
        "df.text.iloc[10016]"
      ]
    },
    {
      "cell_type": "code",
      "execution_count": null,
      "id": "b9f311e5",
      "metadata": {
        "id": "b9f311e5",
        "outputId": "c6d4063f-2a77-4698-d4ab-5c10c42fa8e6"
      },
      "outputs": [
        {
          "data": {
            "text/plain": [
              "': اييه داا  اوزييل'"
            ]
          },
          "execution_count": 181,
          "metadata": {},
          "output_type": "execute_result"
        }
      ],
      "source": [
        "#After\n",
        "cleaned_data.text.iloc[10016]"
      ]
    },
    {
      "cell_type": "code",
      "execution_count": null,
      "id": "db4143f0",
      "metadata": {
        "id": "db4143f0"
      },
      "outputs": [],
      "source": [
        "cleaned_data.text=cleaned_data.text.apply(lambda text : remove_emoticons(text))"
      ]
    },
    {
      "cell_type": "code",
      "execution_count": null,
      "id": "8b18b91f",
      "metadata": {
        "id": "8b18b91f",
        "outputId": "5e2a0f02-c1f8-4002-931c-c87aaf02eb31"
      },
      "outputs": [
        {
          "data": {
            "text/plain": [
              "'كتنا نيله ف حظنا الهباب xD'"
            ]
          },
          "execution_count": 183,
          "metadata": {},
          "output_type": "execute_result"
        }
      ],
      "source": [
        "#Before\n",
        "df.iloc[2].text"
      ]
    },
    {
      "cell_type": "code",
      "execution_count": null,
      "id": "49557a1b",
      "metadata": {
        "id": "49557a1b",
        "outputId": "47725e4f-9c64-440f-c855-7c0a1857cb76"
      },
      "outputs": [
        {
          "data": {
            "text/plain": [
              "'كتنا نيله حظنا الهباب'"
            ]
          },
          "execution_count": 184,
          "metadata": {},
          "output_type": "execute_result"
        }
      ],
      "source": [
        "cleaned_data.iloc[2].text"
      ]
    },
    {
      "cell_type": "markdown",
      "id": "1aa6e6d6",
      "metadata": {
        "id": "1aa6e6d6"
      },
      "source": [
        "**Removing Punctuations**"
      ]
    },
    {
      "cell_type": "code",
      "execution_count": null,
      "id": "f5e1b111",
      "metadata": {
        "id": "f5e1b111"
      },
      "outputs": [],
      "source": [
        "cleaned_data.text=cleaned_data.text.apply(lambda text : Removing_punctuations(text))"
      ]
    },
    {
      "cell_type": "code",
      "execution_count": null,
      "id": "5ac494d9",
      "metadata": {
        "id": "5ac494d9",
        "outputId": "c177c967-f25e-4020-bf81-7b72f4840a4c"
      },
      "outputs": [
        {
          "data": {
            "text/plain": [
              "'الاوليمبياد الجايه هكون لسه ف الكليه ..'"
            ]
          },
          "execution_count": 186,
          "metadata": {},
          "output_type": "execute_result"
        }
      ],
      "source": [
        "#Before\n",
        "df.text.iloc[0]"
      ]
    },
    {
      "cell_type": "code",
      "execution_count": null,
      "id": "28e1e9ec",
      "metadata": {
        "id": "28e1e9ec",
        "outputId": "22286f49-c92f-45c9-e3d2-b0e20ef54968"
      },
      "outputs": [
        {
          "data": {
            "text/plain": [
              "'الاوليمبياد الجايه هكون لسه الكليه'"
            ]
          },
          "execution_count": 187,
          "metadata": {},
          "output_type": "execute_result"
        }
      ],
      "source": [
        "#After\n",
        "cleaned_data.text.iloc[0]"
      ]
    },
    {
      "cell_type": "markdown",
      "id": "0bac8121",
      "metadata": {
        "id": "0bac8121"
      },
      "source": [
        "**Reducing words to their roots**"
      ]
    },
    {
      "cell_type": "code",
      "execution_count": null,
      "id": "340d6b48",
      "metadata": {
        "id": "340d6b48"
      },
      "outputs": [],
      "source": [
        "cleaned_data.text=cleaned_data.text.apply(lambda text : Arabic_Light_Stemmer(text))"
      ]
    },
    {
      "cell_type": "code",
      "execution_count": null,
      "id": "cc11a598",
      "metadata": {
        "id": "cc11a598",
        "outputId": "30ba2cfd-e495-4c41-d99f-41f992f8ab25"
      },
      "outputs": [
        {
          "data": {
            "text/plain": [
              "153"
            ]
          },
          "execution_count": 189,
          "metadata": {},
          "output_type": "execute_result"
        }
      ],
      "source": [
        "cleaned_data.duplicated().sum()"
      ]
    },
    {
      "cell_type": "markdown",
      "id": "f8feb31a",
      "metadata": {
        "id": "f8feb31a"
      },
      "source": [
        "Note that: duplicated value was found when we remove diacritics and non arabic words and punctuations and this because some rows in the dataset only contains stopwords or it contains one or two words and other reasons so, we have to remove the duplicated values again"
      ]
    },
    {
      "cell_type": "code",
      "execution_count": null,
      "id": "d05132f9",
      "metadata": {
        "id": "d05132f9"
      },
      "outputs": [],
      "source": [
        "index = cleaned_data[cleaned_data['text'].duplicated() == True].index\n",
        "cleaned_data.drop(index, axis = 0, inplace = True)\n",
        "\n",
        "#resetting the index of the data\n",
        "cleaned_data.reset_index(drop=True, inplace = True)"
      ]
    },
    {
      "cell_type": "code",
      "execution_count": null,
      "id": "f49ed30a",
      "metadata": {
        "id": "f49ed30a",
        "outputId": "84e73a9c-c504-4963-8a69-09f52ae8dbe4"
      },
      "outputs": [
        {
          "data": {
            "text/plain": [
              "0"
            ]
          },
          "execution_count": 191,
          "metadata": {},
          "output_type": "execute_result"
        }
      ],
      "source": [
        "cleaned_data.duplicated().sum()"
      ]
    },
    {
      "cell_type": "markdown",
      "id": "31740772",
      "metadata": {
        "id": "31740772"
      },
      "source": [
        "After removing the duplicated values we will remove every row which contains only one or two words berfore preprocessing"
      ]
    },
    {
      "cell_type": "code",
      "execution_count": null,
      "id": "f551a4cf",
      "metadata": {
        "id": "f551a4cf"
      },
      "outputs": [],
      "source": [
        "#this function will convert the text which contains one or two words into null value\n",
        "remove_small_sentences(cleaned_data)"
      ]
    },
    {
      "cell_type": "code",
      "execution_count": null,
      "id": "9fbc5b11",
      "metadata": {
        "id": "9fbc5b11",
        "outputId": "30364134-caa2-4f5d-e05c-7b462a5d00a6"
      },
      "outputs": [
        {
          "data": {
            "text/plain": [
              "text     281\n",
              "label      0\n",
              "dtype: int64"
            ]
          },
          "execution_count": 193,
          "metadata": {},
          "output_type": "execute_result"
        }
      ],
      "source": [
        "cleaned_data.isnull().sum()"
      ]
    },
    {
      "cell_type": "code",
      "execution_count": null,
      "id": "5d182a6f",
      "metadata": {
        "id": "5d182a6f"
      },
      "outputs": [],
      "source": [
        "cleaned_data.dropna(inplace = True)"
      ]
    },
    {
      "cell_type": "code",
      "execution_count": null,
      "id": "05f6d288",
      "metadata": {
        "id": "05f6d288"
      },
      "outputs": [],
      "source": [
        "cleaned_data.to_csv('cleaned_data_IRIS.csv', index = False, encoding='utf-8-sig')"
      ]
    },
    {
      "cell_type": "markdown",
      "id": "58977c51",
      "metadata": {
        "id": "58977c51"
      },
      "source": [
        "## Modeling"
      ]
    },
    {
      "cell_type": "code",
      "execution_count": null,
      "id": "6e7ace54",
      "metadata": {
        "id": "6e7ace54"
      },
      "outputs": [],
      "source": [
        "X = cleaned_data.text.values\n",
        "y = cleaned_data.label.values"
      ]
    },
    {
      "cell_type": "code",
      "execution_count": null,
      "id": "bfd86e0c",
      "metadata": {
        "id": "bfd86e0c",
        "outputId": "5a55c87c-7e85-4262-b479-1156741af3b5"
      },
      "outputs": [
        {
          "name": "stdout",
          "output_type": "stream",
          "text": [
            "['الاوليمبياد جايه هك سه كليه'\n",
            " 'عجز موازنه صل ل ناتج محل عني سه قل فلس هايم سه تابع الاوليمبياد'\n",
            " 'تنا يل حظ هباب' 'جميع ريد حقيق هداف ونس تالق حراس مرم'\n",
            " 'الاوليمبياد ظام مختلف مواعيد مونديال مكانتش مقرف حاج انت معقول']\n"
          ]
        }
      ],
      "source": [
        "print(X[:5])"
      ]
    },
    {
      "cell_type": "code",
      "execution_count": null,
      "id": "7855a841",
      "metadata": {
        "id": "7855a841",
        "outputId": "78113750-44b5-417a-de61-408b6df1204c"
      },
      "outputs": [
        {
          "name": "stdout",
          "output_type": "stream",
          "text": [
            "['none' 'anger' 'sadness' 'joy' 'none']\n"
          ]
        }
      ],
      "source": [
        "print(y[:5])"
      ]
    },
    {
      "cell_type": "markdown",
      "id": "702d1cd4",
      "metadata": {
        "id": "702d1cd4"
      },
      "source": [
        "**Creating a pipline using tf-idf for words embedding and different models.**"
      ]
    },
    {
      "cell_type": "code",
      "execution_count": null,
      "id": "9e798669",
      "metadata": {
        "id": "9e798669"
      },
      "outputs": [],
      "source": [
        "def train_model(model, data, targets):\n",
        "    text_clf = Pipeline([('vect',TfidfVectorizer()),\n",
        "                         ('clf', model)])\n",
        "    text_clf.fit(data, targets)\n",
        "    return text_clf"
      ]
    },
    {
      "cell_type": "code",
      "execution_count": null,
      "id": "f522610e",
      "metadata": {
        "id": "f522610e"
      },
      "outputs": [],
      "source": [
        "def get_F1(trained_model,X,y):\n",
        "    predicted=trained_model.predict(X)\n",
        "    f1=f1_score(y,predicted, average=None)\n",
        "    return f1"
      ]
    },
    {
      "cell_type": "markdown",
      "id": "dd33e926",
      "metadata": {
        "id": "dd33e926"
      },
      "source": [
        "**Splitting the dataset into the Training set and Test set**"
      ]
    },
    {
      "cell_type": "code",
      "execution_count": null,
      "id": "b8994c1b",
      "metadata": {
        "id": "b8994c1b"
      },
      "outputs": [],
      "source": [
        "X_train, X_test, y_train, y_test = train_test_split(X,y, test_size=0.2,shuffle=True, random_state=42)"
      ]
    },
    {
      "cell_type": "markdown",
      "id": "d07e2e03",
      "metadata": {
        "id": "d07e2e03"
      },
      "source": [
        "### Logistic Regression"
      ]
    },
    {
      "cell_type": "markdown",
      "id": "0500fba7",
      "metadata": {
        "id": "0500fba7"
      },
      "source": [
        "**Training the Logistic Regression model on the Training set**"
      ]
    },
    {
      "cell_type": "code",
      "execution_count": null,
      "id": "6f49b655",
      "metadata": {
        "scrolled": true,
        "id": "6f49b655"
      },
      "outputs": [],
      "source": [
        "log_reg = train_model(LogisticRegression(random_state = 0), X_train, y_train)"
      ]
    },
    {
      "cell_type": "markdown",
      "id": "63b94f14",
      "metadata": {
        "id": "63b94f14"
      },
      "source": [
        "**Predicting new data**"
      ]
    },
    {
      "cell_type": "code",
      "execution_count": null,
      "id": "d8935be5",
      "metadata": {
        "id": "d8935be5",
        "outputId": "97b04a1b-6366-48a0-b2e6-8ba6c8ed32ed"
      },
      "outputs": [
        {
          "data": {
            "text/plain": [
              "array(['joy'], dtype=object)"
            ]
          },
          "execution_count": 203,
          "metadata": {},
          "output_type": "execute_result"
        }
      ],
      "source": [
        "y_pred=log_reg.predict(['سعيد'])\n",
        "y_pred"
      ]
    },
    {
      "cell_type": "code",
      "execution_count": null,
      "id": "eaa72142",
      "metadata": {
        "id": "eaa72142",
        "outputId": "1ded0a2e-d7fa-4e6a-f025-c4e2f586319f"
      },
      "outputs": [
        {
          "data": {
            "text/plain": [
              "array(['sadness'], dtype=object)"
            ]
          },
          "execution_count": 204,
          "metadata": {},
          "output_type": "execute_result"
        }
      ],
      "source": [
        "y_pred=log_reg.predict(['حزن'])\n",
        "y_pred"
      ]
    },
    {
      "cell_type": "code",
      "execution_count": null,
      "id": "89cccc14",
      "metadata": {
        "id": "89cccc14",
        "outputId": "b4c24822-441c-4412-89ac-004a05fe579c"
      },
      "outputs": [
        {
          "data": {
            "text/plain": [
              "array(['surprise'], dtype=object)"
            ]
          },
          "execution_count": 205,
          "metadata": {},
          "output_type": "execute_result"
        }
      ],
      "source": [
        "y_pred=log_reg.predict(['مستغرب'])\n",
        "y_pred"
      ]
    },
    {
      "cell_type": "markdown",
      "id": "10bc6b89",
      "metadata": {
        "id": "10bc6b89"
      },
      "source": [
        "**Predicting the Test set results**"
      ]
    },
    {
      "cell_type": "code",
      "execution_count": null,
      "id": "760634a2",
      "metadata": {
        "id": "760634a2"
      },
      "outputs": [],
      "source": [
        "y_pred=log_reg.predict(X_test)"
      ]
    },
    {
      "cell_type": "markdown",
      "id": "c05fe513",
      "metadata": {
        "id": "c05fe513"
      },
      "source": [
        "**Measuring the performance**"
      ]
    },
    {
      "cell_type": "code",
      "execution_count": null,
      "id": "7c1cf122",
      "metadata": {
        "id": "7c1cf122",
        "outputId": "1092d480-16b8-482d-c204-c97d3f292b0c"
      },
      "outputs": [
        {
          "name": "stdout",
          "output_type": "stream",
          "text": [
            "Accuracy:  0.6600522193211488 \n",
            "\n"
          ]
        }
      ],
      "source": [
        "log_reg_accuracy = accuracy_score(y_test, y_pred)\n",
        "print('Accuracy: ', log_reg_accuracy,'\\n')"
      ]
    },
    {
      "cell_type": "code",
      "execution_count": null,
      "id": "e826d2d7",
      "metadata": {
        "id": "e826d2d7",
        "outputId": "4b193d11-a5c1-4276-a659-6b87a754cadf"
      },
      "outputs": [
        {
          "data": {
            "text/html": [
              "<div>\n",
              "<style scoped>\n",
              "    .dataframe tbody tr th:only-of-type {\n",
              "        vertical-align: middle;\n",
              "    }\n",
              "\n",
              "    .dataframe tbody tr th {\n",
              "        vertical-align: top;\n",
              "    }\n",
              "\n",
              "    .dataframe thead th {\n",
              "        text-align: right;\n",
              "    }\n",
              "</style>\n",
              "<table border=\"1\" class=\"dataframe\">\n",
              "  <thead>\n",
              "    <tr style=\"text-align: right;\">\n",
              "      <th></th>\n",
              "      <th>F1 score</th>\n",
              "    </tr>\n",
              "  </thead>\n",
              "  <tbody>\n",
              "    <tr>\n",
              "      <th>none</th>\n",
              "      <td>0.618128</td>\n",
              "    </tr>\n",
              "    <tr>\n",
              "      <th>anger</th>\n",
              "      <td>0.910843</td>\n",
              "    </tr>\n",
              "    <tr>\n",
              "      <th>sadness</th>\n",
              "      <td>0.467662</td>\n",
              "    </tr>\n",
              "    <tr>\n",
              "      <th>joy</th>\n",
              "      <td>0.722101</td>\n",
              "    </tr>\n",
              "    <tr>\n",
              "      <th>surprise</th>\n",
              "      <td>0.752246</td>\n",
              "    </tr>\n",
              "    <tr>\n",
              "      <th>love</th>\n",
              "      <td>0.449275</td>\n",
              "    </tr>\n",
              "    <tr>\n",
              "      <th>sympathy</th>\n",
              "      <td>0.382671</td>\n",
              "    </tr>\n",
              "    <tr>\n",
              "      <th>fear</th>\n",
              "      <td>0.818402</td>\n",
              "    </tr>\n",
              "  </tbody>\n",
              "</table>\n",
              "</div>"
            ],
            "text/plain": [
              "          F1 score\n",
              "none      0.618128\n",
              "anger     0.910843\n",
              "sadness   0.467662\n",
              "joy       0.722101\n",
              "surprise  0.752246\n",
              "love      0.449275\n",
              "sympathy  0.382671\n",
              "fear      0.818402"
            ]
          },
          "execution_count": 208,
          "metadata": {},
          "output_type": "execute_result"
        }
      ],
      "source": [
        "f1_Score = get_F1(log_reg,X_test,y_test)\n",
        "pd.DataFrame(f1_Score, index=df.label.unique(), columns=['F1 score'])"
      ]
    },
    {
      "cell_type": "code",
      "execution_count": null,
      "id": "da13e914",
      "metadata": {
        "id": "da13e914",
        "outputId": "b6027c56-8d67-4d18-dc50-3d91424a8753"
      },
      "outputs": [
        {
          "name": "stdout",
          "output_type": "stream",
          "text": [
            "              precision    recall  f1-score   support\n",
            "\n",
            "       anger       0.55      0.71      0.62       292\n",
            "        fear       0.96      0.87      0.91       218\n",
            "         joy       0.59      0.39      0.47       243\n",
            "        love       0.69      0.76      0.72       218\n",
            "        none       0.64      0.92      0.75       318\n",
            "     sadness       0.52      0.40      0.45       234\n",
            "    surprise       0.60      0.28      0.38       188\n",
            "    sympathy       0.81      0.83      0.82       204\n",
            "\n",
            "    accuracy                           0.66      1915\n",
            "   macro avg       0.67      0.64      0.64      1915\n",
            "weighted avg       0.66      0.66      0.64      1915\n",
            "\n"
          ]
        }
      ],
      "source": [
        "##Classification Report\n",
        "print(classification_report(y_test, y_pred))"
      ]
    },
    {
      "cell_type": "markdown",
      "id": "02f0f6de",
      "metadata": {
        "id": "02f0f6de"
      },
      "source": [
        "### Decision Tree"
      ]
    },
    {
      "cell_type": "markdown",
      "id": "0aad2f79",
      "metadata": {
        "id": "0aad2f79"
      },
      "source": [
        "**Training the Decision Tree model on the Training set**"
      ]
    },
    {
      "cell_type": "code",
      "execution_count": null,
      "id": "70a637ed",
      "metadata": {
        "id": "70a637ed"
      },
      "outputs": [],
      "source": [
        "DT = train_model(DecisionTreeClassifier(random_state = 0), X_train, y_train)"
      ]
    },
    {
      "cell_type": "markdown",
      "id": "30aa1e94",
      "metadata": {
        "id": "30aa1e94"
      },
      "source": [
        "**Predicting the Test set results**"
      ]
    },
    {
      "cell_type": "code",
      "execution_count": null,
      "id": "a2b8e0f4",
      "metadata": {
        "id": "a2b8e0f4"
      },
      "outputs": [],
      "source": [
        "y_pred=DT.predict(X_test)"
      ]
    },
    {
      "cell_type": "markdown",
      "id": "0e25f2f7",
      "metadata": {
        "id": "0e25f2f7"
      },
      "source": [
        "**Measuring the performance**"
      ]
    },
    {
      "cell_type": "code",
      "execution_count": null,
      "id": "ed4c1763",
      "metadata": {
        "id": "ed4c1763",
        "outputId": "084217fe-ecff-47fe-e4b1-1118e8de4cc9"
      },
      "outputs": [
        {
          "name": "stdout",
          "output_type": "stream",
          "text": [
            "Accuracy:  0.5415143603133159 \n",
            "\n"
          ]
        }
      ],
      "source": [
        "DT_accuracy = accuracy_score(y_test, y_pred)\n",
        "print('Accuracy: ', DT_accuracy,'\\n')"
      ]
    },
    {
      "cell_type": "code",
      "execution_count": null,
      "id": "49c4eab8",
      "metadata": {
        "id": "49c4eab8",
        "outputId": "4ec09824-5de2-459d-a81b-8c9f9a5ecb11"
      },
      "outputs": [
        {
          "data": {
            "text/html": [
              "<div>\n",
              "<style scoped>\n",
              "    .dataframe tbody tr th:only-of-type {\n",
              "        vertical-align: middle;\n",
              "    }\n",
              "\n",
              "    .dataframe tbody tr th {\n",
              "        vertical-align: top;\n",
              "    }\n",
              "\n",
              "    .dataframe thead th {\n",
              "        text-align: right;\n",
              "    }\n",
              "</style>\n",
              "<table border=\"1\" class=\"dataframe\">\n",
              "  <thead>\n",
              "    <tr style=\"text-align: right;\">\n",
              "      <th></th>\n",
              "      <th>F1 score</th>\n",
              "    </tr>\n",
              "  </thead>\n",
              "  <tbody>\n",
              "    <tr>\n",
              "      <th>none</th>\n",
              "      <td>0.467227</td>\n",
              "    </tr>\n",
              "    <tr>\n",
              "      <th>anger</th>\n",
              "      <td>0.909091</td>\n",
              "    </tr>\n",
              "    <tr>\n",
              "      <th>sadness</th>\n",
              "      <td>0.334004</td>\n",
              "    </tr>\n",
              "    <tr>\n",
              "      <th>joy</th>\n",
              "      <td>0.565022</td>\n",
              "    </tr>\n",
              "    <tr>\n",
              "      <th>surprise</th>\n",
              "      <td>0.682927</td>\n",
              "    </tr>\n",
              "    <tr>\n",
              "      <th>love</th>\n",
              "      <td>0.308351</td>\n",
              "    </tr>\n",
              "    <tr>\n",
              "      <th>sympathy</th>\n",
              "      <td>0.352941</td>\n",
              "    </tr>\n",
              "    <tr>\n",
              "      <th>fear</th>\n",
              "      <td>0.710660</td>\n",
              "    </tr>\n",
              "  </tbody>\n",
              "</table>\n",
              "</div>"
            ],
            "text/plain": [
              "          F1 score\n",
              "none      0.467227\n",
              "anger     0.909091\n",
              "sadness   0.334004\n",
              "joy       0.565022\n",
              "surprise  0.682927\n",
              "love      0.308351\n",
              "sympathy  0.352941\n",
              "fear      0.710660"
            ]
          },
          "execution_count": 213,
          "metadata": {},
          "output_type": "execute_result"
        }
      ],
      "source": [
        "f1_Score = get_F1(DT, X_test ,y_test)\n",
        "pd.DataFrame(f1_Score, index=df.label.unique(), columns=['F1 score'])"
      ]
    },
    {
      "cell_type": "code",
      "execution_count": null,
      "id": "76bbc43f",
      "metadata": {
        "id": "76bbc43f",
        "outputId": "7f75a628-33bc-494b-83fa-376ca66ee328"
      },
      "outputs": [
        {
          "name": "stdout",
          "output_type": "stream",
          "text": [
            "              precision    recall  f1-score   support\n",
            "\n",
            "       anger       0.46      0.48      0.47       292\n",
            "        fear       0.95      0.87      0.91       218\n",
            "         joy       0.33      0.34      0.33       243\n",
            "        love       0.55      0.58      0.57       218\n",
            "        none       0.66      0.70      0.68       318\n",
            "     sadness       0.31      0.31      0.31       234\n",
            "    surprise       0.37      0.34      0.35       188\n",
            "    sympathy       0.74      0.69      0.71       204\n",
            "\n",
            "    accuracy                           0.54      1915\n",
            "   macro avg       0.55      0.54      0.54      1915\n",
            "weighted avg       0.55      0.54      0.54      1915\n",
            "\n"
          ]
        }
      ],
      "source": [
        "##Classification Report\n",
        "print(classification_report(y_test, y_pred))"
      ]
    },
    {
      "cell_type": "markdown",
      "id": "9e3eb9bc",
      "metadata": {
        "id": "9e3eb9bc"
      },
      "source": [
        "### Support Vector Machine"
      ]
    },
    {
      "cell_type": "markdown",
      "id": "95e8d7a6",
      "metadata": {
        "id": "95e8d7a6"
      },
      "source": [
        "**Training the Support Vector Machine model on the Training set**"
      ]
    },
    {
      "cell_type": "code",
      "execution_count": null,
      "id": "9e895adb",
      "metadata": {
        "id": "9e895adb"
      },
      "outputs": [],
      "source": [
        "SVM = train_model(SVC(random_state = 0), X_train, y_train)"
      ]
    },
    {
      "cell_type": "markdown",
      "id": "2aa412fb",
      "metadata": {
        "id": "2aa412fb"
      },
      "source": [
        "**Predicting the Test set results**"
      ]
    },
    {
      "cell_type": "code",
      "execution_count": null,
      "id": "de7d1434",
      "metadata": {
        "id": "de7d1434"
      },
      "outputs": [],
      "source": [
        "y_pred=SVM.predict(X_test)"
      ]
    },
    {
      "cell_type": "markdown",
      "id": "b015cf85",
      "metadata": {
        "id": "b015cf85"
      },
      "source": [
        "**Measuring the performance**"
      ]
    },
    {
      "cell_type": "code",
      "execution_count": null,
      "id": "9719d0ae",
      "metadata": {
        "id": "9719d0ae",
        "outputId": "1dbeb20c-87ec-4a55-f6a4-d7ad10af4674"
      },
      "outputs": [
        {
          "name": "stdout",
          "output_type": "stream",
          "text": [
            "Accuracy:  0.6548302872062663 \n",
            "\n"
          ]
        }
      ],
      "source": [
        "SVM_accuracy = accuracy_score(y_test, y_pred)\n",
        "print('Accuracy: ', SVM_accuracy,'\\n')"
      ]
    },
    {
      "cell_type": "code",
      "execution_count": null,
      "id": "95f27685",
      "metadata": {
        "id": "95f27685",
        "outputId": "1bb9bf92-ad70-47fd-bc2a-16489f1e9e9f"
      },
      "outputs": [
        {
          "data": {
            "text/html": [
              "<div>\n",
              "<style scoped>\n",
              "    .dataframe tbody tr th:only-of-type {\n",
              "        vertical-align: middle;\n",
              "    }\n",
              "\n",
              "    .dataframe tbody tr th {\n",
              "        vertical-align: top;\n",
              "    }\n",
              "\n",
              "    .dataframe thead th {\n",
              "        text-align: right;\n",
              "    }\n",
              "</style>\n",
              "<table border=\"1\" class=\"dataframe\">\n",
              "  <thead>\n",
              "    <tr style=\"text-align: right;\">\n",
              "      <th></th>\n",
              "      <th>F1 score</th>\n",
              "    </tr>\n",
              "  </thead>\n",
              "  <tbody>\n",
              "    <tr>\n",
              "      <th>none</th>\n",
              "      <td>0.614951</td>\n",
              "    </tr>\n",
              "    <tr>\n",
              "      <th>anger</th>\n",
              "      <td>0.901478</td>\n",
              "    </tr>\n",
              "    <tr>\n",
              "      <th>sadness</th>\n",
              "      <td>0.492228</td>\n",
              "    </tr>\n",
              "    <tr>\n",
              "      <th>joy</th>\n",
              "      <td>0.736111</td>\n",
              "    </tr>\n",
              "    <tr>\n",
              "      <th>surprise</th>\n",
              "      <td>0.751545</td>\n",
              "    </tr>\n",
              "    <tr>\n",
              "      <th>love</th>\n",
              "      <td>0.412322</td>\n",
              "    </tr>\n",
              "    <tr>\n",
              "      <th>sympathy</th>\n",
              "      <td>0.343284</td>\n",
              "    </tr>\n",
              "    <tr>\n",
              "      <th>fear</th>\n",
              "      <td>0.814070</td>\n",
              "    </tr>\n",
              "  </tbody>\n",
              "</table>\n",
              "</div>"
            ],
            "text/plain": [
              "          F1 score\n",
              "none      0.614951\n",
              "anger     0.901478\n",
              "sadness   0.492228\n",
              "joy       0.736111\n",
              "surprise  0.751545\n",
              "love      0.412322\n",
              "sympathy  0.343284\n",
              "fear      0.814070"
            ]
          },
          "execution_count": 218,
          "metadata": {},
          "output_type": "execute_result"
        }
      ],
      "source": [
        "f1_Score = get_F1(SVM,X_test,y_test)\n",
        "pd.DataFrame(f1_Score, index=df.label.unique(), columns=['F1 score'])"
      ]
    },
    {
      "cell_type": "code",
      "execution_count": null,
      "id": "3cfec63f",
      "metadata": {
        "id": "3cfec63f",
        "outputId": "389023cc-1521-46fa-917a-84a1080aed86"
      },
      "outputs": [
        {
          "name": "stdout",
          "output_type": "stream",
          "text": [
            "              precision    recall  f1-score   support\n",
            "\n",
            "       anger       0.52      0.75      0.61       292\n",
            "        fear       0.97      0.84      0.90       218\n",
            "         joy       0.66      0.39      0.49       243\n",
            "        love       0.74      0.73      0.74       218\n",
            "        none       0.62      0.96      0.75       318\n",
            "     sadness       0.46      0.37      0.41       234\n",
            "    surprise       0.57      0.24      0.34       188\n",
            "    sympathy       0.84      0.79      0.81       204\n",
            "\n",
            "    accuracy                           0.65      1915\n",
            "   macro avg       0.67      0.63      0.63      1915\n",
            "weighted avg       0.66      0.65      0.64      1915\n",
            "\n"
          ]
        }
      ],
      "source": [
        "##Classification Report\n",
        "print(classification_report(y_test, y_pred))"
      ]
    },
    {
      "cell_type": "markdown",
      "id": "b72db07c",
      "metadata": {
        "id": "b72db07c"
      },
      "source": [
        "### Random Forest"
      ]
    },
    {
      "cell_type": "markdown",
      "id": "e63bcec4",
      "metadata": {
        "id": "e63bcec4"
      },
      "source": [
        "**Training the Random Forest model on the Training set**"
      ]
    },
    {
      "cell_type": "code",
      "execution_count": null,
      "id": "c7612c5c",
      "metadata": {
        "id": "c7612c5c"
      },
      "outputs": [],
      "source": [
        "RF = train_model(RandomForestClassifier(random_state = 0), X_train, y_train)"
      ]
    },
    {
      "cell_type": "markdown",
      "id": "c03f48a7",
      "metadata": {
        "id": "c03f48a7"
      },
      "source": [
        "**Predicting the Test set results**"
      ]
    },
    {
      "cell_type": "code",
      "execution_count": null,
      "id": "a71ee8c2",
      "metadata": {
        "id": "a71ee8c2"
      },
      "outputs": [],
      "source": [
        "y_pred=RF.predict(X_test)"
      ]
    },
    {
      "cell_type": "markdown",
      "id": "0041eb17",
      "metadata": {
        "id": "0041eb17"
      },
      "source": [
        "**Measuring the performance**"
      ]
    },
    {
      "cell_type": "code",
      "execution_count": null,
      "id": "3c790314",
      "metadata": {
        "id": "3c790314",
        "outputId": "f223e303-630d-4b81-c1cf-cc2790993c0f"
      },
      "outputs": [
        {
          "name": "stdout",
          "output_type": "stream",
          "text": [
            "Accuracy:  0.6506527415143604 \n",
            "\n"
          ]
        }
      ],
      "source": [
        "RF_accuracy = accuracy_score(y_test, y_pred)\n",
        "print('Accuracy: ', RF_accuracy,'\\n')"
      ]
    },
    {
      "cell_type": "code",
      "execution_count": null,
      "id": "bfb3ca6d",
      "metadata": {
        "id": "bfb3ca6d",
        "outputId": "ecdd0263-3611-4c67-9ac8-dbab62fa226f"
      },
      "outputs": [
        {
          "data": {
            "text/html": [
              "<div>\n",
              "<style scoped>\n",
              "    .dataframe tbody tr th:only-of-type {\n",
              "        vertical-align: middle;\n",
              "    }\n",
              "\n",
              "    .dataframe tbody tr th {\n",
              "        vertical-align: top;\n",
              "    }\n",
              "\n",
              "    .dataframe thead th {\n",
              "        text-align: right;\n",
              "    }\n",
              "</style>\n",
              "<table border=\"1\" class=\"dataframe\">\n",
              "  <thead>\n",
              "    <tr style=\"text-align: right;\">\n",
              "      <th></th>\n",
              "      <th>F1 score</th>\n",
              "    </tr>\n",
              "  </thead>\n",
              "  <tbody>\n",
              "    <tr>\n",
              "      <th>none</th>\n",
              "      <td>0.604027</td>\n",
              "    </tr>\n",
              "    <tr>\n",
              "      <th>anger</th>\n",
              "      <td>0.900232</td>\n",
              "    </tr>\n",
              "    <tr>\n",
              "      <th>sadness</th>\n",
              "      <td>0.475973</td>\n",
              "    </tr>\n",
              "    <tr>\n",
              "      <th>joy</th>\n",
              "      <td>0.713348</td>\n",
              "    </tr>\n",
              "    <tr>\n",
              "      <th>surprise</th>\n",
              "      <td>0.745636</td>\n",
              "    </tr>\n",
              "    <tr>\n",
              "      <th>love</th>\n",
              "      <td>0.355438</td>\n",
              "    </tr>\n",
              "    <tr>\n",
              "      <th>sympathy</th>\n",
              "      <td>0.428571</td>\n",
              "    </tr>\n",
              "    <tr>\n",
              "      <th>fear</th>\n",
              "      <td>0.819905</td>\n",
              "    </tr>\n",
              "  </tbody>\n",
              "</table>\n",
              "</div>"
            ],
            "text/plain": [
              "          F1 score\n",
              "none      0.604027\n",
              "anger     0.900232\n",
              "sadness   0.475973\n",
              "joy       0.713348\n",
              "surprise  0.745636\n",
              "love      0.355438\n",
              "sympathy  0.428571\n",
              "fear      0.819905"
            ]
          },
          "execution_count": 223,
          "metadata": {},
          "output_type": "execute_result"
        }
      ],
      "source": [
        "f1_Score = get_F1(RF, X_test, y_test)\n",
        "pd.DataFrame(f1_Score, index=df.label.unique(), columns=['F1 score'])"
      ]
    },
    {
      "cell_type": "code",
      "execution_count": null,
      "id": "6ccfa0b3",
      "metadata": {
        "scrolled": true,
        "id": "6ccfa0b3",
        "outputId": "58e12c5a-65d8-403f-c93c-c1cd0458fa0f"
      },
      "outputs": [
        {
          "name": "stdout",
          "output_type": "stream",
          "text": [
            "              precision    recall  f1-score   support\n",
            "\n",
            "       anger       0.59      0.62      0.60       292\n",
            "        fear       0.91      0.89      0.90       218\n",
            "         joy       0.54      0.43      0.48       243\n",
            "        love       0.68      0.75      0.71       218\n",
            "        none       0.62      0.94      0.75       318\n",
            "     sadness       0.47      0.29      0.36       234\n",
            "    surprise       0.55      0.35      0.43       188\n",
            "    sympathy       0.79      0.85      0.82       204\n",
            "\n",
            "    accuracy                           0.65      1915\n",
            "   macro avg       0.64      0.64      0.63      1915\n",
            "weighted avg       0.64      0.65      0.63      1915\n",
            "\n"
          ]
        }
      ],
      "source": [
        "##Classification Report\n",
        "print(classification_report(y_test, y_pred))"
      ]
    },
    {
      "cell_type": "code",
      "execution_count": null,
      "id": "9291e3ac",
      "metadata": {
        "id": "9291e3ac",
        "outputId": "a80623c3-a407-4f3c-cd38-b408eec33e01"
      },
      "outputs": [
        {
          "data": {
            "text/html": [
              "<div>\n",
              "<style scoped>\n",
              "    .dataframe tbody tr th:only-of-type {\n",
              "        vertical-align: middle;\n",
              "    }\n",
              "\n",
              "    .dataframe tbody tr th {\n",
              "        vertical-align: top;\n",
              "    }\n",
              "\n",
              "    .dataframe thead th {\n",
              "        text-align: right;\n",
              "    }\n",
              "</style>\n",
              "<table border=\"1\" class=\"dataframe\">\n",
              "  <thead>\n",
              "    <tr style=\"text-align: right;\">\n",
              "      <th></th>\n",
              "      <th>Model</th>\n",
              "      <th>Accuracy</th>\n",
              "    </tr>\n",
              "  </thead>\n",
              "  <tbody>\n",
              "    <tr>\n",
              "      <th>0</th>\n",
              "      <td>Logistic Regression</td>\n",
              "      <td>0.660052</td>\n",
              "    </tr>\n",
              "    <tr>\n",
              "      <th>1</th>\n",
              "      <td>Support Vector Machine</td>\n",
              "      <td>0.654830</td>\n",
              "    </tr>\n",
              "    <tr>\n",
              "      <th>2</th>\n",
              "      <td>Random Forest</td>\n",
              "      <td>0.650653</td>\n",
              "    </tr>\n",
              "    <tr>\n",
              "      <th>3</th>\n",
              "      <td>Decision Tree</td>\n",
              "      <td>0.541514</td>\n",
              "    </tr>\n",
              "  </tbody>\n",
              "</table>\n",
              "</div>"
            ],
            "text/plain": [
              "                    Model  Accuracy\n",
              "0     Logistic Regression  0.660052\n",
              "1  Support Vector Machine  0.654830\n",
              "2           Random Forest  0.650653\n",
              "3           Decision Tree  0.541514"
            ]
          },
          "execution_count": 225,
          "metadata": {},
          "output_type": "execute_result"
        }
      ],
      "source": [
        "models = pd.DataFrame({\n",
        "    'Model': ['Logistic Regression', 'Decision Tree','Support Vector Machine','Random Forest'],\n",
        "    'Accuracy': [log_reg_accuracy, DT_accuracy, SVM_accuracy, RF_accuracy]})\n",
        "\n",
        "models.sort_values(by='Accuracy', ascending=False).reset_index().drop(['index'], axis=1)"
      ]
    },
    {
      "cell_type": "markdown",
      "id": "34cb47ad",
      "metadata": {
        "id": "34cb47ad"
      },
      "source": [
        "Note that TF-IDF vectoriser is used in this experiment"
      ]
    },
    {
      "cell_type": "code",
      "execution_count": null,
      "id": "4d27b4fa",
      "metadata": {
        "id": "4d27b4fa"
      },
      "outputs": [],
      "source": [
        ""
      ]
    },
    {
      "cell_type": "code",
      "execution_count": null,
      "id": "a94012e2",
      "metadata": {
        "id": "a94012e2"
      },
      "outputs": [],
      "source": [
        ""
      ]
    },
    {
      "cell_type": "code",
      "execution_count": null,
      "id": "0740e230",
      "metadata": {
        "id": "0740e230"
      },
      "outputs": [],
      "source": [
        "EMOTICONS = {\n",
        "    u\":‑\\)\":\"Happy face or smiley\",\n",
        "    u\":\\)\":\"Happy face or smiley\",\n",
        "    u\":-\\]\":\"Happy face or smiley\",\n",
        "    u\":\\]\":\"Happy face or smiley\",\n",
        "    u\":-3\":\"Happy face smiley\",\n",
        "    u\":3\":\"Happy face smiley\",\n",
        "    u\":->\":\"Happy face smiley\",\n",
        "    u\":>\":\"Happy face smiley\",\n",
        "    u\"8-\\)\":\"Happy face smiley\",\n",
        "    u\":o\\)\":\"Happy face smiley\",\n",
        "    u\":-\\}\":\"Happy face smiley\",\n",
        "    u\":\\}\":\"Happy face smiley\",\n",
        "    u\":-\\)\":\"Happy face smiley\",\n",
        "    u\":c\\)\":\"Happy face smiley\",\n",
        "    u\":\\^\\)\":\"Happy face smiley\",\n",
        "    u\"=\\]\":\"Happy face smiley\",\n",
        "    u\"=\\)\":\"Happy face smiley\",\n",
        "    u\":‑D\":\"Laughing, big grin or laugh with glasses\",\n",
        "    u\":D\":\"Laughing, big grin or laugh with glasses\",\n",
        "    u\"8‑D\":\"Laughing, big grin or laugh with glasses\",\n",
        "    u\"8D\":\"Laughing, big grin or laugh with glasses\",\n",
        "    u\"X‑D\":\"Laughing, big grin or laugh with glasses\",\n",
        "    u\"XD\":\"Laughing, big grin or laugh with glasses\",\n",
        "    u\"=D\":\"Laughing, big grin or laugh with glasses\",\n",
        "    u\"=3\":\"Laughing, big grin or laugh with glasses\",\n",
        "    u\"B\\^D\":\"Laughing, big grin or laugh with glasses\",\n",
        "    u\":-\\)\\)\":\"Very happy\",\n",
        "    u\":‑\\(\":\"Frown, sad, andry or pouting\",\n",
        "    u\":-\\(\":\"Frown, sad, andry or pouting\",\n",
        "    u\":\\(\":\"Frown, sad, andry or pouting\",\n",
        "    u\":‑c\":\"Frown, sad, andry or pouting\",\n",
        "    u\":c\":\"Frown, sad, andry or pouting\",\n",
        "    u\":‑<\":\"Frown, sad, andry or pouting\",\n",
        "    u\":<\":\"Frown, sad, andry or pouting\",\n",
        "    u\":‑\\[\":\"Frown, sad, andry or pouting\",\n",
        "    u\":\\[\":\"Frown, sad, andry or pouting\",\n",
        "    u\":-\\|\\|\":\"Frown, sad, andry or pouting\",\n",
        "    u\">:\\[\":\"Frown, sad, andry or pouting\",\n",
        "    u\":\\{\":\"Frown, sad, andry or pouting\",\n",
        "    u\":@\":\"Frown, sad, andry or pouting\",\n",
        "    u\">:\\(\":\"Frown, sad, andry or pouting\",\n",
        "    u\":'‑\\(\":\"Crying\",\n",
        "    u\":'\\(\":\"Crying\",\n",
        "    u\":'‑\\)\":\"Tears of happiness\",\n",
        "    u\":'\\)\":\"Tears of happiness\",\n",
        "    u\"D‑':\":\"Horror\",\n",
        "    u\"D:<\":\"Disgust\",\n",
        "    u\"D:\":\"Sadness\",\n",
        "    u\"D8\":\"Great dismay\",\n",
        "    u\"D;\":\"Great dismay\",\n",
        "    u\"D=\":\"Great dismay\",\n",
        "    u\"DX\":\"Great dismay\",\n",
        "    u\":‑O\":\"Surprise\",\n",
        "    u\":O\":\"Surprise\",\n",
        "    u\":‑o\":\"Surprise\",\n",
        "    u\":o\":\"Surprise\",\n",
        "    u\":-0\":\"Shock\",\n",
        "    u\"8‑0\":\"Yawn\",\n",
        "    u\">:O\":\"Yawn\",\n",
        "    u\":-\\*\":\"Kiss\",\n",
        "    u\":\\*\":\"Kiss\",\n",
        "    u\":X\":\"Kiss\",\n",
        "    u\";‑\\)\":\"Wink or smirk\",\n",
        "    u\";\\)\":\"Wink or smirk\",\n",
        "    u\"\\*-\\)\":\"Wink or smirk\",\n",
        "    u\"\\*\\)\":\"Wink or smirk\",\n",
        "    u\";‑\\]\":\"Wink or smirk\",\n",
        "    u\";\\]\":\"Wink or smirk\",\n",
        "    u\";\\^\\)\":\"Wink or smirk\",\n",
        "    u\":‑,\":\"Wink or smirk\",\n",
        "    u\";D\":\"Wink or smirk\",\n",
        "    u\":‑P\":\"Tongue sticking out, cheeky, playful or blowing a raspberry\",\n",
        "    u\":P\":\"Tongue sticking out, cheeky, playful or blowing a raspberry\",\n",
        "    u\"X‑P\":\"Tongue sticking out, cheeky, playful or blowing a raspberry\",\n",
        "    u\"XP\":\"Tongue sticking out, cheeky, playful or blowing a raspberry\",\n",
        "    u\":‑Þ\":\"Tongue sticking out, cheeky, playful or blowing a raspberry\",\n",
        "    u\":Þ\":\"Tongue sticking out, cheeky, playful or blowing a raspberry\",\n",
        "    u\":b\":\"Tongue sticking out, cheeky, playful or blowing a raspberry\",\n",
        "    u\"d:\":\"Tongue sticking out, cheeky, playful or blowing a raspberry\",\n",
        "    u\"=p\":\"Tongue sticking out, cheeky, playful or blowing a raspberry\",\n",
        "    u\">:P\":\"Tongue sticking out, cheeky, playful or blowing a raspberry\",\n",
        "    u\":‑/\":\"Skeptical, annoyed, undecided, uneasy or hesitant\",\n",
        "    u\":/\":\"Skeptical, annoyed, undecided, uneasy or hesitant\",\n",
        "    u\":-[.]\":\"Skeptical, annoyed, undecided, uneasy or hesitant\",\n",
        "    u\">:[(\\\\\\)]\":\"Skeptical, annoyed, undecided, uneasy or hesitant\",\n",
        "    u\">:/\":\"Skeptical, annoyed, undecided, uneasy or hesitant\",\n",
        "    u\":[(\\\\\\)]\":\"Skeptical, annoyed, undecided, uneasy or hesitant\",\n",
        "    u\"=/\":\"Skeptical, annoyed, undecided, uneasy or hesitant\",\n",
        "    u\"=[(\\\\\\)]\":\"Skeptical, annoyed, undecided, uneasy or hesitant\",\n",
        "    u\":L\":\"Skeptical, annoyed, undecided, uneasy or hesitant\",\n",
        "    u\"=L\":\"Skeptical, annoyed, undecided, uneasy or hesitant\",\n",
        "    u\":S\":\"Skeptical, annoyed, undecided, uneasy or hesitant\",\n",
        "    u\":‑\\|\":\"Straight face\",\n",
        "    u\":\\|\":\"Straight face\",\n",
        "    u\":$\":\"Embarrassed or blushing\",\n",
        "    u\":‑x\":\"Sealed lips or wearing braces or tongue-tied\",\n",
        "    u\":x\":\"Sealed lips or wearing braces or tongue-tied\",\n",
        "    u\":‑#\":\"Sealed lips or wearing braces or tongue-tied\",\n",
        "    u\":#\":\"Sealed lips or wearing braces or tongue-tied\",\n",
        "    u\":‑&\":\"Sealed lips or wearing braces or tongue-tied\",\n",
        "    u\":&\":\"Sealed lips or wearing braces or tongue-tied\",\n",
        "    u\"O:‑\\)\":\"Angel, saint or innocent\",\n",
        "    u\"O:\\)\":\"Angel, saint or innocent\",\n",
        "    u\"0:‑3\":\"Angel, saint or innocent\",\n",
        "    u\"0:3\":\"Angel, saint or innocent\",\n",
        "    u\"0:‑\\)\":\"Angel, saint or innocent\",\n",
        "    u\"0:\\)\":\"Angel, saint or innocent\",\n",
        "    u\":‑b\":\"Tongue sticking out, cheeky, playful or blowing a raspberry\",\n",
        "    u\"0;\\^\\)\":\"Angel, saint or innocent\",\n",
        "    u\">:‑\\)\":\"Evil or devilish\",\n",
        "    u\">:\\)\":\"Evil or devilish\",\n",
        "    u\"\\}:‑\\)\":\"Evil or devilish\",\n",
        "    u\"\\}:\\)\":\"Evil or devilish\",\n",
        "    u\"3:‑\\)\":\"Evil or devilish\",\n",
        "    u\"3:\\)\":\"Evil or devilish\",\n",
        "    u\">;\\)\":\"Evil or devilish\",\n",
        "    u\"\\|;‑\\)\":\"Cool\",\n",
        "    u\"\\|‑O\":\"Bored\",\n",
        "    u\":‑J\":\"Tongue-in-cheek\",\n",
        "    u\"#‑\\)\":\"Party all night\",\n",
        "    u\"%‑\\)\":\"Drunk or confused\",\n",
        "    u\"%\\)\":\"Drunk or confused\",\n",
        "    u\":-###..\":\"Being sick\",\n",
        "    u\":###..\":\"Being sick\",\n",
        "    u\"<:‑\\|\":\"Dump\",\n",
        "    u\"\\(>_<\\)\":\"Troubled\",\n",
        "    u\"\\(>_<\\)>\":\"Troubled\",\n",
        "    u\"\\(';'\\)\":\"Baby\",\n",
        "    u\"\\(\\^\\^>``\":\"Nervous or Embarrassed or Troubled or Shy or Sweat drop\",\n",
        "    u\"\\(\\^_\\^;\\)\":\"Nervous or Embarrassed or Troubled or Shy or Sweat drop\",\n",
        "    u\"\\(-_-;\\)\":\"Nervous or Embarrassed or Troubled or Shy or Sweat drop\",\n",
        "    u\"\\(~_~;\\) \\(・\\.・;\\)\":\"Nervous or Embarrassed or Troubled or Shy or Sweat drop\",\n",
        "    u\"\\(-_-\\)zzz\":\"Sleeping\",\n",
        "    u\"\\(\\^_-\\)\":\"Wink\",\n",
        "    u\"\\(\\(\\+_\\+\\)\\)\":\"Confused\",\n",
        "    u\"\\(\\+o\\+\\)\":\"Confused\",\n",
        "    u\"\\(o\\|o\\)\":\"Ultraman\",\n",
        "    u\"\\^_\\^\":\"Joyful\",\n",
        "    u\"\\(\\^_\\^\\)/\":\"Joyful\",\n",
        "    u\"\\(\\^O\\^\\)／\":\"Joyful\",\n",
        "    u\"\\(\\^o\\^\\)／\":\"Joyful\",\n",
        "    u\"\\(__\\)\":\"Kowtow as a sign of respect, or dogeza for apology\",\n",
        "    u\"_\\(\\._\\.\\)_\":\"Kowtow as a sign of respect, or dogeza for apology\",\n",
        "    u\"<\\(_ _\\)>\":\"Kowtow as a sign of respect, or dogeza for apology\",\n",
        "    u\"<m\\(__\\)m>\":\"Kowtow as a sign of respect, or dogeza for apology\",\n",
        "    u\"m\\(__\\)m\":\"Kowtow as a sign of respect, or dogeza for apology\",\n",
        "    u\"m\\(_ _\\)m\":\"Kowtow as a sign of respect, or dogeza for apology\",\n",
        "    u\"\\('_'\\)\":\"Sad or Crying\",\n",
        "    u\"\\(/_;\\)\":\"Sad or Crying\",\n",
        "    u\"\\(T_T\\) \\(;_;\\)\":\"Sad or Crying\",\n",
        "    u\"\\(;_;\":\"Sad of Crying\",\n",
        "    u\"\\(;_:\\)\":\"Sad or Crying\",\n",
        "    u\"\\(;O;\\)\":\"Sad or Crying\",\n",
        "    u\"\\(:_;\\)\":\"Sad or Crying\",\n",
        "    u\"\\(ToT\\)\":\"Sad or Crying\",\n",
        "    u\";_;\":\"Sad or Crying\",\n",
        "    u\";-;\":\"Sad or Crying\",\n",
        "    u\";n;\":\"Sad or Crying\",\n",
        "    u\";;\":\"Sad or Crying\",\n",
        "    u\"Q\\.Q\":\"Sad or Crying\",\n",
        "    u\"T\\.T\":\"Sad or Crying\",\n",
        "    u\"QQ\":\"Sad or Crying\",\n",
        "    u\"Q_Q\":\"Sad or Crying\",\n",
        "    u\"\\(-\\.-\\)\":\"Shame\",\n",
        "    u\"\\(-_-\\)\":\"Shame\",\n",
        "    u\"\\(一一\\)\":\"Shame\",\n",
        "    u\"\\(；一_一\\)\":\"Shame\",\n",
        "    u\"\\(=_=\\)\":\"Tired\",\n",
        "    u\"\\(=\\^\\·\\^=\\)\":\"cat\",\n",
        "    u\"\\(=\\^\\·\\·\\^=\\)\":\"cat\",\n",
        "    u\"=_\\^=\t\":\"cat\",\n",
        "    u\"\\(\\.\\.\\)\":\"Looking down\",\n",
        "    u\"\\(\\._\\.\\)\":\"Looking down\",\n",
        "    u\"\\^m\\^\":\"Giggling with hand covering mouth\",\n",
        "    u\"\\(\\・\\・?\":\"Confusion\",\n",
        "    u\"\\(?_?\\)\":\"Confusion\",\n",
        "    u\">\\^_\\^<\":\"Normal Laugh\",\n",
        "    u\"<\\^!\\^>\":\"Normal Laugh\",\n",
        "    u\"\\^/\\^\":\"Normal Laugh\",\n",
        "    u\"\\（\\*\\^_\\^\\*）\" :\"Normal Laugh\",\n",
        "    u\"\\(\\^<\\^\\) \\(\\^\\.\\^\\)\":\"Normal Laugh\",\n",
        "    u\"\\(^\\^\\)\":\"Normal Laugh\",\n",
        "    u\"\\(\\^\\.\\^\\)\":\"Normal Laugh\",\n",
        "    u\"\\(\\^_\\^\\.\\)\":\"Normal Laugh\",\n",
        "    u\"\\(\\^_\\^\\)\":\"Normal Laugh\",\n",
        "    u\"\\(\\^\\^\\)\":\"Normal Laugh\",\n",
        "    u\"\\(\\^J\\^\\)\":\"Normal Laugh\",\n",
        "    u\"\\(\\*\\^\\.\\^\\*\\)\":\"Normal Laugh\",\n",
        "    u\"\\(\\^—\\^\\）\":\"Normal Laugh\",\n",
        "    u\"\\(#\\^\\.\\^#\\)\":\"Normal Laugh\",\n",
        "    u\"\\（\\^—\\^\\）\":\"Waving\",\n",
        "    u\"\\(;_;\\)/~~~\":\"Waving\",\n",
        "    u\"\\(\\^\\.\\^\\)/~~~\":\"Waving\",\n",
        "    u\"\\(-_-\\)/~~~ \\($\\·\\·\\)/~~~\":\"Waving\",\n",
        "    u\"\\(T_T\\)/~~~\":\"Waving\",\n",
        "    u\"\\(ToT\\)/~~~\":\"Waving\",\n",
        "    u\"\\(\\*\\^0\\^\\*\\)\":\"Excited\",\n",
        "    u\"\\(\\*_\\*\\)\":\"Amazed\",\n",
        "    u\"\\(\\*_\\*;\":\"Amazed\",\n",
        "    u\"\\(\\+_\\+\\) \\(@_@\\)\":\"Amazed\",\n",
        "    u\"\\(\\*\\^\\^\\)v\":\"Laughing,Cheerful\",\n",
        "    u\"\\(\\^_\\^\\)v\":\"Laughing,Cheerful\",\n",
        "    u\"\\(\\(d[-_-]b\\)\\)\":\"Headphones,Listening to music\",\n",
        "    u'\\(-\"-\\)':\"Worried\",\n",
        "    u\"\\(ーー;\\)\":\"Worried\",\n",
        "    u\"\\(\\^0_0\\^\\)\":\"Eyeglasses\",\n",
        "    u\"\\(\\＾ｖ\\＾\\)\":\"Happy\",\n",
        "    u\"\\(\\＾ｕ\\＾\\)\":\"Happy\",\n",
        "    u\"\\(\\^\\)o\\(\\^\\)\":\"Happy\",\n",
        "    u\"\\(\\^O\\^\\)\":\"Happy\",\n",
        "    u\"\\(\\^o\\^\\)\":\"Happy\",\n",
        "    u\"\\)\\^o\\^\\(\":\"Happy\",\n",
        "    u\":O o_O\":\"Surprised\",\n",
        "    u\"o_0\":\"Surprised\",\n",
        "    u\"o\\.O\":\"Surpised\",\n",
        "    u\"\\(o\\.o\\)\":\"Surprised\",\n",
        "    u\"oO\":\"Surprised\",\n",
        "    u\"\\(\\*￣m￣\\)\":\"Dissatisfied\",\n",
        "    u\"\\(‘A`\\)\":\"Snubbed or Deflated\"\n",
        "}"
      ]
    },
    {
      "cell_type": "code",
      "execution_count": null,
      "id": "373a6837",
      "metadata": {
        "id": "373a6837"
      },
      "outputs": [],
      "source": [
        ""
      ]
    },
    {
      "cell_type": "code",
      "execution_count": null,
      "id": "639be568",
      "metadata": {
        "id": "639be568"
      },
      "outputs": [],
      "source": [
        ""
      ]
    },
    {
      "cell_type": "code",
      "execution_count": null,
      "id": "e4287017",
      "metadata": {
        "id": "e4287017"
      },
      "outputs": [],
      "source": [
        ""
      ]
    },
    {
      "cell_type": "code",
      "execution_count": null,
      "id": "0083d528",
      "metadata": {
        "id": "0083d528"
      },
      "outputs": [],
      "source": [
        ""
      ]
    },
    {
      "cell_type": "code",
      "execution_count": null,
      "id": "a8a70184",
      "metadata": {
        "id": "a8a70184"
      },
      "outputs": [],
      "source": [
        ""
      ]
    },
    {
      "cell_type": "code",
      "execution_count": null,
      "id": "f00b9b1b",
      "metadata": {
        "id": "f00b9b1b"
      },
      "outputs": [],
      "source": [
        ""
      ]
    },
    {
      "cell_type": "code",
      "execution_count": null,
      "id": "2506e393",
      "metadata": {
        "id": "2506e393"
      },
      "outputs": [],
      "source": [
        ""
      ]
    },
    {
      "cell_type": "code",
      "execution_count": null,
      "id": "caa5e8c4",
      "metadata": {
        "id": "caa5e8c4"
      },
      "outputs": [],
      "source": [
        ""
      ]
    },
    {
      "cell_type": "code",
      "execution_count": null,
      "id": "e8805e3a",
      "metadata": {
        "id": "e8805e3a"
      },
      "outputs": [],
      "source": [
        ""
      ]
    },
    {
      "cell_type": "code",
      "execution_count": null,
      "id": "1b917f40",
      "metadata": {
        "id": "1b917f40"
      },
      "outputs": [],
      "source": [
        ""
      ]
    },
    {
      "cell_type": "code",
      "execution_count": null,
      "id": "f113d4f1",
      "metadata": {
        "id": "f113d4f1"
      },
      "outputs": [],
      "source": [
        ""
      ]
    },
    {
      "cell_type": "code",
      "execution_count": null,
      "id": "30cf2f63",
      "metadata": {
        "id": "30cf2f63"
      },
      "outputs": [],
      "source": [
        ""
      ]
    },
    {
      "cell_type": "code",
      "execution_count": null,
      "id": "ca7ee529",
      "metadata": {
        "id": "ca7ee529"
      },
      "outputs": [],
      "source": [
        ""
      ]
    },
    {
      "cell_type": "code",
      "execution_count": null,
      "id": "81eda649",
      "metadata": {
        "id": "81eda649"
      },
      "outputs": [],
      "source": [
        ""
      ]
    },
    {
      "cell_type": "code",
      "execution_count": null,
      "id": "3268f255",
      "metadata": {
        "id": "3268f255"
      },
      "outputs": [],
      "source": [
        ""
      ]
    },
    {
      "cell_type": "code",
      "execution_count": null,
      "id": "7eb3e3e4",
      "metadata": {
        "id": "7eb3e3e4"
      },
      "outputs": [],
      "source": [
        ""
      ]
    },
    {
      "cell_type": "code",
      "execution_count": null,
      "id": "573e0652",
      "metadata": {
        "id": "573e0652"
      },
      "outputs": [],
      "source": [
        ""
      ]
    },
    {
      "cell_type": "code",
      "execution_count": null,
      "id": "06ce113a",
      "metadata": {
        "id": "06ce113a"
      },
      "outputs": [],
      "source": [
        ""
      ]
    },
    {
      "cell_type": "code",
      "execution_count": null,
      "id": "2bda21c5",
      "metadata": {
        "id": "2bda21c5"
      },
      "outputs": [],
      "source": [
        ""
      ]
    },
    {
      "cell_type": "code",
      "execution_count": null,
      "id": "204e05f7",
      "metadata": {
        "id": "204e05f7"
      },
      "outputs": [],
      "source": [
        ""
      ]
    },
    {
      "cell_type": "code",
      "execution_count": null,
      "id": "88783431",
      "metadata": {
        "id": "88783431"
      },
      "outputs": [],
      "source": [
        ""
      ]
    },
    {
      "cell_type": "code",
      "execution_count": null,
      "id": "be812df3",
      "metadata": {
        "id": "be812df3"
      },
      "outputs": [],
      "source": [
        ""
      ]
    },
    {
      "cell_type": "code",
      "execution_count": null,
      "id": "4210cf02",
      "metadata": {
        "id": "4210cf02"
      },
      "outputs": [],
      "source": [
        ""
      ]
    },
    {
      "cell_type": "code",
      "execution_count": null,
      "id": "eaf6d7fd",
      "metadata": {
        "id": "eaf6d7fd"
      },
      "outputs": [],
      "source": [
        ""
      ]
    },
    {
      "cell_type": "code",
      "execution_count": null,
      "id": "ddd21f04",
      "metadata": {
        "id": "ddd21f04"
      },
      "outputs": [],
      "source": [
        ""
      ]
    },
    {
      "cell_type": "code",
      "execution_count": null,
      "id": "b9a3de90",
      "metadata": {
        "id": "b9a3de90"
      },
      "outputs": [],
      "source": [
        ""
      ]
    },
    {
      "cell_type": "code",
      "execution_count": null,
      "id": "75a13d7d",
      "metadata": {
        "id": "75a13d7d"
      },
      "outputs": [],
      "source": [
        ""
      ]
    },
    {
      "cell_type": "code",
      "execution_count": null,
      "id": "786d54d2",
      "metadata": {
        "id": "786d54d2"
      },
      "outputs": [],
      "source": [
        ""
      ]
    },
    {
      "cell_type": "code",
      "execution_count": null,
      "id": "91690818",
      "metadata": {
        "id": "91690818"
      },
      "outputs": [],
      "source": [
        ""
      ]
    },
    {
      "cell_type": "code",
      "execution_count": null,
      "id": "1634aa2b",
      "metadata": {
        "id": "1634aa2b"
      },
      "outputs": [],
      "source": [
        ""
      ]
    },
    {
      "cell_type": "code",
      "execution_count": null,
      "id": "9f3035be",
      "metadata": {
        "id": "9f3035be"
      },
      "outputs": [],
      "source": [
        ""
      ]
    },
    {
      "cell_type": "code",
      "execution_count": null,
      "id": "2546d170",
      "metadata": {
        "id": "2546d170"
      },
      "outputs": [],
      "source": [
        ""
      ]
    },
    {
      "cell_type": "code",
      "execution_count": null,
      "id": "5664ceb8",
      "metadata": {
        "id": "5664ceb8"
      },
      "outputs": [],
      "source": [
        ""
      ]
    },
    {
      "cell_type": "code",
      "execution_count": null,
      "id": "56b9531a",
      "metadata": {
        "id": "56b9531a"
      },
      "outputs": [],
      "source": [
        ""
      ]
    },
    {
      "cell_type": "code",
      "execution_count": null,
      "id": "db2b702a",
      "metadata": {
        "id": "db2b702a"
      },
      "outputs": [],
      "source": [
        ""
      ]
    },
    {
      "cell_type": "code",
      "execution_count": null,
      "id": "b4bf14de",
      "metadata": {
        "id": "b4bf14de"
      },
      "outputs": [],
      "source": [
        ""
      ]
    },
    {
      "cell_type": "code",
      "execution_count": null,
      "id": "d6a387c6",
      "metadata": {
        "id": "d6a387c6"
      },
      "outputs": [],
      "source": [
        ""
      ]
    },
    {
      "cell_type": "code",
      "execution_count": null,
      "id": "a4309b8b",
      "metadata": {
        "id": "a4309b8b"
      },
      "outputs": [],
      "source": [
        ""
      ]
    },
    {
      "cell_type": "code",
      "execution_count": null,
      "id": "2a49f427",
      "metadata": {
        "id": "2a49f427"
      },
      "outputs": [],
      "source": [
        ""
      ]
    },
    {
      "cell_type": "code",
      "execution_count": null,
      "id": "df81f8fe",
      "metadata": {
        "id": "df81f8fe"
      },
      "outputs": [],
      "source": [
        ""
      ]
    },
    {
      "cell_type": "code",
      "execution_count": null,
      "id": "78ac6054",
      "metadata": {
        "id": "78ac6054"
      },
      "outputs": [],
      "source": [
        ""
      ]
    }
  ],
  "metadata": {
    "kernelspec": {
      "display_name": "Python 3",
      "language": "python",
      "name": "python3"
    },
    "language_info": {
      "codemirror_mode": {
        "name": "ipython",
        "version": 3
      },
      "file_extension": ".py",
      "mimetype": "text/x-python",
      "name": "python",
      "nbconvert_exporter": "python",
      "pygments_lexer": "ipython3",
      "version": "3.8.8"
    },
    "colab": {
      "name": "Emoji Prediction (without emoji's and emoticon) .ipynb",
      "provenance": []
    }
  },
  "nbformat": 4,
  "nbformat_minor": 5
}