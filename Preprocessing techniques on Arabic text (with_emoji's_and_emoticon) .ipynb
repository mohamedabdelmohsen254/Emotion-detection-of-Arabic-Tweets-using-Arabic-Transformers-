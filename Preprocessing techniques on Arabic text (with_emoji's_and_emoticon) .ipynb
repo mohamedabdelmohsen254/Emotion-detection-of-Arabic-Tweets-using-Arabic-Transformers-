{
  "cells": [
    {
      "cell_type": "markdown",
      "source": [
        "This is another notebook for preprocessing but the difference here is that we mapped emojis and emoticons into Arabic text \n"
      ],
      "metadata": {
        "id": "SG9tfV0uKvU6"
      },
      "id": "SG9tfV0uKvU6"
    },
    {
      "cell_type": "code",
      "execution_count": null,
      "id": "15b51f13",
      "metadata": {
        "id": "15b51f13"
      },
      "outputs": [],
      "source": [
        "#importing libaraires\n",
        "\n",
        "# Add environment Packages paths to conda\n",
        "import os, sys, warnings\n",
        "import pandas as pd\n",
        "import numpy as np\n",
        "warnings.simplefilter(\"ignore\")\n",
        "\n",
        "# Text preprocessing packages\n",
        "import nltk # Text libarary\n",
        "# nltk.download('stopwords')\n",
        "import string # Removing special characters {#, @, ...}\n",
        "import re # Regex Package\n",
        "import regex\n",
        "import emoji\n",
        "# Corpora is a group presenting multiple collections of text documents. A single collection is called corpus.\n",
        "from nltk.corpus import stopwords # Stopwords\n",
        "import arabicstopwords.arabicstopwords as stp #more range of arabic stop words\n",
        "from nltk.stem.isri import ISRIStemmer\n",
        "import pyarabic.araby as araby\n",
        "from tashaphyne.stemming import ArabicLightStemmer\n",
        "\n",
        "from nltk.stem import SnowballStemmer, WordNetLemmatizer # Stemmer & Lemmatizer\n",
        "#from gensim.utils import simple_preprocess  # Text ==> List of Tokens\n",
        "\n",
        "# Text Embedding\n",
        "from sklearn.feature_extraction.text import TfidfVectorizer\n",
        "from sklearn.feature_extraction.text import CountVectorizer\n",
        "\n",
        "# Modelling\n",
        "from sklearn.model_selection import train_test_split,KFold, GridSearchCV\n",
        "from sklearn.ensemble import RandomForestClassifier\n",
        "from sklearn.linear_model import LogisticRegression\n",
        "from sklearn.tree import DecisionTreeClassifier\n",
        "from sklearn.ensemble import RandomForestClassifier\n",
        "from sklearn.metrics import accuracy_score,confusion_matrix, classification_report\n",
        "from sklearn.pipeline import Pipeline\n",
        "from sklearn.metrics import f1_score\n",
        "from sklearn.svm import SVC\n",
        "# Saving Model\n",
        "import pickle\n",
        "\n",
        "# Visualization Packages\n",
        "import seaborn as sns\n",
        "import matplotlib.pyplot as plt\n",
        "sns.set(font_scale=1.3)\n",
        "%matplotlib inline"
      ]
    },
    {
      "cell_type": "code",
      "execution_count": null,
      "id": "d462162b",
      "metadata": {
        "id": "d462162b"
      },
      "outputs": [],
      "source": [
        "#!pip install nltk\n",
        "#!pip install emoji\n",
        "#!pip install Arabic-Stopwords\n",
        "#pip install PyArabic\n",
        "#pip install Tashaphyne\n",
        "#pip install translate\n",
        "#pip install transformers"
      ]
    },
    {
      "cell_type": "code",
      "execution_count": null,
      "id": "dd9cc358",
      "metadata": {
        "id": "dd9cc358",
        "outputId": "8e39804a-99e0-4e29-f803-b2eaa7c17526"
      },
      "outputs": [
        {
          "data": {
            "text/html": [
              "<div>\n",
              "<style scoped>\n",
              "    .dataframe tbody tr th:only-of-type {\n",
              "        vertical-align: middle;\n",
              "    }\n",
              "\n",
              "    .dataframe tbody tr th {\n",
              "        vertical-align: top;\n",
              "    }\n",
              "\n",
              "    .dataframe thead th {\n",
              "        text-align: right;\n",
              "    }\n",
              "</style>\n",
              "<table border=\"1\" class=\"dataframe\">\n",
              "  <thead>\n",
              "    <tr style=\"text-align: right;\">\n",
              "      <th></th>\n",
              "      <th>ID</th>\n",
              "      <th>text</th>\n",
              "      <th>label</th>\n",
              "    </tr>\n",
              "  </thead>\n",
              "  <tbody>\n",
              "    <tr>\n",
              "      <th>0</th>\n",
              "      <td>1</td>\n",
              "      <td>الاوليمبياد الجايه هكون لسه ف الكليه ..</td>\n",
              "      <td>none</td>\n",
              "    </tr>\n",
              "    <tr>\n",
              "      <th>1</th>\n",
              "      <td>2</td>\n",
              "      <td>عجز الموازنه وصل ل93.7 % من الناتج المحلي يعني...</td>\n",
              "      <td>anger</td>\n",
              "    </tr>\n",
              "    <tr>\n",
              "      <th>2</th>\n",
              "      <td>3</td>\n",
              "      <td>كتنا نيله ف حظنا الهباب xD</td>\n",
              "      <td>sadness</td>\n",
              "    </tr>\n",
              "    <tr>\n",
              "      <th>3</th>\n",
              "      <td>4</td>\n",
              "      <td>جميعنا نريد تحقيق اهدافنا لكن تونس تالقت في حر...</td>\n",
              "      <td>joy</td>\n",
              "    </tr>\n",
              "    <tr>\n",
              "      <th>4</th>\n",
              "      <td>5</td>\n",
              "      <td>الاوليمبياد نظامها مختلف .. ومواعيد المونديال ...</td>\n",
              "      <td>none</td>\n",
              "    </tr>\n",
              "  </tbody>\n",
              "</table>\n",
              "</div>"
            ],
            "text/plain": [
              "   ID                                               text    label\n",
              "0   1            الاوليمبياد الجايه هكون لسه ف الكليه ..     none\n",
              "1   2  عجز الموازنه وصل ل93.7 % من الناتج المحلي يعني...    anger\n",
              "2   3                         كتنا نيله ف حظنا الهباب xD  sadness\n",
              "3   4  جميعنا نريد تحقيق اهدافنا لكن تونس تالقت في حر...      joy\n",
              "4   5  الاوليمبياد نظامها مختلف .. ومواعيد المونديال ...     none"
            ]
          },
          "execution_count": 265,
          "metadata": {},
          "output_type": "execute_result"
        }
      ],
      "source": [
        "df=pd.read_excel('NileUniversity_Emotional.xlsx')\n",
        "df.head()"
      ]
    },
    {
      "cell_type": "code",
      "execution_count": null,
      "id": "fb6695df",
      "metadata": {
        "id": "fb6695df"
      },
      "outputs": [],
      "source": [
        "#deop unnecessary columns\n",
        "df.drop('ID', axis=1,inplace=True)"
      ]
    },
    {
      "cell_type": "markdown",
      "id": "2ddeb010",
      "metadata": {
        "id": "2ddeb010"
      },
      "source": [
        "## Assessing"
      ]
    },
    {
      "cell_type": "code",
      "execution_count": null,
      "id": "7900d8d5",
      "metadata": {
        "id": "7900d8d5",
        "outputId": "a33d002b-b13e-44b3-96fd-76e7578cdc99"
      },
      "outputs": [
        {
          "data": {
            "text/plain": [
              "(10065, 2)"
            ]
          },
          "execution_count": 267,
          "metadata": {},
          "output_type": "execute_result"
        }
      ],
      "source": [
        "#print the shape of the data set\n",
        "df.shape"
      ]
    },
    {
      "cell_type": "code",
      "execution_count": null,
      "id": "5cc0db65",
      "metadata": {
        "id": "5cc0db65",
        "outputId": "729f3b37-27fd-4433-8bff-43e8af245018"
      },
      "outputs": [
        {
          "name": "stdout",
          "output_type": "stream",
          "text": [
            "<class 'pandas.core.frame.DataFrame'>\n",
            "RangeIndex: 10065 entries, 0 to 10064\n",
            "Data columns (total 2 columns):\n",
            " #   Column  Non-Null Count  Dtype \n",
            "---  ------  --------------  ----- \n",
            " 0   text    10064 non-null  object\n",
            " 1   label   10065 non-null  object\n",
            "dtypes: object(2)\n",
            "memory usage: 157.4+ KB\n"
          ]
        }
      ],
      "source": [
        "df.info()"
      ]
    },
    {
      "cell_type": "code",
      "execution_count": null,
      "id": "cfae968c",
      "metadata": {
        "id": "cfae968c",
        "outputId": "692cd90b-6cb4-4ad0-9ea7-9caa13444b98"
      },
      "outputs": [
        {
          "data": {
            "text/plain": [
              "none        1550\n",
              "anger       1444\n",
              "joy         1281\n",
              "sadness     1256\n",
              "love        1220\n",
              "fear        1207\n",
              "sympathy    1062\n",
              "surprise    1045\n",
              "Name: label, dtype: int64"
            ]
          },
          "execution_count": 269,
          "metadata": {},
          "output_type": "execute_result"
        }
      ],
      "source": [
        "#check if the data is balanced or not\n",
        "df.label.value_counts()"
      ]
    },
    {
      "cell_type": "code",
      "execution_count": null,
      "id": "f4679609",
      "metadata": {
        "id": "f4679609",
        "outputId": "67b35388-3c77-4ed5-fb70-0b43f859ad3d"
      },
      "outputs": [
        {
          "data": {
            "image/png": "[encoded data removed]",
            "text/plain": [
              "<Figure size 576x288 with 1 Axes>"
            ]
          },
          "metadata": {
            "needs_background": "light"
          },
          "output_type": "display_data"
        }
      ],
      "source": [
        "plt.figure(figsize=(8,4))\n",
        "sns.countplot(x='label', data=df);"
      ]
    },
    {
      "cell_type": "markdown",
      "id": "a4291742",
      "metadata": {
        "id": "a4291742"
      },
      "source": [
        "The differences between the labels is not large so, we can say that the data is balanced"
      ]
    },
    {
      "cell_type": "code",
      "execution_count": null,
      "id": "8d99a1fa",
      "metadata": {
        "id": "8d99a1fa",
        "outputId": "0719c1e9-a061-44b4-df58-0029417c484f"
      },
      "outputs": [
        {
          "data": {
            "text/plain": [
              "text     1\n",
              "label    0\n",
              "dtype: int64"
            ]
          },
          "execution_count": 271,
          "metadata": {},
          "output_type": "execute_result"
        }
      ],
      "source": [
        "#print the number of null values in each column\n",
        "df.isnull().sum()"
      ]
    },
    {
      "cell_type": "code",
      "execution_count": null,
      "id": "3bad80e5",
      "metadata": {
        "id": "3bad80e5",
        "outputId": "87d1ca75-9c9e-45ca-e7cd-f54ea78ec323"
      },
      "outputs": [
        {
          "data": {
            "text/html": [
              "<div>\n",
              "<style scoped>\n",
              "    .dataframe tbody tr th:only-of-type {\n",
              "        vertical-align: middle;\n",
              "    }\n",
              "\n",
              "    .dataframe tbody tr th {\n",
              "        vertical-align: top;\n",
              "    }\n",
              "\n",
              "    .dataframe thead th {\n",
              "        text-align: right;\n",
              "    }\n",
              "</style>\n",
              "<table border=\"1\" class=\"dataframe\">\n",
              "  <thead>\n",
              "    <tr style=\"text-align: right;\">\n",
              "      <th></th>\n",
              "      <th>text</th>\n",
              "      <th>label</th>\n",
              "    </tr>\n",
              "  </thead>\n",
              "  <tbody>\n",
              "    <tr>\n",
              "      <th>8619</th>\n",
              "      <td>NaN</td>\n",
              "      <td>love</td>\n",
              "    </tr>\n",
              "  </tbody>\n",
              "</table>\n",
              "</div>"
            ],
            "text/plain": [
              "     text label\n",
              "8619  NaN  love"
            ]
          },
          "execution_count": 272,
          "metadata": {},
          "output_type": "execute_result"
        }
      ],
      "source": [
        "#to get the index of the null value\n",
        "df[df['text'].isnull() == True]"
      ]
    },
    {
      "cell_type": "markdown",
      "id": "53255e0d",
      "metadata": {
        "id": "53255e0d"
      },
      "source": [
        "This label doesn't mean anything because the original text is missing so, we will remove it"
      ]
    },
    {
      "cell_type": "code",
      "execution_count": null,
      "id": "3dbbbb5a",
      "metadata": {
        "id": "3dbbbb5a"
      },
      "outputs": [],
      "source": [
        "#removing null value\n",
        "df.drop(8619, axis=0, inplace = True)\n",
        "\n",
        "#resetting the index of the data\n",
        "df.reset_index(drop=True, inplace = True)"
      ]
    },
    {
      "cell_type": "code",
      "execution_count": null,
      "id": "fdd217ff",
      "metadata": {
        "id": "fdd217ff",
        "outputId": "50757079-bd3a-46d7-d9b6-dcf192f7d2f9"
      },
      "outputs": [
        {
          "data": {
            "text/plain": [
              "36"
            ]
          },
          "execution_count": 274,
          "metadata": {},
          "output_type": "execute_result"
        }
      ],
      "source": [
        "#print the number of duplicated values \n",
        "df.duplicated().sum()"
      ]
    },
    {
      "cell_type": "code",
      "execution_count": null,
      "id": "12785ad6",
      "metadata": {
        "scrolled": true,
        "id": "12785ad6",
        "outputId": "f2775b22-4724-4a1e-9522-1a62e00276c2"
      },
      "outputs": [
        {
          "data": {
            "text/html": [
              "<div>\n",
              "<style scoped>\n",
              "    .dataframe tbody tr th:only-of-type {\n",
              "        vertical-align: middle;\n",
              "    }\n",
              "\n",
              "    .dataframe tbody tr th {\n",
              "        vertical-align: top;\n",
              "    }\n",
              "\n",
              "    .dataframe thead th {\n",
              "        text-align: right;\n",
              "    }\n",
              "</style>\n",
              "<table border=\"1\" class=\"dataframe\">\n",
              "  <thead>\n",
              "    <tr style=\"text-align: right;\">\n",
              "      <th></th>\n",
              "      <th>text</th>\n",
              "      <th>label</th>\n",
              "    </tr>\n",
              "  </thead>\n",
              "  <tbody>\n",
              "    <tr>\n",
              "      <th>1236</th>\n",
              "      <td>الشخص الذي يجعلُك من اساسيات يومه، يستحقُ ان ت...</td>\n",
              "      <td>love</td>\n",
              "    </tr>\n",
              "    <tr>\n",
              "      <th>1449</th>\n",
              "      <td>:  اليوم العالمي للشباب الامم المتحده تمنح جائ...</td>\n",
              "      <td>love</td>\n",
              "    </tr>\n",
              "    <tr>\n",
              "      <th>1487</th>\n",
              "      <td>اللهم يا من قلت ادعوني استجب لكم ، انصر اخوانن...</td>\n",
              "      <td>sympathy</td>\n",
              "    </tr>\n",
              "    <tr>\n",
              "      <th>2115</th>\n",
              "      <td>: اللهّم خفف عن جدتي كُل ذره وجع ترهقها وانزل ...</td>\n",
              "      <td>sympathy</td>\n",
              "    </tr>\n",
              "    <tr>\n",
              "      <th>2826</th>\n",
              "      <td>: لعب من اجل النصر! اعطي من اجل النصر! ضحّي من...</td>\n",
              "      <td>love</td>\n",
              "    </tr>\n",
              "    <tr>\n",
              "      <th>2916</th>\n",
              "      <td>: لا تستطيع ان تستقيم بحياه مريحه نفسياً وانت ...</td>\n",
              "      <td>sympathy</td>\n",
              "    </tr>\n",
              "    <tr>\n",
              "      <th>3699</th>\n",
              "      <td>حماده طلعت اللي رفع العلم السعودي في الاوليمبي...</td>\n",
              "      <td>anger</td>\n",
              "    </tr>\n",
              "    <tr>\n",
              "      <th>3944</th>\n",
              "      <td>يا اهل مصر قلوبنا ودعائنا معكم  نازلين 11 11 عشان</td>\n",
              "      <td>sympathy</td>\n",
              "    </tr>\n",
              "    <tr>\n",
              "      <th>4319</th>\n",
              "      <td>alqarnee: يا حي ياقيوم يا ذا الجلال والاكرام ف...</td>\n",
              "      <td>sympathy</td>\n",
              "    </tr>\n",
              "    <tr>\n",
              "      <th>4398</th>\n",
              "      <td>في الاوليمبياد مع نيجيريا</td>\n",
              "      <td>none</td>\n",
              "    </tr>\n",
              "    <tr>\n",
              "      <th>4463</th>\n",
              "      <td>fisal holibi: اذا لم يعد لنا قلب يستطيع ان يتح...</td>\n",
              "      <td>sympathy</td>\n",
              "    </tr>\n",
              "    <tr>\n",
              "      <th>4498</th>\n",
              "      <td>: يِصِيِبنيِ الّان نوع مٌن  الّحًزُن  الُمجٍہۆ...</td>\n",
              "      <td>sadness</td>\n",
              "    </tr>\n",
              "    <tr>\n",
              "      <th>4739</th>\n",
              "      <td>الهدف الرئيسي من الاوليمبياد هو نشر روح السلام...</td>\n",
              "      <td>none</td>\n",
              "    </tr>\n",
              "    <tr>\n",
              "      <th>5026</th>\n",
              "      <td>خوفي عليكِ كـ خوفِ ابٍ يحْمِلُ مولودَهُ الاوَّ...</td>\n",
              "      <td>fear</td>\n",
              "    </tr>\n",
              "    <tr>\n",
              "      <th>5091</th>\n",
              "      <td>الاوليمبياد</td>\n",
              "      <td>none</td>\n",
              "    </tr>\n",
              "    <tr>\n",
              "      <th>5199</th>\n",
              "      <td>يا رب شفاك لمن مسّه الضر و لمن ضمه التراب.</td>\n",
              "      <td>sympathy</td>\n",
              "    </tr>\n",
              "    <tr>\n",
              "      <th>5263</th>\n",
              "      <td>اطالب بتحقيق رسمي من قبل اتحاد كره اليد مع الم...</td>\n",
              "      <td>none</td>\n",
              "    </tr>\n",
              "    <tr>\n",
              "      <th>5296</th>\n",
              "      <td>الغيره فِي الحُبّ  تَجعَلنْا كالاَطْفال لا يُر...</td>\n",
              "      <td>love</td>\n",
              "    </tr>\n",
              "    <tr>\n",
              "      <th>6264</th>\n",
              "      <td>في الاوليمبياد</td>\n",
              "      <td>none</td>\n",
              "    </tr>\n",
              "    <tr>\n",
              "      <th>6447</th>\n",
              "      <td>اعشق لمعه عينيك واعشق ابتسامتك واريدك بجانبي ط...</td>\n",
              "      <td>love</td>\n",
              "    </tr>\n",
              "    <tr>\n",
              "      <th>6952</th>\n",
              "      <td>وعلي صعيد منفصل تماما فيه لاعبه المانيه من اصل...</td>\n",
              "      <td>none</td>\n",
              "    </tr>\n",
              "    <tr>\n",
              "      <th>7158</th>\n",
              "      <td>alghfaily: اللهم تشكو و تنتحب؛ رجالها ونساؤها،...</td>\n",
              "      <td>sympathy</td>\n",
              "    </tr>\n",
              "    <tr>\n",
              "      <th>7288</th>\n",
              "      <td>: وبكل خوف قلت :  بطل توجعني ، انا مابي الدنيا...</td>\n",
              "      <td>fear</td>\n",
              "    </tr>\n",
              "    <tr>\n",
              "      <th>7362</th>\n",
              "      <td>aljohra:  رب في يوم الجمعه لك عبادٌ ينتظرون فر...</td>\n",
              "      <td>sympathy</td>\n",
              "    </tr>\n",
              "    <tr>\n",
              "      <th>7376</th>\n",
              "      <td>الله يوفقهم وينصرهم</td>\n",
              "      <td>sympathy</td>\n",
              "    </tr>\n",
              "    <tr>\n",
              "      <th>7740</th>\n",
              "      <td>ياخي كسم العرص اللي رفع علم غير علم مصر في دخل...</td>\n",
              "      <td>anger</td>\n",
              "    </tr>\n",
              "    <tr>\n",
              "      <th>7807</th>\n",
              "      <td>الاوليمبياد</td>\n",
              "      <td>none</td>\n",
              "    </tr>\n",
              "    <tr>\n",
              "      <th>8018</th>\n",
              "      <td>الهدف الرئيسي من الاوليمبياد هو نشر روح السلام...</td>\n",
              "      <td>none</td>\n",
              "    </tr>\n",
              "    <tr>\n",
              "      <th>8019</th>\n",
              "      <td>يلاحظ في مقدمه الرساله ونهايتها اطراء جم لعلما...</td>\n",
              "      <td>love</td>\n",
              "    </tr>\n",
              "    <tr>\n",
              "      <th>8146</th>\n",
              "      <td>: جعل ابوي .. اللي عن الدنيا فنا ف الجنان : وت...</td>\n",
              "      <td>sympathy</td>\n",
              "    </tr>\n",
              "    <tr>\n",
              "      <th>8413</th>\n",
              "      <td>جمالها يالله !!</td>\n",
              "      <td>surprise</td>\n",
              "    </tr>\n",
              "    <tr>\n",
              "      <th>8506</th>\n",
              "      <td>Madaniah: لقطات تشقعر لها الابدان.. لقطات من ك...</td>\n",
              "      <td>sympathy</td>\n",
              "    </tr>\n",
              "    <tr>\n",
              "      <th>8633</th>\n",
              "      <td>22   حمدين صباحي حيموت علي الرياسه ياعيني كل ش...</td>\n",
              "      <td>anger</td>\n",
              "    </tr>\n",
              "    <tr>\n",
              "      <th>8641</th>\n",
              "      <td>:  خايف نكون انتهينا من قبل ما حكايتنا تبتدي و...</td>\n",
              "      <td>fear</td>\n",
              "    </tr>\n",
              "    <tr>\n",
              "      <th>8785</th>\n",
              "      <td>اذا كان هذا هو حال فكيف هو حال سكانها ؟؟؟  الل...</td>\n",
              "      <td>sympathy</td>\n",
              "    </tr>\n",
              "    <tr>\n",
              "      <th>8810</th>\n",
              "      <td>ياريت اي حد محبط من نتايج بعثه الاوليمبياد يخل...</td>\n",
              "      <td>sadness</td>\n",
              "    </tr>\n",
              "    <tr>\n",
              "      <th>9213</th>\n",
              "      <td>558: . ربي امسح علي قلب امي براحـه تسّر نفسها ...</td>\n",
              "      <td>sympathy</td>\n",
              "    </tr>\n",
              "    <tr>\n",
              "      <th>9494</th>\n",
              "      <td>اللهم ارفع البلاء عن اهلنا في  سوريا و اللهم ا...</td>\n",
              "      <td>sympathy</td>\n",
              "    </tr>\n",
              "    <tr>\n",
              "      <th>9518</th>\n",
              "      <td>قطر خاشه الاوليمبياد ب25 لاعب .. اللي يبي يخنب...</td>\n",
              "      <td>none</td>\n",
              "    </tr>\n",
              "    <tr>\n",
              "      <th>9722</th>\n",
              "      <td>2016:  شخصيه الاسبوع  الملك عبدالله بن عبدالعز...</td>\n",
              "      <td>joy</td>\n",
              "    </tr>\n",
              "    <tr>\n",
              "      <th>9765</th>\n",
              "      <td>الاوليمبياد</td>\n",
              "      <td>none</td>\n",
              "    </tr>\n",
              "    <tr>\n",
              "      <th>9869</th>\n",
              "      <td>اللهم لطفگ باخواننا في و  الموصل اللهم ارحم ضع...</td>\n",
              "      <td>sympathy</td>\n",
              "    </tr>\n",
              "    <tr>\n",
              "      <th>9894</th>\n",
              "      <td>:  تحب تقول ايه لتميم بن موزه يا جبان ما انت ج...</td>\n",
              "      <td>anger</td>\n",
              "    </tr>\n",
              "    <tr>\n",
              "      <th>9958</th>\n",
              "      <td>الاوليمبياد ؟ الواحد يلحق يدور في جوجل علي رمي...</td>\n",
              "      <td>none</td>\n",
              "    </tr>\n",
              "  </tbody>\n",
              "</table>\n",
              "</div>"
            ],
            "text/plain": [
              "                                                   text     label\n",
              "1236  الشخص الذي يجعلُك من اساسيات يومه، يستحقُ ان ت...      love\n",
              "1449  :  اليوم العالمي للشباب الامم المتحده تمنح جائ...      love\n",
              "1487  اللهم يا من قلت ادعوني استجب لكم ، انصر اخوانن...  sympathy\n",
              "2115  : اللهّم خفف عن جدتي كُل ذره وجع ترهقها وانزل ...  sympathy\n",
              "2826  : لعب من اجل النصر! اعطي من اجل النصر! ضحّي من...      love\n",
              "2916  : لا تستطيع ان تستقيم بحياه مريحه نفسياً وانت ...  sympathy\n",
              "3699  حماده طلعت اللي رفع العلم السعودي في الاوليمبي...     anger\n",
              "3944  يا اهل مصر قلوبنا ودعائنا معكم  نازلين 11 11 عشان  sympathy\n",
              "4319  alqarnee: يا حي ياقيوم يا ذا الجلال والاكرام ف...  sympathy\n",
              "4398                          في الاوليمبياد مع نيجيريا      none\n",
              "4463  fisal holibi: اذا لم يعد لنا قلب يستطيع ان يتح...  sympathy\n",
              "4498  : يِصِيِبنيِ الّان نوع مٌن  الّحًزُن  الُمجٍہۆ...   sadness\n",
              "4739  الهدف الرئيسي من الاوليمبياد هو نشر روح السلام...      none\n",
              "5026  خوفي عليكِ كـ خوفِ ابٍ يحْمِلُ مولودَهُ الاوَّ...      fear\n",
              "5091                                        الاوليمبياد      none\n",
              "5199         يا رب شفاك لمن مسّه الضر و لمن ضمه التراب.  sympathy\n",
              "5263  اطالب بتحقيق رسمي من قبل اتحاد كره اليد مع الم...      none\n",
              "5296  الغيره فِي الحُبّ  تَجعَلنْا كالاَطْفال لا يُر...      love\n",
              "6264                                     في الاوليمبياد      none\n",
              "6447  اعشق لمعه عينيك واعشق ابتسامتك واريدك بجانبي ط...      love\n",
              "6952  وعلي صعيد منفصل تماما فيه لاعبه المانيه من اصل...      none\n",
              "7158  alghfaily: اللهم تشكو و تنتحب؛ رجالها ونساؤها،...  sympathy\n",
              "7288  : وبكل خوف قلت :  بطل توجعني ، انا مابي الدنيا...      fear\n",
              "7362  aljohra:  رب في يوم الجمعه لك عبادٌ ينتظرون فر...  sympathy\n",
              "7376                                الله يوفقهم وينصرهم  sympathy\n",
              "7740  ياخي كسم العرص اللي رفع علم غير علم مصر في دخل...     anger\n",
              "7807                                        الاوليمبياد      none\n",
              "8018  الهدف الرئيسي من الاوليمبياد هو نشر روح السلام...      none\n",
              "8019  يلاحظ في مقدمه الرساله ونهايتها اطراء جم لعلما...      love\n",
              "8146  : جعل ابوي .. اللي عن الدنيا فنا ف الجنان : وت...  sympathy\n",
              "8413                                    جمالها يالله !!  surprise\n",
              "8506  Madaniah: لقطات تشقعر لها الابدان.. لقطات من ك...  sympathy\n",
              "8633  22   حمدين صباحي حيموت علي الرياسه ياعيني كل ش...     anger\n",
              "8641  :  خايف نكون انتهينا من قبل ما حكايتنا تبتدي و...      fear\n",
              "8785  اذا كان هذا هو حال فكيف هو حال سكانها ؟؟؟  الل...  sympathy\n",
              "8810  ياريت اي حد محبط من نتايج بعثه الاوليمبياد يخل...   sadness\n",
              "9213  558: . ربي امسح علي قلب امي براحـه تسّر نفسها ...  sympathy\n",
              "9494  اللهم ارفع البلاء عن اهلنا في  سوريا و اللهم ا...  sympathy\n",
              "9518  قطر خاشه الاوليمبياد ب25 لاعب .. اللي يبي يخنب...      none\n",
              "9722  2016:  شخصيه الاسبوع  الملك عبدالله بن عبدالعز...       joy\n",
              "9765                                        الاوليمبياد      none\n",
              "9869  اللهم لطفگ باخواننا في و  الموصل اللهم ارحم ضع...  sympathy\n",
              "9894  :  تحب تقول ايه لتميم بن موزه يا جبان ما انت ج...     anger\n",
              "9958  الاوليمبياد ؟ الواحد يلحق يدور في جوجل علي رمي...      none"
            ]
          },
          "execution_count": 275,
          "metadata": {},
          "output_type": "execute_result"
        }
      ],
      "source": [
        "#print the rows which are duplicated\n",
        "df[df['text'].duplicated() == True]"
      ]
    },
    {
      "cell_type": "code",
      "execution_count": null,
      "id": "cebacfa7",
      "metadata": {
        "id": "cebacfa7",
        "outputId": "093f5ef7-ef68-4f09-cfd1-446c5cbe660e"
      },
      "outputs": [
        {
          "data": {
            "text/html": [
              "<div>\n",
              "<style scoped>\n",
              "    .dataframe tbody tr th:only-of-type {\n",
              "        vertical-align: middle;\n",
              "    }\n",
              "\n",
              "    .dataframe tbody tr th {\n",
              "        vertical-align: top;\n",
              "    }\n",
              "\n",
              "    .dataframe thead th {\n",
              "        text-align: right;\n",
              "    }\n",
              "</style>\n",
              "<table border=\"1\" class=\"dataframe\">\n",
              "  <thead>\n",
              "    <tr style=\"text-align: right;\">\n",
              "      <th></th>\n",
              "      <th>text</th>\n",
              "      <th>label</th>\n",
              "    </tr>\n",
              "  </thead>\n",
              "  <tbody>\n",
              "    <tr>\n",
              "      <th>790</th>\n",
              "      <td>الشخص الذي يجعلُك من اساسيات يومه، يستحقُ ان ت...</td>\n",
              "      <td>love</td>\n",
              "    </tr>\n",
              "    <tr>\n",
              "      <th>1236</th>\n",
              "      <td>الشخص الذي يجعلُك من اساسيات يومه، يستحقُ ان ت...</td>\n",
              "      <td>love</td>\n",
              "    </tr>\n",
              "  </tbody>\n",
              "</table>\n",
              "</div>"
            ],
            "text/plain": [
              "                                                   text label\n",
              "790   الشخص الذي يجعلُك من اساسيات يومه، يستحقُ ان ت...  love\n",
              "1236  الشخص الذي يجعلُك من اساسيات يومه، يستحقُ ان ت...  love"
            ]
          },
          "execution_count": 276,
          "metadata": {},
          "output_type": "execute_result"
        }
      ],
      "source": [
        "df[df['text'] == df.iloc[1236]['text']]"
      ]
    },
    {
      "cell_type": "code",
      "execution_count": null,
      "id": "dde7920d",
      "metadata": {
        "id": "dde7920d"
      },
      "outputs": [],
      "source": [
        "#removing duplicated values\n",
        "index = df[df['text'].duplicated() == True].index\n",
        "df.drop(index, axis = 0, inplace = True)"
      ]
    },
    {
      "cell_type": "code",
      "execution_count": null,
      "id": "8bf41137",
      "metadata": {
        "id": "8bf41137",
        "outputId": "5020365b-7524-40d1-f06b-8674b45ea61b"
      },
      "outputs": [
        {
          "data": {
            "text/plain": [
              "754"
            ]
          },
          "execution_count": 278,
          "metadata": {},
          "output_type": "execute_result"
        }
      ],
      "source": [
        "#are there any stop words in the data?\n",
        "arabic_stopwords = stopwords.words(\"arabic\")\n",
        "len(arabic_stopwords)"
      ]
    },
    {
      "cell_type": "markdown",
      "id": "2af884a0",
      "metadata": {
        "id": "2af884a0"
      },
      "source": [
        "Note that There are different libraries provide a different numbers of arabic stop words like \"nltk\" and \"arabicstopwords\" now we will use nltk's arabic stopwords and we will see the results and if needed we can use \"arabicstopwords\" library which provide the stopwords and it's conjugations"
      ]
    },
    {
      "cell_type": "code",
      "execution_count": null,
      "id": "eb317c85",
      "metadata": {
        "id": "eb317c85",
        "outputId": "4a0e2294-278a-44fd-95c4-5ad4d5957d0b"
      },
      "outputs": [
        {
          "data": {
            "text/plain": [
              "1     2843\n",
              "2     2328\n",
              "0     1907\n",
              "3     1532\n",
              "4      843\n",
              "5      371\n",
              "6      134\n",
              "7       43\n",
              "8       16\n",
              "9        2\n",
              "10       1\n",
              "Name: stop_words, dtype: int64"
            ]
          },
          "execution_count": 279,
          "metadata": {},
          "output_type": "execute_result"
        }
      ],
      "source": [
        "df['stop_words'] = df['text'].apply(lambda x: len(set(x.split()) & set(arabic_stopwords)))\n",
        "df.stop_words.value_counts()"
      ]
    },
    {
      "cell_type": "code",
      "execution_count": null,
      "id": "d861da6d",
      "metadata": {
        "id": "d861da6d",
        "outputId": "4be26c2d-3da1-4f08-9dbf-3d3c3efa4a4f"
      },
      "outputs": [
        {
          "data": {
            "text/plain": [
              "<AxesSubplot:ylabel='Frequency'>"
            ]
          },
          "execution_count": 280,
          "metadata": {},
          "output_type": "execute_result"
        },
        {
          "data": {
            "image/png": "[encoded data removed]",
            "text/plain": [
              "<Figure size 432x288 with 1 Axes>"
            ]
          },
          "metadata": {
            "needs_background": "light"
          },
          "output_type": "display_data"
        }
      ],
      "source": [
        "df['stop_words'].plot(kind= 'hist')"
      ]
    },
    {
      "cell_type": "markdown",
      "id": "649dd3ea",
      "metadata": {
        "id": "649dd3ea"
      },
      "source": [
        "it seems that the data contains alot of stop words and it should be removed"
      ]
    },
    {
      "cell_type": "code",
      "execution_count": null,
      "id": "54d46db3",
      "metadata": {
        "id": "54d46db3",
        "outputId": "003e9114-29ff-4b88-c868-7cca614d0986"
      },
      "outputs": [
        {
          "data": {
            "text/plain": [
              "0    8114\n",
              "1    1031\n",
              "2     527\n",
              "3     173\n",
              "4      85\n",
              "5      39\n",
              "6      18\n",
              "7      14\n",
              "9       7\n",
              "8       6\n",
              "Name: emoji_count, dtype: int64"
            ]
          },
          "execution_count": 281,
          "metadata": {},
          "output_type": "execute_result"
        }
      ],
      "source": [
        "#to count the number of emojis in the dataset\n",
        "def emoji_counter(sentence):\n",
        "    return emoji.emoji_count(sentence)\n",
        "\n",
        "df['emoji_count'] = df['text'].apply(lambda x: emoji_counter(x))\n",
        "df.emoji_count.value_counts()[:10]"
      ]
    },
    {
      "cell_type": "markdown",
      "id": "c0aada2c",
      "metadata": {
        "id": "c0aada2c"
      },
      "source": [
        "most of the records doesn't contain emojies but there are about 1910 emoji that we should take care during preprocessing"
      ]
    },
    {
      "cell_type": "markdown",
      "id": "69ef9de3",
      "metadata": {
        "id": "69ef9de3"
      },
      "source": [
        "**extract the emojis from every text**"
      ]
    },
    {
      "cell_type": "code",
      "execution_count": null,
      "id": "9c1fe160",
      "metadata": {
        "id": "9c1fe160"
      },
      "outputs": [],
      "source": [
        "emojis_data = df[df['emoji_count'] > 0]"
      ]
    },
    {
      "cell_type": "code",
      "execution_count": null,
      "id": "f6504fa6",
      "metadata": {
        "id": "f6504fa6"
      },
      "outputs": [],
      "source": [
        "def extract_emoji(text):\n",
        "\n",
        "    emoji_list = []\n",
        "    data = regex.findall(r'\\X', text)\n",
        "    for word in data:\n",
        "        if any(char in emoji.UNICODE_EMOJI['en'] for char in word):\n",
        "            emoji_list.append(word)\n",
        "    \n",
        "    return emoji_list"
      ]
    },
    {
      "cell_type": "code",
      "execution_count": null,
      "id": "2e0e0065",
      "metadata": {
        "id": "2e0e0065"
      },
      "outputs": [],
      "source": [
        "emojis_data['emoji'] = emojis_data['text'].apply(lambda x: extract_emoji(x))\n",
        "emojis_data['emoji'] = emojis_data['emoji'].apply(lambda x: ' '.join([word for word in x ]))"
      ]
    },
    {
      "cell_type": "code",
      "execution_count": null,
      "id": "256420df",
      "metadata": {
        "id": "256420df",
        "outputId": "5ab96e4a-e6e2-479a-8ea4-1d75921baa6f"
      },
      "outputs": [
        {
          "data": {
            "text/html": [
              "<div>\n",
              "<style scoped>\n",
              "    .dataframe tbody tr th:only-of-type {\n",
              "        vertical-align: middle;\n",
              "    }\n",
              "\n",
              "    .dataframe tbody tr th {\n",
              "        vertical-align: top;\n",
              "    }\n",
              "\n",
              "    .dataframe thead th {\n",
              "        text-align: right;\n",
              "    }\n",
              "</style>\n",
              "<table border=\"1\" class=\"dataframe\">\n",
              "  <thead>\n",
              "    <tr style=\"text-align: right;\">\n",
              "      <th></th>\n",
              "      <th>text</th>\n",
              "      <th>label</th>\n",
              "      <th>stop_words</th>\n",
              "      <th>emoji_count</th>\n",
              "      <th>emoji</th>\n",
              "    </tr>\n",
              "  </thead>\n",
              "  <tbody>\n",
              "    <tr>\n",
              "      <th>12</th>\n",
              "      <td>يا ويل  قلبي منه ي كثر ما اغليه ويا كثر ماله ف...</td>\n",
              "      <td>love</td>\n",
              "      <td>6</td>\n",
              "      <td>1</td>\n",
              "      <td>❤</td>\n",
              "    </tr>\n",
              "    <tr>\n",
              "      <th>18</th>\n",
              "      <td>المفروض يلغوها من الاوليمبياد وندخل الاسكواش م...</td>\n",
              "      <td>none</td>\n",
              "      <td>1</td>\n",
              "      <td>1</td>\n",
              "      <td>😂</td>\n",
              "    </tr>\n",
              "    <tr>\n",
              "      <th>19</th>\n",
              "      <td>25jan   اعوذ بالله مايسوي هذا الرز اللي تحكوا ...</td>\n",
              "      <td>sympathy</td>\n",
              "      <td>2</td>\n",
              "      <td>1</td>\n",
              "      <td>💔</td>\n",
              "    </tr>\n",
              "    <tr>\n",
              "      <th>24</th>\n",
              "      <td>بعثه مصر في الاوليمبياد رايحه تتفرج زيها زينا 😂😂</td>\n",
              "      <td>none</td>\n",
              "      <td>1</td>\n",
              "      <td>2</td>\n",
              "      <td>😂 😂</td>\n",
              "    </tr>\n",
              "    <tr>\n",
              "      <th>27</th>\n",
              "      <td>: كل التوفيق للجهاز الاداري بقياده عبدالعزيز ا...</td>\n",
              "      <td>sympathy</td>\n",
              "      <td>1</td>\n",
              "      <td>3</td>\n",
              "      <td>💚 💚 💚</td>\n",
              "    </tr>\n",
              "    <tr>\n",
              "      <th>...</th>\n",
              "      <td>...</td>\n",
              "      <td>...</td>\n",
              "      <td>...</td>\n",
              "      <td>...</td>\n",
              "      <td>...</td>\n",
              "    </tr>\n",
              "    <tr>\n",
              "      <th>10048</th>\n",
              "      <td>تدري وش اللي مَ يخليني انساك ؟اني لا جيِت احب ...</td>\n",
              "      <td>love</td>\n",
              "      <td>1</td>\n",
              "      <td>1</td>\n",
              "      <td>💙</td>\n",
              "    </tr>\n",
              "    <tr>\n",
              "      <th>10056</th>\n",
              "      <td>للامانه كنت متعاطفه مع هيلاري كثير لانها حرمه ...</td>\n",
              "      <td>sympathy</td>\n",
              "      <td>1</td>\n",
              "      <td>1</td>\n",
              "      <td>😁</td>\n",
              "    </tr>\n",
              "    <tr>\n",
              "      <th>10057</th>\n",
              "      <td>كنت خايفه من هاد اليوم 💔💔💔 فاقولنا يا جدك  الج...</td>\n",
              "      <td>fear</td>\n",
              "      <td>2</td>\n",
              "      <td>3</td>\n",
              "      <td>💔 💔 💔</td>\n",
              "    </tr>\n",
              "    <tr>\n",
              "      <th>10060</th>\n",
              "      <td>Mohamed5: اييييه دااا 😲😲 اوزيييل❤</td>\n",
              "      <td>surprise</td>\n",
              "      <td>0</td>\n",
              "      <td>3</td>\n",
              "      <td>😲 😲 ❤</td>\n",
              "    </tr>\n",
              "    <tr>\n",
              "      <th>10061</th>\n",
              "      <td>عملتلها ريتويت بمناسبه ساره بتاعه الاوليمبياد 😃</td>\n",
              "      <td>none</td>\n",
              "      <td>0</td>\n",
              "      <td>1</td>\n",
              "      <td>😃</td>\n",
              "    </tr>\n",
              "  </tbody>\n",
              "</table>\n",
              "<p>1906 rows × 5 columns</p>\n",
              "</div>"
            ],
            "text/plain": [
              "                                                    text     label  \\\n",
              "12     يا ويل  قلبي منه ي كثر ما اغليه ويا كثر ماله ف...      love   \n",
              "18     المفروض يلغوها من الاوليمبياد وندخل الاسكواش م...      none   \n",
              "19     25jan   اعوذ بالله مايسوي هذا الرز اللي تحكوا ...  sympathy   \n",
              "24      بعثه مصر في الاوليمبياد رايحه تتفرج زيها زينا 😂😂      none   \n",
              "27     : كل التوفيق للجهاز الاداري بقياده عبدالعزيز ا...  sympathy   \n",
              "...                                                  ...       ...   \n",
              "10048  تدري وش اللي مَ يخليني انساك ؟اني لا جيِت احب ...      love   \n",
              "10056  للامانه كنت متعاطفه مع هيلاري كثير لانها حرمه ...  sympathy   \n",
              "10057  كنت خايفه من هاد اليوم 💔💔💔 فاقولنا يا جدك  الج...      fear   \n",
              "10060                  Mohamed5: اييييه دااا 😲😲 اوزيييل❤  surprise   \n",
              "10061    عملتلها ريتويت بمناسبه ساره بتاعه الاوليمبياد 😃      none   \n",
              "\n",
              "       stop_words  emoji_count  emoji  \n",
              "12              6            1      ❤  \n",
              "18              1            1      😂  \n",
              "19              2            1      💔  \n",
              "24              1            2    😂 😂  \n",
              "27              1            3  💚 💚 💚  \n",
              "...           ...          ...    ...  \n",
              "10048           1            1      💙  \n",
              "10056           1            1      😁  \n",
              "10057           2            3  💔 💔 💔  \n",
              "10060           0            3  😲 😲 ❤  \n",
              "10061           0            1      😃  \n",
              "\n",
              "[1906 rows x 5 columns]"
            ]
          },
          "execution_count": 285,
          "metadata": {},
          "output_type": "execute_result"
        }
      ],
      "source": [
        "emojis_data"
      ]
    },
    {
      "cell_type": "code",
      "execution_count": null,
      "id": "3577649c",
      "metadata": {
        "scrolled": true,
        "id": "3577649c",
        "outputId": "619e3f03-e5ba-4bc8-970f-353676906c6e"
      },
      "outputs": [
        {
          "data": {
            "text/plain": [
              "😂     730\n",
              "💔     282\n",
              "❤     159\n",
              "❤️    151\n",
              "😍     132\n",
              "😭     122\n",
              "♥      86\n",
              "😢      86\n",
              "✋      83\n",
              "😔      74\n",
              "dtype: int64"
            ]
          },
          "execution_count": 286,
          "metadata": {},
          "output_type": "execute_result"
        }
      ],
      "source": [
        "#find most repeated emojis\n",
        "pd.Series(' '.join(emojis_data['emoji']).split()).value_counts()[:10]"
      ]
    },
    {
      "cell_type": "markdown",
      "id": "3fdd9460",
      "metadata": {
        "id": "3fdd9460"
      },
      "source": [
        "Face With Tears of Joy is the most repeated emoji"
      ]
    },
    {
      "cell_type": "code",
      "execution_count": null,
      "id": "f6699b5f",
      "metadata": {
        "id": "f6699b5f",
        "outputId": "f4e02559-1f65-4e84-d368-fa28e3d4c076"
      },
      "outputs": [
        {
          "data": {
            "text/plain": [
              "'والقلبُ متلهّفٌ؛ لنعيمٍ سرمدي❤️'"
            ]
          },
          "execution_count": 287,
          "metadata": {},
          "output_type": "execute_result"
        }
      ],
      "source": [
        "df.text.iloc[99]"
      ]
    },
    {
      "cell_type": "markdown",
      "id": "bef7c5eb",
      "metadata": {
        "id": "bef7c5eb"
      },
      "source": [
        "After Exploring some records we found Diacritics in the dataset and we should put this in our considerations"
      ]
    },
    {
      "cell_type": "code",
      "execution_count": null,
      "id": "e2d2e81b",
      "metadata": {
        "id": "e2d2e81b",
        "outputId": "0e430e02-619c-465e-d677-56e15a00937a"
      },
      "outputs": [
        {
          "data": {
            "text/html": [
              "<div>\n",
              "<style scoped>\n",
              "    .dataframe tbody tr th:only-of-type {\n",
              "        vertical-align: middle;\n",
              "    }\n",
              "\n",
              "    .dataframe tbody tr th {\n",
              "        vertical-align: top;\n",
              "    }\n",
              "\n",
              "    .dataframe thead th {\n",
              "        text-align: right;\n",
              "    }\n",
              "</style>\n",
              "<table border=\"1\" class=\"dataframe\">\n",
              "  <thead>\n",
              "    <tr style=\"text-align: right;\">\n",
              "      <th></th>\n",
              "      <th>text</th>\n",
              "      <th>label</th>\n",
              "      <th>stop_words</th>\n",
              "      <th>emoji_count</th>\n",
              "    </tr>\n",
              "  </thead>\n",
              "  <tbody>\n",
              "    <tr>\n",
              "      <th>0</th>\n",
              "      <td>الاوليمبياد الجايه هكون لسه ف الكليه ..</td>\n",
              "      <td>none</td>\n",
              "      <td>1</td>\n",
              "      <td>0</td>\n",
              "    </tr>\n",
              "    <tr>\n",
              "      <th>1</th>\n",
              "      <td>عجز الموازنه وصل ل93.7 % من الناتج المحلي يعني...</td>\n",
              "      <td>anger</td>\n",
              "      <td>2</td>\n",
              "      <td>0</td>\n",
              "    </tr>\n",
              "    <tr>\n",
              "      <th>2</th>\n",
              "      <td>كتنا نيله ف حظنا الهباب xD</td>\n",
              "      <td>sadness</td>\n",
              "      <td>1</td>\n",
              "      <td>0</td>\n",
              "    </tr>\n",
              "    <tr>\n",
              "      <th>3</th>\n",
              "      <td>جميعنا نريد تحقيق اهدافنا لكن تونس تالقت في حر...</td>\n",
              "      <td>joy</td>\n",
              "      <td>2</td>\n",
              "      <td>0</td>\n",
              "    </tr>\n",
              "    <tr>\n",
              "      <th>4</th>\n",
              "      <td>الاوليمبياد نظامها مختلف .. ومواعيد المونديال ...</td>\n",
              "      <td>none</td>\n",
              "      <td>1</td>\n",
              "      <td>0</td>\n",
              "    </tr>\n",
              "    <tr>\n",
              "      <th>...</th>\n",
              "      <td>...</td>\n",
              "      <td>...</td>\n",
              "      <td>...</td>\n",
              "      <td>...</td>\n",
              "    </tr>\n",
              "    <tr>\n",
              "      <th>10059</th>\n",
              "      <td>2222: يلا يا جماعه حفله عمرو دياب خلصت نريح شو...</td>\n",
              "      <td>sadness</td>\n",
              "      <td>1</td>\n",
              "      <td>0</td>\n",
              "    </tr>\n",
              "    <tr>\n",
              "      <th>10060</th>\n",
              "      <td>Mohamed5: اييييه دااا 😲😲 اوزيييل❤</td>\n",
              "      <td>surprise</td>\n",
              "      <td>0</td>\n",
              "      <td>3</td>\n",
              "    </tr>\n",
              "    <tr>\n",
              "      <th>10061</th>\n",
              "      <td>عملتلها ريتويت بمناسبه ساره بتاعه الاوليمبياد 😃</td>\n",
              "      <td>none</td>\n",
              "      <td>0</td>\n",
              "      <td>1</td>\n",
              "    </tr>\n",
              "    <tr>\n",
              "      <th>10062</th>\n",
              "      <td>وعليك قبلنا يانجم النجوم ياعندليب الحب والاحساس</td>\n",
              "      <td>joy</td>\n",
              "      <td>0</td>\n",
              "      <td>0</td>\n",
              "    </tr>\n",
              "    <tr>\n",
              "      <th>10063</th>\n",
              "      <td>AlHamad يطلع ننهم كل شي سيء ووضيع كل خساسه الع...</td>\n",
              "      <td>anger</td>\n",
              "      <td>2</td>\n",
              "      <td>0</td>\n",
              "    </tr>\n",
              "  </tbody>\n",
              "</table>\n",
              "<p>10020 rows × 4 columns</p>\n",
              "</div>"
            ],
            "text/plain": [
              "                                                    text     label  \\\n",
              "0                الاوليمبياد الجايه هكون لسه ف الكليه ..      none   \n",
              "1      عجز الموازنه وصل ل93.7 % من الناتج المحلي يعني...     anger   \n",
              "2                             كتنا نيله ف حظنا الهباب xD   sadness   \n",
              "3      جميعنا نريد تحقيق اهدافنا لكن تونس تالقت في حر...       joy   \n",
              "4      الاوليمبياد نظامها مختلف .. ومواعيد المونديال ...      none   \n",
              "...                                                  ...       ...   \n",
              "10059  2222: يلا يا جماعه حفله عمرو دياب خلصت نريح شو...   sadness   \n",
              "10060                  Mohamed5: اييييه دااا 😲😲 اوزيييل❤  surprise   \n",
              "10061    عملتلها ريتويت بمناسبه ساره بتاعه الاوليمبياد 😃      none   \n",
              "10062    وعليك قبلنا يانجم النجوم ياعندليب الحب والاحساس       joy   \n",
              "10063  AlHamad يطلع ننهم كل شي سيء ووضيع كل خساسه الع...     anger   \n",
              "\n",
              "       stop_words  emoji_count  \n",
              "0               1            0  \n",
              "1               2            0  \n",
              "2               1            0  \n",
              "3               2            0  \n",
              "4               1            0  \n",
              "...           ...          ...  \n",
              "10059           1            0  \n",
              "10060           0            3  \n",
              "10061           0            1  \n",
              "10062           0            0  \n",
              "10063           2            0  \n",
              "\n",
              "[10020 rows x 4 columns]"
            ]
          },
          "execution_count": 288,
          "metadata": {},
          "output_type": "execute_result"
        }
      ],
      "source": [
        "df"
      ]
    },
    {
      "cell_type": "markdown",
      "id": "4ce4ca01",
      "metadata": {
        "id": "4ce4ca01"
      },
      "source": [
        "### Assessing Results"
      ]
    },
    {
      "cell_type": "markdown",
      "id": "e40a157a",
      "metadata": {
        "id": "e40a157a"
      },
      "source": [
        "- The data contains null values\n",
        "- The data contains duplicated values\n",
        "- The data is balanced and contains 8 classes\n",
        "- About 20% of the data contains emojis\n",
        "- More than 85% of the text in each records contains stopwords\n",
        "- the data contains Diacritics \n",
        "- The data contains Punctuations, Disapprobation words and hashtags and other things that we should take care during cleaning and preprocessing\n",
        "- Face With Tears of Joy is the most repeated emoji"
      ]
    },
    {
      "cell_type": "markdown",
      "id": "8bf14746",
      "metadata": {
        "id": "8bf14746"
      },
      "source": [
        "## Cleaning"
      ]
    },
    {
      "cell_type": "markdown",
      "id": "6536d4ef",
      "metadata": {
        "id": "6536d4ef"
      },
      "source": [
        "### Constants and important variables"
      ]
    },
    {
      "cell_type": "code",
      "execution_count": null,
      "id": "87a5e0e0",
      "metadata": {
        "id": "87a5e0e0"
      },
      "outputs": [],
      "source": [
        "emojis = {\n",
        "    \"🙂\":\"يبتسم\",\n",
        "    \"😂\":\"يضحك\",\n",
        "    \"💔\":\"قلب حزين\",\n",
        "    \"🙂\":\"يبتسم\",\n",
        "    \"❤️\":\"حب\",\n",
        "    \"❤\":\"حب\",\n",
        "    \"😍\":\"حب\",\n",
        "    \"😭\":\"يبكي\",\n",
        "    \"😢\":\"حزن\",\n",
        "    \"😔\":\"حزن\",\n",
        "    \"♥\":\"حب\",\n",
        "    \"💜\":\"حب\",\n",
        "    \"😅\":\"يضحك\",\n",
        "    \"🙁\":\"حزين\",\n",
        "    \"💕\":\"حب\",\n",
        "    \"💙\":\"حب\",\n",
        "    \"😞\":\"حزين\",\n",
        "    \"😊\":\"سعادة\",\n",
        "    \"👏\":\"يصفق\",\n",
        "    \"👌\":\"احسنت\",\n",
        "    \"😴\":\"ينام\",\n",
        "    \"😀\":\"يضحك\",\n",
        "    \"😌\":\"حزين\",\n",
        "    \"🌹\":\"وردة\",\n",
        "    \"🙈\":\"حب\",\n",
        "    \"😄\":\"يضحك\",\n",
        "    \"😐\":\"محايد\",\n",
        "    \"✌\":\"منتصر\",\n",
        "    \"✨\":\"نجمه\",\n",
        "    \"🤔\":\"تفكير\",\n",
        "    \"😏\":\"يستهزء\",\n",
        "    \"😒\":\"يستهزء\",\n",
        "    \"🙄\":\"ملل\",\n",
        "    \"😕\":\"عصبية\",\n",
        "    \"😃\":\"يضحك\",\n",
        "    \"🌸\":\"وردة\",\n",
        "    \"😓\":\"حزن\",\n",
        "    \"💞\":\"حب\",\n",
        "    \"💗\":\"حب\",\n",
        "    \"😑\":\"منزعج\",\n",
        "    \"💭\":\"تفكير\",\n",
        "    \"😎\":\"ثقة\",\n",
        "    \"💛\":\"حب\",\n",
        "    \"😩\":\"حزين\",\n",
        "    \"💪\":\"عضلات\",\n",
        "    \"👍\":\"موافق\",\n",
        "    \"🙏🏻\":\"رجاء طلب\",\n",
        "    \"😳\":\"مصدوم\",\n",
        "    \"👏🏼\":\"تصفيق\",\n",
        "    \"🎶\":\"موسيقي\",\n",
        "    \"🌚\":\"صمت\",\n",
        "    \"💚\":\"حب\",\n",
        "    \"🙏\":\"رجاء طلب\",\n",
        "    \"💘\":\"حب\",\n",
        "    \"🍃\":\"سلام\",\n",
        "    \"☺\":\"يضحك\",\n",
        "    \"🐸\":\"ضفدع\",\n",
        "    \"😶\":\"مصدوم\",\n",
        "    \"✌️\":\"مرح\",\n",
        "    \"✋🏻\":\"توقف\",\n",
        "    \"😉\":\"غمزة\",\n",
        "    \"🌷\":\"حب\",\n",
        "    \"🙃\":\"مبتسم\",\n",
        "    \"😫\":\"حزين\",\n",
        "    \"😨\":\"مصدوم\",\n",
        "    \"🎼 \":\"موسيقي\",\n",
        "    \"🍁\":\"مرح\",\n",
        "    \"🍂\":\"مرح\",\n",
        "    \"💟\":\"حب\",\n",
        "    \"😪\":\"حزن\",\n",
        "    \"😆\":\"يضحك\",\n",
        "    \"😣\":\"استياء\",\n",
        "    \"☺️\":\"حب\",\n",
        "    \"😱\":\"كارثة\",\n",
        "    \"😁\":\"يضحك\",\n",
        "    \"😖\":\"استياء\",\n",
        "    \"🏃🏼\":\"يجري\",\n",
        "    \"😡\":\"غضب\",\n",
        "    \"🚶\":\"يسير\",\n",
        "    \"🤕\":\"مرض\",\n",
        "    \"‼️\":\"تعجب\",\n",
        "    \"🕊\":\"طائر\",\n",
        "    \"👌🏻\":\"احسنت\",\n",
        "    \"❣\":\"حب\",\n",
        "    \"🙊\":\"مصدوم\",\n",
        "    \"💃\":\"سعادة مرح\",\n",
        "    \"💃🏼\":\"سعادة مرح\",\n",
        "    \"😜\":\"مرح\",\n",
        "    \"👊\":\"ضربة\",\n",
        "    \"😟\":\"استياء\",\n",
        "    \"💖\":\"حب\",\n",
        "    \"😥\":\"حزن\",\n",
        "    \"🎻\":\"موسيقي\",\n",
        "    \"✒\":\"يكتب\",\n",
        "    \"🚶🏻\":\"يسير\",\n",
        "    \"💎\":\"الماظ\",\n",
        "    \"😷\":\"وباء مرض\",\n",
        "    \"☝\":\"واحد\",\n",
        "    \"🚬\":\"تدخين\",\n",
        "    \"💐\" : \"ورد\",\n",
        "    \"🌞\" : \"شمس\",\n",
        "    \"👆\" : \"الاول\",\n",
        "    \"⚠️\" :\"تحذير\",\n",
        "    \"🤗\" : \"احتواء\",\n",
        "    \"✖️\": \"غلط\",\n",
        "    \"📍\"  : \"مكان\",\n",
        "    \"👸\" : \"ملكه\",\n",
        "    \"👑\" : \"تاج\",\n",
        "    \"✔️\" : \"صح\",\n",
        "    \"💌\": \"قلب\",\n",
        "    \"😲\" : \"مندهش\",\n",
        "    \"💦\": \"ماء\",\n",
        "    \"🚫\" : \"خطا\",\n",
        "    \"👏🏻\" : \"برافو\",\n",
        "    \"🏊\" :\"يسبح\",\n",
        "    \"👍🏻\": \"تمام\",\n",
        "    \"⭕️\" :\"دائره كبيره\",\n",
        "    \"🎷\" : \"ساكسفون\",\n",
        "    \"👋\": \"تلويح باليد\",\n",
        "    \"✌🏼\": \"علامه النصر\",\n",
        "    \"🌝\":\"مبتسم\",\n",
        "    \"➿\"  : \"عقده مزدوجه\",\n",
        "    \"💪🏼\" : \"قوي\",\n",
        "    \"📩\":  \"تواصل معي\",\n",
        "    \"☕️\": \"قهوه\",\n",
        "    \"😧\" : \"قلق و صدمة\",\n",
        "    \"🗨\": \"رسالة\",   \n",
        "    \"❗️\" :\"تعجب\",\n",
        "    \"🙆🏻\": \"اشاره موافقه\",\n",
        "    \"👯\" :\"اخوات\",\n",
        "    \"©\" :  \"رمز\",\n",
        "    \"👵🏽\" :\"سيده عجوزه\",\n",
        "    \"🐣\": \"كتكوت\",  \n",
        "    \"🙌\": \"تشجيع\",\n",
        "    \"🙇\": \"شخص ينحني\",\n",
        "    \"👐🏽\":\"ايدي مفتوحه\",    \n",
        "    \"👌🏽\": \"بالظبط\",\n",
        "    \"⁉️\" : \"استنكار\",\n",
        "    \"⚽️\": \"كوره\",\n",
        "    \"🕶\" :\"حب\",\n",
        "    \"🎈\" :\"بالون\",    \n",
        "    \"🎀\":    \"ورده\",\n",
        "    \"💵\":  \"فلوس\",   \n",
        "    \"😋\":  \"جائع\",\n",
        "    \"😛\":  \"يغيظ\",\n",
        "    \"😠\":  \"غاضب\",\n",
        "    \"✍🏻\":  \"يكتب\",\n",
        "    \"🌾\":  \"ارز\",\n",
        "    \"👣\":  \"اثر قدمين\",\n",
        "    \"❌\":\"رفض\",\n",
        "    \"🍟\":\"طعام\",\n",
        "    \"👬\":\"صداقة\",\n",
        "    \"🐰\":\"ارنب\",\n",
        "    \"☂\":\"مطر\",\n",
        "    \"⚜\":\"مملكة فرنسا\",\n",
        "    \"🐑\":\"خروف\",\n",
        "    \"🗣\":\"صوت مرتفع\",\n",
        "    \"👌🏼\":\"احسنت\",\n",
        "    \"☘\":\"مرح\",\n",
        "    \"😮\":\"صدمة\",\n",
        "    \"😦\":\"قلق\",\n",
        "    \"⭕\":\"الحق\",\n",
        "    \"✏️\":\"قلم\",\n",
        "    \"ℹ\":\"معلومات\",\n",
        "    \"🙍🏻\":\"رفض\",\n",
        "    \"⚪️\":\"نضارة نقاء\",\n",
        "    \"🐤\":\"حزن\",\n",
        "    \"💫\":\"مرح\",\n",
        "    \"💝\":\"حب\",\n",
        "    \"🍔\":\"طعام\",\n",
        "    \"❤︎\":\"حب\",\n",
        "    \"✈️\":\"سفر\",\n",
        "    \"🏃🏻‍♀️\":\"يسير\",\n",
        "    \"🍳\":\"ذكر\",\n",
        "    \"🎤\":\"مايك غناء\",\n",
        "    \"🎾\":\"كره\",\n",
        "    \"🐔\":\"دجاجة\",\n",
        "    \"🙋\":\"سؤال\",\n",
        "    \"📮\":\"بحر\",\n",
        "    \"💉\":\"دواء\",\n",
        "    \"🙏🏼\":\"رجاء طلب\",\n",
        "    \"💂🏿 \":\"حارس\",\n",
        "    \"🎬\":\"سينما\",\n",
        "    \"♦️\":\"مرح\",\n",
        "    \"💡\":\"قكرة\",\n",
        "    \"‼\":\"تعجب\",\n",
        "    \"👼\":\"طفل\",\n",
        "    \"🔑\":\"مفتاح\",\n",
        "    \"♥️\":\"حب\",\n",
        "    \"🕋\":\"كعبة\",\n",
        "    \"🐓\":\"دجاجة\",\n",
        "    \"💩\":\"معترض\",\n",
        "    \"👽\":\"فضائي\",\n",
        "    \"☔️\":\"مطر\",\n",
        "    \"🍷\":\"عصير\",\n",
        "    \"🌟\":\"نجمة\",\n",
        "    \"☁️\":\"سحب\",\n",
        "    \"👃\":\"معترض\",\n",
        "    \"🌺\":\"مرح\",\n",
        "    \"🔪\":\"سكينة\",\n",
        "    \"♨\":\"سخونية\",\n",
        "    \"👊🏼\":\"ضرب\",\n",
        "    \"✏\":\"قلم\",\n",
        "    \"🚶🏾‍♀️\":\"يسير\",\n",
        "    \"👊\":\"ضربة\",\n",
        "    \"◾️\":\"وقف\",\n",
        "    \"😚\":\"حب\",\n",
        "    \"🔸\":\"مرح\",\n",
        "    \"👎🏻\":\"لا يعجبني\",\n",
        "    \"👊🏽\":\"ضربة\",\n",
        "    \"😙\":\"حب\",\n",
        "    \"🎥\":\"تصوير\",\n",
        "    \"👉\":\"جذب انتباه\",\n",
        "    \"👏🏽\":\"يصفق\",\n",
        "    \"💪🏻\":\"عضلات\",\n",
        "    \"🏴\":\"اسود\",\n",
        "    \"🔥\":\"حريق\",  \n",
        "    \"😬\":\"عدم الراحة\",   \n",
        "    \"👊🏿\":\"يضرب\",    \n",
        "    \"🌿\":\"ورقه شجره\",     \n",
        "    \"✋🏼\":\"كف ايد\",    \n",
        "    \"👐\":\"ايدي مفتوحه\",      \n",
        "    \"☠️\":\"وجه مرعب\",     \n",
        "    \"🎉\":\"يهنئ\",      \n",
        "    \"🔕\" :\"صامت\",\n",
        "    \"😿\":\"وجه حزين\",      \n",
        "    \"☹️\":\"وجه يائس\",     \n",
        "    \"😘\" :\"حب\",     \n",
        "    \"😰\" :\"خوف و حزن\",\n",
        "    \"🌼\":\"ورده\",      \n",
        "    \"💋\":  \"بوسه\",\n",
        "    \"👇\":\"لاسفل\",     \n",
        "    \"❣️\":\"حب\",     \n",
        "    \"🎧\":\"سماعات\",\n",
        "    \"📝\":\"يكتب\",      \n",
        "    \"😇\":\"دايخ\",      \n",
        "    \"😈\":\"رعب\",      \n",
        "    \"🏃\":\"يجري\",      \n",
        "    \"✌🏻\":\"علامه النصر\",    \n",
        "    \"🔫\":\"يضرب\",      \n",
        "    \"❗️\":\"تعجب\",\n",
        "    \"👎\":\"غير موافق\",      \n",
        "    \"🔐\":\"قفل\",      \n",
        "    \"👈\":\"لليمين\",\n",
        "    \"™\":\"رمز\",    \n",
        "    \"🚶🏽\":\"يتمشي\",    \n",
        "    \"😯\":\"متفاجأ\",  \n",
        "    \"✊\":\"يد مغلقه\",    \n",
        "    \"😻\":\"اعجاب\",    \n",
        "    \"🙉\" :\"قرد\",    \n",
        "    \"👧\":\"طفله صغيره\",     \n",
        "    \"🔴\":\"دائره حمراء\",      \n",
        "    \"💪🏽\":\"قوه\",     \n",
        "    \"💤\":\"ينام\",     \n",
        "    \"👀\":\"ينظر\",     \n",
        "    \"✍🏻\":\"يكتب\",  \n",
        "    \"❄️\":\"تلج\",\n",
        "    \"💀\":\"رعب\",   \n",
        "    \"😤\":\"وجه عابس\",      \n",
        "    \"🖋\":\"قلم\",      \n",
        "    \"🎩\":\"كاب\",      \n",
        "    \"☕️\":\"قهوه\",     \n",
        "    \"😹\":\"ضحك\",     \n",
        "    \"💓\":\"حب\",      \n",
        "    \"☄️ \":\"نار\",     \n",
        "    \"👻\":\"رعب\",\n",
        "    }\n",
        "\n",
        "emoticons_to_emoji = {\n",
        "    \":)\" : \"🙂\",\n",
        "    \":(\" : \"🙁\",\n",
        "    \"xD\" : \"😆\",\n",
        "    \":=(\": \"😭\",\n",
        "    \":'(\": \"😢\",\n",
        "    \":'‑(\": \"😢\",\n",
        "    \"XD\" : \"😂\",\n",
        "    \":D\" : \"🙂\",\n",
        "    \"♬\" : \"موسيقي\",\n",
        "    \"♡\" : \"❤\",\n",
        "    \"☻\"  : \"🙂\",\n",
        "    }"
      ]
    },
    {
      "cell_type": "markdown",
      "id": "876917e4",
      "metadata": {
        "id": "876917e4"
      },
      "source": [
        "### Functions"
      ]
    },
    {
      "cell_type": "code",
      "execution_count": null,
      "id": "f4d8fe0d",
      "metadata": {
        "id": "f4d8fe0d"
      },
      "outputs": [],
      "source": [
        "def remove_stop_words(text):\n",
        "    Text=[i for i in str(text).split() if i not in arabic_stopwords]\n",
        "    return \" \".join(Text)\n",
        "\n",
        "def ISRI_Stemmer(text):\n",
        "    #making an object\n",
        "    stemmer = ISRIStemmer()\n",
        "    \n",
        "    #stemming each word\n",
        "    text = stemmer.stem(text)\n",
        "    text = stemmer.pre32(text)\n",
        "    text = stemmer.suf32(text)\n",
        "    \n",
        "    return text\n",
        "\n",
        "def Snowball_stemmer(text):\n",
        "    text = text.split()\n",
        "    #making an object\n",
        "    stemmer = SnowballStemmer(\"arabic\")\n",
        "    \n",
        "    #stemming each word\n",
        "    text=[stemmer.stem(y) for y in text]\n",
        "    \n",
        "    return \" \" .join(text)\n",
        "\n",
        "def Arabic_Light_Stemmer(text):\n",
        "    #making an object\n",
        "    Arabic_Stemmer = ArabicLightStemmer()\n",
        "    \n",
        "    #stemming each word\n",
        "    text=[Arabic_Stemmer.light_stem(y) for y in text.split()]\n",
        "    \n",
        "    return \" \" .join(text)\n",
        "\n",
        "def normalizeArabic(text):\n",
        "    text = text.strip()\n",
        "    text = re.sub(\"ى\", \"ي\", text)\n",
        "    text = re.sub(\"ؤ\", \"ء\", text)\n",
        "    text = re.sub(\"ئ\", \"ء\", text)\n",
        "    text = re.sub(\"ة\", \"ه\", text)\n",
        "    \n",
        "    #remove repetetions\n",
        "    text = re.sub(\"[إأٱآا]\", \"ا\", text)\n",
        "    text = text.replace('وو', 'و')\n",
        "    text = text.replace('يي', 'ي')\n",
        "    text = text.replace('ييي', 'ي')\n",
        "    text = text.replace('اا', 'ا')\n",
        "\n",
        "    ## remove extra whitespace\n",
        "    text = re.sub('\\s+', ' ', text)\n",
        "    \n",
        "    # Remove longation\n",
        "    text = re.sub(r'(.)\\1+', r\"\\1\\1\", text) \n",
        "    \n",
        "    #Strip vowels from a text, include Shadda.\n",
        "    text = araby.strip_tashkeel(text)\n",
        "    \n",
        "    #Strip diacritics from a text, include harakats and small lettres The striped marks are\n",
        "    text = araby.strip_diacritics(text)\n",
        "    text=''.join([i for i in text if not i.isdigit()])\n",
        "    return text\n",
        "\n",
        "def Removing_non_arabic(text):\n",
        "    text = re.sub('[A-Za-z]+',' ',text)\n",
        "    return text\n",
        "\n",
        "def Removing_numbers(text):\n",
        "    text=''.join([i for i in text if not i.isdigit()])\n",
        "    return text\n",
        "\n",
        "def Removing_punctuations(text):\n",
        "    ## Remove punctuations\n",
        "    text = re.sub('[%s]' % re.escape(\"\"\"!\"#$%&'()*+,،-./:;<=>؟?@[\\]^_`{|}~\"\"\"), ' ', text)\n",
        "    text = text.replace('؛',\"\", )\n",
        "    \n",
        "    ## remove extra whitespace\n",
        "    text = re.sub('\\s+', ' ', text)\n",
        "    text =  \" \".join(text.split())\n",
        "    return text.strip()\n",
        "\n",
        "def Removing_urls(text):\n",
        "    url_pattern = re.compile(r'https?://\\S+|www\\.\\S+')\n",
        "    return url_pattern.sub(r'', text)\n",
        "\n",
        "def remove_emoji(string):\n",
        "    \n",
        "    emoji_pattern = re.compile(\"[\"\n",
        "                           u\"\\U0001F600-\\U0001F64F\"  # emoticons\n",
        "                           u\"\\U0001F300-\\U0001F5FF\"  # symbols & pictographs\n",
        "                           u\"\\U0001F680-\\U0001F6FF\"  # transport & map symbols\n",
        "                           u\"\\U0001F1E0-\\U0001F1FF\"  # flags (iOS)\n",
        "                           u\"\\U00002702-\\U000027B0\"\n",
        "                           u\"\\U000024C2-\\U0001F251\"\n",
        "                           \"]+\", flags=re.UNICODE)\n",
        "    return emoji_pattern.sub(r'', string).strip()\n",
        "\n",
        "def remove_emoticons(text):\n",
        "    emoticon_pattern = re.compile(u'(' + u'|'.join(k for k in EMOTICONS) + u')')\n",
        "    return emoticon_pattern.sub(r'', text).strip()\n",
        "\n",
        "\n",
        "\n",
        "def remove_extra_Space(text):\n",
        "    ## remove extra whitespace\n",
        "    text = re.sub('\\s+', ' ', text)\n",
        "    return  \" \".join(text.split())\n",
        "\n",
        "def remove_small_sentences(df):\n",
        "    for i in range(len(df)):\n",
        "        if len(df.text.iloc[i].split()) < 3:\n",
        "            df.text.iloc[i] = np.nan\n",
        "            \n",
        "            \n",
        "def replace_emoticon_with_emojis(text):\n",
        "    for i in range (len(text)):\n",
        "        message = text.iloc[i]\n",
        "        seperarate_word = message.split(' ')\n",
        "        cleaned_data.text.iloc[i] = \"\"\n",
        "\n",
        "        for word in seperarate_word:\n",
        "            text.iloc[i] += emoticons_to_emoji.get(word, word) + \" \"\n",
        "\n",
        "def replace_emojis_with_text(text):\n",
        "    for i in range (len(text)):\n",
        "            message = text.iloc[i]\n",
        "            seperarate_word = regex.findall(r'\\X', message)\n",
        "            text.iloc[i] = \"\"\n",
        "\n",
        "            for word in seperarate_word:\n",
        "                if any(char in emoji.UNICODE_EMOJI['en'] for char in word):\n",
        "                        text.iloc[i] += \" \" + emojis.get(word, word) + \" \"\n",
        "                else:\n",
        "                        text.iloc[i] +=  emojis.get(word, word) + \"\"\n",
        "            \n",
        "def space_between_emojis(s): \n",
        "    return ''.join((' '+c+' ') if c in emoji.UNICODE_EMOJI['en'] else c for c in s)\n"
      ]
    },
    {
      "cell_type": "code",
      "execution_count": null,
      "id": "1da71270",
      "metadata": {
        "id": "1da71270"
      },
      "outputs": [],
      "source": [
        "cleaned_data = pd.read_excel('NileUniversity_Emotional.xlsx')"
      ]
    },
    {
      "cell_type": "code",
      "execution_count": null,
      "id": "1d96cf5a",
      "metadata": {
        "id": "1d96cf5a",
        "outputId": "aff4a459-0ef3-4b01-d5d6-baef47096e4a"
      },
      "outputs": [
        {
          "data": {
            "text/html": [
              "<div>\n",
              "<style scoped>\n",
              "    .dataframe tbody tr th:only-of-type {\n",
              "        vertical-align: middle;\n",
              "    }\n",
              "\n",
              "    .dataframe tbody tr th {\n",
              "        vertical-align: top;\n",
              "    }\n",
              "\n",
              "    .dataframe thead th {\n",
              "        text-align: right;\n",
              "    }\n",
              "</style>\n",
              "<table border=\"1\" class=\"dataframe\">\n",
              "  <thead>\n",
              "    <tr style=\"text-align: right;\">\n",
              "      <th></th>\n",
              "      <th>ID</th>\n",
              "      <th>text</th>\n",
              "      <th>label</th>\n",
              "    </tr>\n",
              "  </thead>\n",
              "  <tbody>\n",
              "    <tr>\n",
              "      <th>0</th>\n",
              "      <td>1</td>\n",
              "      <td>الاوليمبياد الجايه هكون لسه ف الكليه ..</td>\n",
              "      <td>none</td>\n",
              "    </tr>\n",
              "    <tr>\n",
              "      <th>1</th>\n",
              "      <td>2</td>\n",
              "      <td>عجز الموازنه وصل ل93.7 % من الناتج المحلي يعني...</td>\n",
              "      <td>anger</td>\n",
              "    </tr>\n",
              "    <tr>\n",
              "      <th>2</th>\n",
              "      <td>3</td>\n",
              "      <td>كتنا نيله ف حظنا الهباب xD</td>\n",
              "      <td>sadness</td>\n",
              "    </tr>\n",
              "    <tr>\n",
              "      <th>3</th>\n",
              "      <td>4</td>\n",
              "      <td>جميعنا نريد تحقيق اهدافنا لكن تونس تالقت في حر...</td>\n",
              "      <td>joy</td>\n",
              "    </tr>\n",
              "    <tr>\n",
              "      <th>4</th>\n",
              "      <td>5</td>\n",
              "      <td>الاوليمبياد نظامها مختلف .. ومواعيد المونديال ...</td>\n",
              "      <td>none</td>\n",
              "    </tr>\n",
              "  </tbody>\n",
              "</table>\n",
              "</div>"
            ],
            "text/plain": [
              "   ID                                               text    label\n",
              "0   1            الاوليمبياد الجايه هكون لسه ف الكليه ..     none\n",
              "1   2  عجز الموازنه وصل ل93.7 % من الناتج المحلي يعني...    anger\n",
              "2   3                         كتنا نيله ف حظنا الهباب xD  sadness\n",
              "3   4  جميعنا نريد تحقيق اهدافنا لكن تونس تالقت في حر...      joy\n",
              "4   5  الاوليمبياد نظامها مختلف .. ومواعيد المونديال ...     none"
            ]
          },
          "execution_count": 792,
          "metadata": {},
          "output_type": "execute_result"
        }
      ],
      "source": [
        "cleaned_data.head()"
      ]
    },
    {
      "cell_type": "markdown",
      "id": "47e8bbe6",
      "metadata": {
        "id": "47e8bbe6"
      },
      "source": [
        "**drop unnecessary columns**"
      ]
    },
    {
      "cell_type": "code",
      "execution_count": null,
      "id": "20d6f4a0",
      "metadata": {
        "id": "20d6f4a0"
      },
      "outputs": [],
      "source": [
        "cleaned_data.drop('ID', axis=1,inplace=True)"
      ]
    },
    {
      "cell_type": "markdown",
      "id": "cb7cd6a7",
      "metadata": {
        "id": "cb7cd6a7"
      },
      "source": [
        "**removing null values**"
      ]
    },
    {
      "cell_type": "code",
      "execution_count": null,
      "id": "93059648",
      "metadata": {
        "id": "93059648"
      },
      "outputs": [],
      "source": [
        "cleaned_data.drop(8619, axis=0, inplace = True)"
      ]
    },
    {
      "cell_type": "code",
      "execution_count": null,
      "id": "ea3f4d1a",
      "metadata": {
        "id": "ea3f4d1a",
        "outputId": "f3fb8e34-d946-4014-b0d6-38e18554fed9"
      },
      "outputs": [
        {
          "data": {
            "text/plain": [
              "text     0\n",
              "label    0\n",
              "dtype: int64"
            ]
          },
          "execution_count": 795,
          "metadata": {},
          "output_type": "execute_result"
        }
      ],
      "source": [
        "#Before\n",
        "cleaned_data.isnull().sum()"
      ]
    },
    {
      "cell_type": "code",
      "execution_count": null,
      "id": "41bafd35",
      "metadata": {
        "id": "41bafd35",
        "outputId": "996ab0f9-37d7-4ef5-a099-7efefc28fe8c"
      },
      "outputs": [
        {
          "data": {
            "text/plain": [
              "text     0\n",
              "label    0\n",
              "dtype: int64"
            ]
          },
          "execution_count": 796,
          "metadata": {},
          "output_type": "execute_result"
        }
      ],
      "source": [
        "#Ater\n",
        "cleaned_data.isnull().sum()"
      ]
    },
    {
      "cell_type": "markdown",
      "id": "5932e47b",
      "metadata": {
        "id": "5932e47b"
      },
      "source": [
        "**removing duplicated values**"
      ]
    },
    {
      "cell_type": "code",
      "execution_count": null,
      "id": "84cde057",
      "metadata": {
        "id": "84cde057"
      },
      "outputs": [],
      "source": [
        "num_of_duplications = cleaned_data.duplicated().sum()\n",
        "index = cleaned_data[cleaned_data['text'].duplicated() == True].index\n",
        "cleaned_data.drop(index, axis = 0, inplace = True)\n",
        "\n",
        "#resetting the index of the data\n",
        "cleaned_data.reset_index(drop=True, inplace = True)"
      ]
    },
    {
      "cell_type": "code",
      "execution_count": null,
      "id": "b4dd1249",
      "metadata": {
        "scrolled": true,
        "id": "b4dd1249",
        "outputId": "d93a5f32-f9fd-443e-e070-47b3722c4c46"
      },
      "outputs": [
        {
          "data": {
            "text/plain": [
              "36"
            ]
          },
          "execution_count": 798,
          "metadata": {},
          "output_type": "execute_result"
        }
      ],
      "source": [
        "#Before\n",
        "num_of_duplications"
      ]
    },
    {
      "cell_type": "code",
      "execution_count": null,
      "id": "c805e358",
      "metadata": {
        "id": "c805e358",
        "outputId": "1575e4b0-a065-42ba-b191-ce339d1a9364"
      },
      "outputs": [
        {
          "data": {
            "text/plain": [
              "0"
            ]
          },
          "execution_count": 799,
          "metadata": {},
          "output_type": "execute_result"
        }
      ],
      "source": [
        "#Ater\n",
        "cleaned_data.duplicated().sum()"
      ]
    },
    {
      "cell_type": "markdown",
      "id": "14979c4a",
      "metadata": {
        "id": "14979c4a"
      },
      "source": [
        "**Replace emoticons with emojis**"
      ]
    },
    {
      "cell_type": "code",
      "execution_count": null,
      "id": "6e7a5cf3",
      "metadata": {
        "id": "6e7a5cf3"
      },
      "outputs": [],
      "source": [
        "#cleaned_data.text=cleaned_data.text.apply(lambda text : remove_emoji(text))\n",
        "replace_emoticon_with_emojis(cleaned_data.text)"
      ]
    },
    {
      "cell_type": "code",
      "execution_count": null,
      "id": "8b18b91f",
      "metadata": {
        "id": "8b18b91f",
        "outputId": "b03971fd-0b95-4701-f1f3-e5fbe8b43a42"
      },
      "outputs": [
        {
          "data": {
            "text/plain": [
              "'كتنا نيله ف حظنا الهباب xD'"
            ]
          },
          "execution_count": 801,
          "metadata": {},
          "output_type": "execute_result"
        }
      ],
      "source": [
        "#Before\n",
        "df.iloc[2].text"
      ]
    },
    {
      "cell_type": "code",
      "execution_count": null,
      "id": "49557a1b",
      "metadata": {
        "id": "49557a1b",
        "outputId": "b45396cd-2787-4038-90a9-2759afc41c44"
      },
      "outputs": [
        {
          "data": {
            "text/plain": [
              "'كتنا نيله ف حظنا الهباب 😆 '"
            ]
          },
          "execution_count": 802,
          "metadata": {},
          "output_type": "execute_result"
        }
      ],
      "source": [
        "#After\n",
        "cleaned_data.iloc[2].text"
      ]
    },
    {
      "cell_type": "code",
      "execution_count": null,
      "id": "7709041d",
      "metadata": {
        "id": "7709041d"
      },
      "outputs": [],
      "source": [
        "#we will save this data mapping the emojis into words\n",
        "cleaned_data.to_csv('cleaned_data_with_emojis.csv', index = False, encoding='utf-8-sig')"
      ]
    },
    {
      "cell_type": "markdown",
      "id": "c37c4236",
      "metadata": {
        "id": "c37c4236"
      },
      "source": [
        "**Replace each emoji with a text**"
      ]
    },
    {
      "cell_type": "code",
      "execution_count": null,
      "id": "e8f08fdd",
      "metadata": {
        "id": "e8f08fdd"
      },
      "outputs": [],
      "source": [
        "replace_emojis_with_text(cleaned_data.text)"
      ]
    },
    {
      "cell_type": "code",
      "execution_count": null,
      "id": "c5fe8569",
      "metadata": {
        "id": "c5fe8569",
        "outputId": "e7dd817c-ccf7-412c-b5df-50e98df8370e"
      },
      "outputs": [
        {
          "data": {
            "text/plain": [
              "'كتنا نيله ف حظنا الهباب  يضحك  '"
            ]
          },
          "execution_count": 806,
          "metadata": {},
          "output_type": "execute_result"
        }
      ],
      "source": [
        "cleaned_data.iloc[2].text"
      ]
    },
    {
      "cell_type": "markdown",
      "id": "79807397",
      "metadata": {
        "id": "79807397"
      },
      "source": [
        "**removing arabic stopwords**"
      ]
    },
    {
      "cell_type": "code",
      "execution_count": null,
      "id": "85533026",
      "metadata": {
        "id": "85533026"
      },
      "outputs": [],
      "source": [
        "cleaned_data.text=cleaned_data.text.apply(lambda text : remove_stop_words(text))"
      ]
    },
    {
      "cell_type": "code",
      "execution_count": null,
      "id": "d9d2fd56",
      "metadata": {
        "id": "d9d2fd56",
        "outputId": "c208cca8-6698-409a-cd8a-15e1f19ed464"
      },
      "outputs": [
        {
          "data": {
            "text/plain": [
              "'عجز الموازنه وصل ل93.7 % من الناتج المحلي يعني لسه اقل من 7 % و نفلس و بهايم لسه يتابعوا الاوليمبياد'"
            ]
          },
          "execution_count": 808,
          "metadata": {},
          "output_type": "execute_result"
        }
      ],
      "source": [
        "#Before\n",
        "df.text[1]"
      ]
    },
    {
      "cell_type": "code",
      "execution_count": null,
      "id": "9c2c7962",
      "metadata": {
        "id": "9c2c7962",
        "outputId": "3ecefa65-9d8a-4475-c82b-0a5d7f3ecb56"
      },
      "outputs": [
        {
          "data": {
            "text/plain": [
              "'عجز الموازنه وصل ل93.7 % الناتج المحلي يعني لسه اقل 7 % نفلس بهايم لسه يتابعوا الاوليمبياد'"
            ]
          },
          "execution_count": 809,
          "metadata": {},
          "output_type": "execute_result"
        }
      ],
      "source": [
        "#After\n",
        "cleaned_data.text[1]"
      ]
    },
    {
      "cell_type": "markdown",
      "id": "a46a3201",
      "metadata": {
        "id": "a46a3201"
      },
      "source": [
        "**Removal of non-Arabic words**"
      ]
    },
    {
      "cell_type": "code",
      "execution_count": null,
      "id": "5d8e73b6",
      "metadata": {
        "id": "5d8e73b6"
      },
      "outputs": [],
      "source": [
        "cleaned_data.text=cleaned_data.text.apply(lambda text : Removing_non_arabic(text))"
      ]
    },
    {
      "cell_type": "code",
      "execution_count": null,
      "id": "2f498876",
      "metadata": {
        "id": "2f498876",
        "outputId": "d8497558-eaac-4e86-8741-2cc77cdcf5f4"
      },
      "outputs": [
        {
          "data": {
            "text/plain": [
              "'Mohamed5: اييييه دااا 😲😲 اوزيييل❤'"
            ]
          },
          "execution_count": 811,
          "metadata": {},
          "output_type": "execute_result"
        }
      ],
      "source": [
        "#Before\n",
        "df.text.iloc[10016]"
      ]
    },
    {
      "cell_type": "code",
      "execution_count": null,
      "id": "dfd5e916",
      "metadata": {
        "id": "dfd5e916",
        "outputId": "6003e821-854a-46ec-e467-b4f96ffc887b"
      },
      "outputs": [
        {
          "data": {
            "text/plain": [
              "' 5: اييييه دااا مندهش مندهش اوزيييل حب'"
            ]
          },
          "execution_count": 812,
          "metadata": {},
          "output_type": "execute_result"
        }
      ],
      "source": [
        "#After\n",
        "cleaned_data.iloc[10016].text"
      ]
    },
    {
      "cell_type": "markdown",
      "id": "1c9b0b66",
      "metadata": {
        "id": "1c9b0b66"
      },
      "source": [
        "**removing Diacritics**"
      ]
    },
    {
      "cell_type": "code",
      "execution_count": null,
      "id": "e4d59a53",
      "metadata": {
        "id": "e4d59a53"
      },
      "outputs": [],
      "source": [
        "cleaned_data.text=cleaned_data.text.apply(lambda text : normalizeArabic(text))"
      ]
    },
    {
      "cell_type": "code",
      "execution_count": null,
      "id": "916f5d03",
      "metadata": {
        "id": "916f5d03",
        "outputId": "0fb883b5-71ab-444a-b5f1-18c3ecafd8e8"
      },
      "outputs": [
        {
          "data": {
            "text/plain": [
              "'والقلبُ متلهّفٌ؛ لنعيمٍ سرمدي❤️'"
            ]
          },
          "execution_count": 814,
          "metadata": {},
          "output_type": "execute_result"
        }
      ],
      "source": [
        "df.text.iloc[99]"
      ]
    },
    {
      "cell_type": "code",
      "execution_count": null,
      "id": "8439ace7",
      "metadata": {
        "id": "8439ace7",
        "outputId": "3b4a37ef-d4f9-4fc2-ff86-da60f462059e"
      },
      "outputs": [
        {
          "data": {
            "text/plain": [
              "'والقلب متلهف؛ لنعيم سرمدي حب'"
            ]
          },
          "execution_count": 815,
          "metadata": {},
          "output_type": "execute_result"
        }
      ],
      "source": [
        "cleaned_data.text.iloc[99]"
      ]
    },
    {
      "cell_type": "markdown",
      "id": "9418fef4",
      "metadata": {
        "id": "9418fef4"
      },
      "source": [
        "**Removal of numbers**"
      ]
    },
    {
      "cell_type": "code",
      "execution_count": null,
      "id": "f292c65e",
      "metadata": {
        "id": "f292c65e"
      },
      "outputs": [],
      "source": [
        "cleaned_data.text=cleaned_data.text.apply(lambda text : Removing_numbers(text))"
      ]
    },
    {
      "cell_type": "code",
      "execution_count": null,
      "id": "d6c2360d",
      "metadata": {
        "id": "d6c2360d",
        "outputId": "5f035021-3cfe-4b14-bfe4-939203a5f6ed"
      },
      "outputs": [
        {
          "data": {
            "text/plain": [
              "'2222: يلا يا جماعه حفله عمرو دياب خلصت نريح شويه ونبدا نكتئب ونعشم نفسنا اننا هنروح الحفله التانيه وبعدين نقطع شرايينا يلا.'"
            ]
          },
          "execution_count": 817,
          "metadata": {},
          "output_type": "execute_result"
        }
      ],
      "source": [
        "#Before\n",
        "df.text.iloc[10015]"
      ]
    },
    {
      "cell_type": "code",
      "execution_count": null,
      "id": "5cf66916",
      "metadata": {
        "id": "5cf66916",
        "outputId": "1611b1a1-686b-489f-abcf-6d46ebde59b4"
      },
      "outputs": [
        {
          "data": {
            "text/plain": [
              "': يلا جماعه حفله عمرو دياب خلصت نريح شويه ونبدا نكتءب ونعشم نفسنا اننا هنروح الحفله التانيه وبعدين نقطع شراينا يلا.'"
            ]
          },
          "execution_count": 818,
          "metadata": {},
          "output_type": "execute_result"
        }
      ],
      "source": [
        "cleaned_data.iloc[10015].text"
      ]
    },
    {
      "cell_type": "markdown",
      "id": "b839921e",
      "metadata": {
        "id": "b839921e"
      },
      "source": [
        "**Removing Hastags**"
      ]
    },
    {
      "cell_type": "code",
      "execution_count": null,
      "id": "bec66351",
      "metadata": {
        "id": "bec66351"
      },
      "outputs": [],
      "source": [
        "for i in range(len(cleaned_data)):\n",
        "    index = cleaned_data.text.iloc[i].find(\"#\")\n",
        "    if index != -1:\n",
        "        print(index)"
      ]
    },
    {
      "cell_type": "markdown",
      "id": "694841c4",
      "metadata": {
        "id": "694841c4"
      },
      "source": [
        "it seems that the data doesn't contains hastgas"
      ]
    },
    {
      "cell_type": "markdown",
      "id": "c1d1e658",
      "metadata": {
        "id": "c1d1e658"
      },
      "source": [
        "**Removal of Links**"
      ]
    },
    {
      "cell_type": "code",
      "execution_count": null,
      "id": "fcf8ad86",
      "metadata": {
        "id": "fcf8ad86"
      },
      "outputs": [],
      "source": [
        "cleaned_data.text=cleaned_data.text.apply(lambda text : Removing_urls(text))"
      ]
    },
    {
      "cell_type": "markdown",
      "id": "1aa6e6d6",
      "metadata": {
        "id": "1aa6e6d6"
      },
      "source": [
        "**Removing Punctuations**"
      ]
    },
    {
      "cell_type": "code",
      "execution_count": null,
      "id": "f5e1b111",
      "metadata": {
        "id": "f5e1b111"
      },
      "outputs": [],
      "source": [
        "cleaned_data.text=cleaned_data.text.apply(lambda text : Removing_punctuations(text))"
      ]
    },
    {
      "cell_type": "code",
      "execution_count": null,
      "id": "5ac494d9",
      "metadata": {
        "id": "5ac494d9",
        "outputId": "bf32197c-a2e1-4cac-a19d-91ea9ce8f823"
      },
      "outputs": [
        {
          "data": {
            "text/plain": [
              "'الاوليمبياد الجايه هكون لسه ف الكليه ..'"
            ]
          },
          "execution_count": 822,
          "metadata": {},
          "output_type": "execute_result"
        }
      ],
      "source": [
        "#Before\n",
        "df.text.iloc[0]"
      ]
    },
    {
      "cell_type": "code",
      "execution_count": null,
      "id": "28e1e9ec",
      "metadata": {
        "id": "28e1e9ec",
        "outputId": "6c6cdb88-561b-4e17-9125-63b7cd533b54"
      },
      "outputs": [
        {
          "data": {
            "text/plain": [
              "'الاوليمبياد الجايه هكون لسه الكليه'"
            ]
          },
          "execution_count": 823,
          "metadata": {},
          "output_type": "execute_result"
        }
      ],
      "source": [
        "#After\n",
        "cleaned_data.text.iloc[0]"
      ]
    },
    {
      "cell_type": "markdown",
      "id": "0bac8121",
      "metadata": {
        "id": "0bac8121"
      },
      "source": [
        "**Reducing words to their roots**"
      ]
    },
    {
      "cell_type": "code",
      "execution_count": null,
      "id": "340d6b48",
      "metadata": {
        "id": "340d6b48"
      },
      "outputs": [],
      "source": [
        "cleaned_data.text=cleaned_data.text.apply(lambda text : ISRI_Stemmer(text))"
      ]
    },
    {
      "cell_type": "code",
      "execution_count": null,
      "id": "cc11a598",
      "metadata": {
        "id": "cc11a598",
        "outputId": "21fdacfb-3a04-40df-ef88-e5a9bd38bf0f"
      },
      "outputs": [
        {
          "data": {
            "text/plain": [
              "109"
            ]
          },
          "execution_count": 825,
          "metadata": {},
          "output_type": "execute_result"
        }
      ],
      "source": [
        "cleaned_data.duplicated().sum()"
      ]
    },
    {
      "cell_type": "markdown",
      "id": "f8feb31a",
      "metadata": {
        "id": "f8feb31a"
      },
      "source": [
        "Note that: duplicated value was found when we remove diacritics and non arabic words and punctuations and this because some rows in the dataset only contains stopwords or it contains one or two words and other reasons so, we have to remove the duplicated values again"
      ]
    },
    {
      "cell_type": "code",
      "execution_count": null,
      "id": "d05132f9",
      "metadata": {
        "id": "d05132f9"
      },
      "outputs": [],
      "source": [
        "index = cleaned_data[cleaned_data['text'].duplicated() == True].index\n",
        "cleaned_data.drop(index, axis = 0, inplace = True)\n",
        "\n",
        "#resetting the index of the data\n",
        "cleaned_data.reset_index(drop=True, inplace = True)"
      ]
    },
    {
      "cell_type": "code",
      "execution_count": null,
      "id": "f49ed30a",
      "metadata": {
        "id": "f49ed30a",
        "outputId": "bb29ef20-cd6e-4d17-fd6f-b0d06ae8d2da"
      },
      "outputs": [
        {
          "data": {
            "text/plain": [
              "0"
            ]
          },
          "execution_count": 827,
          "metadata": {},
          "output_type": "execute_result"
        }
      ],
      "source": [
        "cleaned_data.duplicated().sum()"
      ]
    },
    {
      "cell_type": "markdown",
      "id": "31740772",
      "metadata": {
        "id": "31740772"
      },
      "source": [
        "After removing the duplicated values we will remove every row which contains only one or two words berfore preprocessing"
      ]
    },
    {
      "cell_type": "code",
      "execution_count": null,
      "id": "f551a4cf",
      "metadata": {
        "id": "f551a4cf"
      },
      "outputs": [],
      "source": [
        "#this function will convert the text which contains one or two words into null value\n",
        "remove_small_sentences(cleaned_data)"
      ]
    },
    {
      "cell_type": "code",
      "execution_count": null,
      "id": "9fbc5b11",
      "metadata": {
        "id": "9fbc5b11",
        "outputId": "3c4c3427-3f2d-4aaf-c675-eab3ff675f35"
      },
      "outputs": [
        {
          "data": {
            "text/plain": [
              "text     231\n",
              "label      0\n",
              "dtype: int64"
            ]
          },
          "execution_count": 829,
          "metadata": {},
          "output_type": "execute_result"
        }
      ],
      "source": [
        "cleaned_data.isnull().sum()"
      ]
    },
    {
      "cell_type": "code",
      "execution_count": null,
      "id": "5d182a6f",
      "metadata": {
        "id": "5d182a6f"
      },
      "outputs": [],
      "source": [
        "cleaned_data.dropna(inplace = True)"
      ]
    },
    {
      "cell_type": "code",
      "execution_count": null,
      "id": "05f6d288",
      "metadata": {
        "id": "05f6d288"
      },
      "outputs": [],
      "source": [
        "cleaned_data.to_csv('cleaned_data_IRIS.csv', index = False, encoding='utf-8-sig')"
      ]
    },
    {
      "cell_type": "markdown",
      "id": "58977c51",
      "metadata": {
        "id": "58977c51"
      },
      "source": [
        "## Modeling"
      ]
    },
    {
      "cell_type": "code",
      "execution_count": null,
      "id": "6e7ace54",
      "metadata": {
        "id": "6e7ace54"
      },
      "outputs": [],
      "source": [
        "X = cleaned_data.text.values\n",
        "y = cleaned_data.label.values"
      ]
    },
    {
      "cell_type": "code",
      "execution_count": null,
      "id": "bfd86e0c",
      "metadata": {
        "id": "bfd86e0c",
        "outputId": "8944b9cd-4aff-4e80-d32d-755a1d1590be"
      },
      "outputs": [
        {
          "name": "stdout",
          "output_type": "stream",
          "text": [
            "['الاوليمبياد جايه هك سه كليه'\n",
            " 'عجز موازنه صل ل ناتج محل عني سه قل فلس هايم سه تابع الاوليمبياد'\n",
            " 'تنا يل حظ هباب ضح' 'جميع ريد حقيق هداف ونس تالق حراس مرم'\n",
            " 'الاوليمبياد ظام مختلف مواعيد مونديال مكانتش مقرف حاج انت معقول']\n"
          ]
        }
      ],
      "source": [
        "print(X[:5])"
      ]
    },
    {
      "cell_type": "code",
      "execution_count": null,
      "id": "7855a841",
      "metadata": {
        "id": "7855a841",
        "outputId": "63e2b71f-682b-46c7-df73-71119afdee23"
      },
      "outputs": [
        {
          "name": "stdout",
          "output_type": "stream",
          "text": [
            "['none' 'anger' 'sadness' 'joy' 'none']\n"
          ]
        }
      ],
      "source": [
        "print(y[:5])"
      ]
    },
    {
      "cell_type": "markdown",
      "id": "702d1cd4",
      "metadata": {
        "id": "702d1cd4"
      },
      "source": [
        "**Creating a pipline using tf-idf for words embedding and different models.**"
      ]
    },
    {
      "cell_type": "code",
      "execution_count": null,
      "id": "9e798669",
      "metadata": {
        "id": "9e798669"
      },
      "outputs": [],
      "source": [
        "def train_model(model, data, targets):\n",
        "    text_clf = Pipeline([('vect',TfidfVectorizer()),\n",
        "                         ('clf', model)])\n",
        "    text_clf.fit(data, targets)\n",
        "    return text_clf"
      ]
    },
    {
      "cell_type": "code",
      "execution_count": null,
      "id": "f522610e",
      "metadata": {
        "id": "f522610e"
      },
      "outputs": [],
      "source": [
        "def get_F1(trained_model,X,y):\n",
        "    predicted=trained_model.predict(X)\n",
        "    f1=f1_score(y,predicted, average=None)\n",
        "    return f1"
      ]
    },
    {
      "cell_type": "markdown",
      "id": "dd33e926",
      "metadata": {
        "id": "dd33e926"
      },
      "source": [
        "**Splitting the dataset into the Training set and Test set**"
      ]
    },
    {
      "cell_type": "code",
      "execution_count": null,
      "id": "b8994c1b",
      "metadata": {
        "id": "b8994c1b"
      },
      "outputs": [],
      "source": [
        "X_train, X_test, y_train, y_test = train_test_split(X,y, test_size=0.1,shuffle=True, random_state=42)"
      ]
    },
    {
      "cell_type": "markdown",
      "id": "d07e2e03",
      "metadata": {
        "id": "d07e2e03"
      },
      "source": [
        "### Logistic Regression"
      ]
    },
    {
      "cell_type": "markdown",
      "id": "0500fba7",
      "metadata": {
        "id": "0500fba7"
      },
      "source": [
        "**Training the Logistic Regression model on the Training set**"
      ]
    },
    {
      "cell_type": "code",
      "execution_count": null,
      "id": "6f49b655",
      "metadata": {
        "scrolled": true,
        "id": "6f49b655"
      },
      "outputs": [],
      "source": [
        "log_reg = train_model(LogisticRegression(random_state = 0), X_train, y_train)"
      ]
    },
    {
      "cell_type": "markdown",
      "id": "63b94f14",
      "metadata": {
        "id": "63b94f14"
      },
      "source": [
        "**Predicting new data**"
      ]
    },
    {
      "cell_type": "code",
      "execution_count": null,
      "id": "d8935be5",
      "metadata": {
        "id": "d8935be5",
        "outputId": "5176cdfe-d59e-4701-a82b-6ec00e38b84d"
      },
      "outputs": [
        {
          "data": {
            "text/plain": [
              "array(['joy'], dtype=object)"
            ]
          },
          "execution_count": 893,
          "metadata": {},
          "output_type": "execute_result"
        }
      ],
      "source": [
        "y_pred=log_reg.predict(['سعيد'])\n",
        "y_pred"
      ]
    },
    {
      "cell_type": "code",
      "execution_count": null,
      "id": "eaa72142",
      "metadata": {
        "id": "eaa72142",
        "outputId": "44302f76-cf4d-4e02-af7c-1efac353b240"
      },
      "outputs": [
        {
          "data": {
            "text/plain": [
              "array(['sadness'], dtype=object)"
            ]
          },
          "execution_count": 894,
          "metadata": {},
          "output_type": "execute_result"
        }
      ],
      "source": [
        "y_pred=log_reg.predict(['حزن'])\n",
        "y_pred"
      ]
    },
    {
      "cell_type": "code",
      "execution_count": null,
      "id": "89cccc14",
      "metadata": {
        "id": "89cccc14",
        "outputId": "e271bc41-0873-4fea-f42c-4748ac11334a"
      },
      "outputs": [
        {
          "data": {
            "text/plain": [
              "array(['surprise'], dtype=object)"
            ]
          },
          "execution_count": 895,
          "metadata": {},
          "output_type": "execute_result"
        }
      ],
      "source": [
        "y_pred=log_reg.predict(['مستغرب'])\n",
        "y_pred"
      ]
    },
    {
      "cell_type": "markdown",
      "id": "10bc6b89",
      "metadata": {
        "id": "10bc6b89"
      },
      "source": [
        "**Predicting the Test set results**"
      ]
    },
    {
      "cell_type": "code",
      "execution_count": null,
      "id": "760634a2",
      "metadata": {
        "id": "760634a2"
      },
      "outputs": [],
      "source": [
        "y_pred=log_reg.predict(X_test)"
      ]
    },
    {
      "cell_type": "markdown",
      "id": "c05fe513",
      "metadata": {
        "id": "c05fe513"
      },
      "source": [
        "**Measuring the performance**"
      ]
    },
    {
      "cell_type": "code",
      "execution_count": null,
      "id": "7c1cf122",
      "metadata": {
        "id": "7c1cf122",
        "outputId": "de3ffd01-c75e-4a17-d280-96337d392331"
      },
      "outputs": [
        {
          "name": "stdout",
          "output_type": "stream",
          "text": [
            "Accuracy:  0.6694214876033058 \n",
            "\n"
          ]
        }
      ],
      "source": [
        "log_reg_accuracy = accuracy_score(y_test, y_pred)\n",
        "print('Accuracy: ', log_reg_accuracy,'\\n')"
      ]
    },
    {
      "cell_type": "code",
      "execution_count": null,
      "id": "e826d2d7",
      "metadata": {
        "id": "e826d2d7",
        "outputId": "f3624a98-c2f9-4b34-c2ed-171797cad4a4"
      },
      "outputs": [
        {
          "data": {
            "text/html": [
              "<div>\n",
              "<style scoped>\n",
              "    .dataframe tbody tr th:only-of-type {\n",
              "        vertical-align: middle;\n",
              "    }\n",
              "\n",
              "    .dataframe tbody tr th {\n",
              "        vertical-align: top;\n",
              "    }\n",
              "\n",
              "    .dataframe thead th {\n",
              "        text-align: right;\n",
              "    }\n",
              "</style>\n",
              "<table border=\"1\" class=\"dataframe\">\n",
              "  <thead>\n",
              "    <tr style=\"text-align: right;\">\n",
              "      <th></th>\n",
              "      <th>F1 score</th>\n",
              "    </tr>\n",
              "  </thead>\n",
              "  <tbody>\n",
              "    <tr>\n",
              "      <th>none</th>\n",
              "      <td>0.628205</td>\n",
              "    </tr>\n",
              "    <tr>\n",
              "      <th>anger</th>\n",
              "      <td>0.947867</td>\n",
              "    </tr>\n",
              "    <tr>\n",
              "      <th>sadness</th>\n",
              "      <td>0.520930</td>\n",
              "    </tr>\n",
              "    <tr>\n",
              "      <th>joy</th>\n",
              "      <td>0.712551</td>\n",
              "    </tr>\n",
              "    <tr>\n",
              "      <th>surprise</th>\n",
              "      <td>0.693410</td>\n",
              "    </tr>\n",
              "    <tr>\n",
              "      <th>love</th>\n",
              "      <td>0.504587</td>\n",
              "    </tr>\n",
              "    <tr>\n",
              "      <th>sympathy</th>\n",
              "      <td>0.467532</td>\n",
              "    </tr>\n",
              "    <tr>\n",
              "      <th>fear</th>\n",
              "      <td>0.817391</td>\n",
              "    </tr>\n",
              "  </tbody>\n",
              "</table>\n",
              "</div>"
            ],
            "text/plain": [
              "          F1 score\n",
              "none      0.628205\n",
              "anger     0.947867\n",
              "sadness   0.520930\n",
              "joy       0.712551\n",
              "surprise  0.693410\n",
              "love      0.504587\n",
              "sympathy  0.467532\n",
              "fear      0.817391"
            ]
          },
          "execution_count": 898,
          "metadata": {},
          "output_type": "execute_result"
        }
      ],
      "source": [
        "f1_Score = get_F1(log_reg,X_test,y_test)\n",
        "pd.DataFrame(f1_Score, index=df.label.unique(), columns=['F1 score'])"
      ]
    },
    {
      "cell_type": "code",
      "execution_count": null,
      "id": "da13e914",
      "metadata": {
        "id": "da13e914",
        "outputId": "e7464ca8-5235-47a2-c4c3-5ef711461572"
      },
      "outputs": [
        {
          "name": "stdout",
          "output_type": "stream",
          "text": [
            "              precision    recall  f1-score   support\n",
            "\n",
            "       anger       0.54      0.75      0.63       131\n",
            "        fear       0.96      0.93      0.95       107\n",
            "         joy       0.61      0.46      0.52       123\n",
            "        love       0.72      0.71      0.71       124\n",
            "        none       0.58      0.86      0.69       140\n",
            "     sadness       0.58      0.45      0.50       123\n",
            "    surprise       0.67      0.36      0.47       100\n",
            "    sympathy       0.85      0.78      0.82       120\n",
            "\n",
            "    accuracy                           0.67       968\n",
            "   macro avg       0.69      0.66      0.66       968\n",
            "weighted avg       0.68      0.67      0.66       968\n",
            "\n"
          ]
        }
      ],
      "source": [
        "##Classification Report\n",
        "print(classification_report(y_test, y_pred))"
      ]
    },
    {
      "cell_type": "code",
      "execution_count": null,
      "id": "f7455466",
      "metadata": {
        "id": "f7455466"
      },
      "outputs": [],
      "source": [
        ""
      ]
    },
    {
      "cell_type": "markdown",
      "id": "02f0f6de",
      "metadata": {
        "id": "02f0f6de"
      },
      "source": [
        "### Decision Tree"
      ]
    },
    {
      "cell_type": "markdown",
      "id": "0aad2f79",
      "metadata": {
        "id": "0aad2f79"
      },
      "source": [
        "**Training the Decision Tree model on the Training set**"
      ]
    },
    {
      "cell_type": "code",
      "execution_count": null,
      "id": "70a637ed",
      "metadata": {
        "id": "70a637ed"
      },
      "outputs": [],
      "source": [
        "DT = train_model(DecisionTreeClassifier(random_state = 0), X_train, y_train)"
      ]
    },
    {
      "cell_type": "markdown",
      "id": "30aa1e94",
      "metadata": {
        "id": "30aa1e94"
      },
      "source": [
        "**Predicting the Test set results**"
      ]
    },
    {
      "cell_type": "code",
      "execution_count": null,
      "id": "a2b8e0f4",
      "metadata": {
        "id": "a2b8e0f4"
      },
      "outputs": [],
      "source": [
        "y_pred=DT.predict(X_test)"
      ]
    },
    {
      "cell_type": "markdown",
      "id": "0e25f2f7",
      "metadata": {
        "id": "0e25f2f7"
      },
      "source": [
        "**Measuring the performance**"
      ]
    },
    {
      "cell_type": "code",
      "execution_count": null,
      "id": "ed4c1763",
      "metadata": {
        "id": "ed4c1763",
        "outputId": "bfd86870-6e84-4ce3-c77f-0b09ff83b4bd"
      },
      "outputs": [
        {
          "name": "stdout",
          "output_type": "stream",
          "text": [
            "Accuracy:  0.5547520661157025 \n",
            "\n"
          ]
        }
      ],
      "source": [
        "DT_accuracy = accuracy_score(y_test, y_pred)\n",
        "print('Accuracy: ', DT_accuracy,'\\n')"
      ]
    },
    {
      "cell_type": "code",
      "execution_count": null,
      "id": "49c4eab8",
      "metadata": {
        "id": "49c4eab8",
        "outputId": "59a93cb1-e570-4474-fbe6-d5ce6fa9d1bc"
      },
      "outputs": [
        {
          "data": {
            "text/html": [
              "<div>\n",
              "<style scoped>\n",
              "    .dataframe tbody tr th:only-of-type {\n",
              "        vertical-align: middle;\n",
              "    }\n",
              "\n",
              "    .dataframe tbody tr th {\n",
              "        vertical-align: top;\n",
              "    }\n",
              "\n",
              "    .dataframe thead th {\n",
              "        text-align: right;\n",
              "    }\n",
              "</style>\n",
              "<table border=\"1\" class=\"dataframe\">\n",
              "  <thead>\n",
              "    <tr style=\"text-align: right;\">\n",
              "      <th></th>\n",
              "      <th>F1 score</th>\n",
              "    </tr>\n",
              "  </thead>\n",
              "  <tbody>\n",
              "    <tr>\n",
              "      <th>none</th>\n",
              "      <td>0.475472</td>\n",
              "    </tr>\n",
              "    <tr>\n",
              "      <th>anger</th>\n",
              "      <td>0.921659</td>\n",
              "    </tr>\n",
              "    <tr>\n",
              "      <th>sadness</th>\n",
              "      <td>0.363636</td>\n",
              "    </tr>\n",
              "    <tr>\n",
              "      <th>joy</th>\n",
              "      <td>0.567686</td>\n",
              "    </tr>\n",
              "    <tr>\n",
              "      <th>surprise</th>\n",
              "      <td>0.622951</td>\n",
              "    </tr>\n",
              "    <tr>\n",
              "      <th>love</th>\n",
              "      <td>0.348936</td>\n",
              "    </tr>\n",
              "    <tr>\n",
              "      <th>sympathy</th>\n",
              "      <td>0.410526</td>\n",
              "    </tr>\n",
              "    <tr>\n",
              "      <th>fear</th>\n",
              "      <td>0.727273</td>\n",
              "    </tr>\n",
              "  </tbody>\n",
              "</table>\n",
              "</div>"
            ],
            "text/plain": [
              "          F1 score\n",
              "none      0.475472\n",
              "anger     0.921659\n",
              "sadness   0.363636\n",
              "joy       0.567686\n",
              "surprise  0.622951\n",
              "love      0.348936\n",
              "sympathy  0.410526\n",
              "fear      0.727273"
            ]
          },
          "execution_count": 879,
          "metadata": {},
          "output_type": "execute_result"
        }
      ],
      "source": [
        "f1_Score = get_F1(DT, X_test ,y_test)\n",
        "pd.DataFrame(f1_Score, index=df.label.unique(), columns=['F1 score'])"
      ]
    },
    {
      "cell_type": "code",
      "execution_count": null,
      "id": "76bbc43f",
      "metadata": {
        "id": "76bbc43f",
        "outputId": "a65bf159-811a-4bf3-8042-0e3c94c61c4a"
      },
      "outputs": [
        {
          "name": "stdout",
          "output_type": "stream",
          "text": [
            "              precision    recall  f1-score   support\n",
            "\n",
            "       anger       0.47      0.48      0.48       131\n",
            "        fear       0.91      0.93      0.92       107\n",
            "         joy       0.35      0.37      0.36       123\n",
            "        love       0.62      0.52      0.57       124\n",
            "        none       0.58      0.68      0.62       140\n",
            "     sadness       0.37      0.33      0.35       123\n",
            "    surprise       0.43      0.39      0.41       100\n",
            "    sympathy       0.72      0.73      0.73       120\n",
            "\n",
            "    accuracy                           0.55       968\n",
            "   macro avg       0.56      0.56      0.55       968\n",
            "weighted avg       0.55      0.55      0.55       968\n",
            "\n"
          ]
        }
      ],
      "source": [
        "##Classification Report\n",
        "print(classification_report(y_test, y_pred))"
      ]
    },
    {
      "cell_type": "markdown",
      "id": "9e3eb9bc",
      "metadata": {
        "id": "9e3eb9bc"
      },
      "source": [
        "### Support Vector Machine"
      ]
    },
    {
      "cell_type": "markdown",
      "id": "95e8d7a6",
      "metadata": {
        "id": "95e8d7a6"
      },
      "source": [
        "**Training the Support Vector Machine model on the Training set**"
      ]
    },
    {
      "cell_type": "code",
      "execution_count": null,
      "id": "9e895adb",
      "metadata": {
        "id": "9e895adb"
      },
      "outputs": [],
      "source": [
        "SVM = train_model(SVC(random_state = 0), X_train, y_train)"
      ]
    },
    {
      "cell_type": "markdown",
      "id": "2aa412fb",
      "metadata": {
        "id": "2aa412fb"
      },
      "source": [
        "**Predicting the Test set results**"
      ]
    },
    {
      "cell_type": "code",
      "execution_count": null,
      "id": "de7d1434",
      "metadata": {
        "id": "de7d1434"
      },
      "outputs": [],
      "source": [
        "y_pred=SVM.predict(X_test)"
      ]
    },
    {
      "cell_type": "markdown",
      "id": "b015cf85",
      "metadata": {
        "id": "b015cf85"
      },
      "source": [
        "**Measuring the performance**"
      ]
    },
    {
      "cell_type": "code",
      "execution_count": null,
      "id": "9719d0ae",
      "metadata": {
        "id": "9719d0ae",
        "outputId": "c5b491ac-7d4f-4737-a9f8-e09aca80c2e6"
      },
      "outputs": [
        {
          "name": "stdout",
          "output_type": "stream",
          "text": [
            "Accuracy:  0.65599173553719 \n",
            "\n"
          ]
        }
      ],
      "source": [
        "SVM_accuracy = accuracy_score(y_test, y_pred)\n",
        "print('Accuracy: ', SVM_accuracy,'\\n')"
      ]
    },
    {
      "cell_type": "code",
      "execution_count": null,
      "id": "95f27685",
      "metadata": {
        "id": "95f27685",
        "outputId": "f1d0f8e2-5842-487a-d44a-aa4d5f4ff75e"
      },
      "outputs": [
        {
          "data": {
            "text/html": [
              "<div>\n",
              "<style scoped>\n",
              "    .dataframe tbody tr th:only-of-type {\n",
              "        vertical-align: middle;\n",
              "    }\n",
              "\n",
              "    .dataframe tbody tr th {\n",
              "        vertical-align: top;\n",
              "    }\n",
              "\n",
              "    .dataframe thead th {\n",
              "        text-align: right;\n",
              "    }\n",
              "</style>\n",
              "<table border=\"1\" class=\"dataframe\">\n",
              "  <thead>\n",
              "    <tr style=\"text-align: right;\">\n",
              "      <th></th>\n",
              "      <th>F1 score</th>\n",
              "    </tr>\n",
              "  </thead>\n",
              "  <tbody>\n",
              "    <tr>\n",
              "      <th>none</th>\n",
              "      <td>0.601770</td>\n",
              "    </tr>\n",
              "    <tr>\n",
              "      <th>anger</th>\n",
              "      <td>0.947368</td>\n",
              "    </tr>\n",
              "    <tr>\n",
              "      <th>sadness</th>\n",
              "      <td>0.507614</td>\n",
              "    </tr>\n",
              "    <tr>\n",
              "      <th>joy</th>\n",
              "      <td>0.691667</td>\n",
              "    </tr>\n",
              "    <tr>\n",
              "      <th>surprise</th>\n",
              "      <td>0.691689</td>\n",
              "    </tr>\n",
              "    <tr>\n",
              "      <th>love</th>\n",
              "      <td>0.459330</td>\n",
              "    </tr>\n",
              "    <tr>\n",
              "      <th>sympathy</th>\n",
              "      <td>0.436620</td>\n",
              "    </tr>\n",
              "    <tr>\n",
              "      <th>fear</th>\n",
              "      <td>0.819383</td>\n",
              "    </tr>\n",
              "  </tbody>\n",
              "</table>\n",
              "</div>"
            ],
            "text/plain": [
              "          F1 score\n",
              "none      0.601770\n",
              "anger     0.947368\n",
              "sadness   0.507614\n",
              "joy       0.691667\n",
              "surprise  0.691689\n",
              "love      0.459330\n",
              "sympathy  0.436620\n",
              "fear      0.819383"
            ]
          },
          "execution_count": 884,
          "metadata": {},
          "output_type": "execute_result"
        }
      ],
      "source": [
        "f1_Score = get_F1(SVM,X_test,y_test)\n",
        "pd.DataFrame(f1_Score, index=df.label.unique(), columns=['F1 score'])"
      ]
    },
    {
      "cell_type": "code",
      "execution_count": null,
      "id": "3cfec63f",
      "metadata": {
        "id": "3cfec63f",
        "outputId": "dd483cd9-a693-40c8-abda-e696f4b2fd7d"
      },
      "outputs": [
        {
          "name": "stdout",
          "output_type": "stream",
          "text": [
            "              precision    recall  f1-score   support\n",
            "\n",
            "       anger       0.49      0.78      0.60       131\n",
            "        fear       0.97      0.93      0.95       107\n",
            "         joy       0.68      0.41      0.51       123\n",
            "        love       0.72      0.67      0.69       124\n",
            "        none       0.55      0.92      0.69       140\n",
            "     sadness       0.56      0.39      0.46       123\n",
            "    surprise       0.74      0.31      0.44       100\n",
            "    sympathy       0.87      0.78      0.82       120\n",
            "\n",
            "    accuracy                           0.66       968\n",
            "   macro avg       0.70      0.65      0.64       968\n",
            "weighted avg       0.69      0.66      0.64       968\n",
            "\n"
          ]
        }
      ],
      "source": [
        "##Classification Report\n",
        "print(classification_report(y_test, y_pred))"
      ]
    },
    {
      "cell_type": "markdown",
      "id": "b72db07c",
      "metadata": {
        "id": "b72db07c"
      },
      "source": [
        "### Random Forest"
      ]
    },
    {
      "cell_type": "markdown",
      "id": "e63bcec4",
      "metadata": {
        "id": "e63bcec4"
      },
      "source": [
        "**Training the Random Forest model on the Training set**"
      ]
    },
    {
      "cell_type": "code",
      "execution_count": null,
      "id": "c7612c5c",
      "metadata": {
        "id": "c7612c5c"
      },
      "outputs": [],
      "source": [
        "RF = train_model(RandomForestClassifier(random_state = 0), X_train, y_train)"
      ]
    },
    {
      "cell_type": "markdown",
      "id": "c03f48a7",
      "metadata": {
        "id": "c03f48a7"
      },
      "source": [
        "**Predicting the Test set results**"
      ]
    },
    {
      "cell_type": "code",
      "execution_count": null,
      "id": "a71ee8c2",
      "metadata": {
        "id": "a71ee8c2"
      },
      "outputs": [],
      "source": [
        "y_pred=RF.predict(X_test)"
      ]
    },
    {
      "cell_type": "markdown",
      "id": "0041eb17",
      "metadata": {
        "id": "0041eb17"
      },
      "source": [
        "**Measuring the performance**"
      ]
    },
    {
      "cell_type": "code",
      "execution_count": null,
      "id": "3c790314",
      "metadata": {
        "id": "3c790314",
        "outputId": "818d2701-dbe1-4dc2-b6a0-1a029250481d"
      },
      "outputs": [
        {
          "name": "stdout",
          "output_type": "stream",
          "text": [
            "Accuracy:  0.6425619834710744 \n",
            "\n"
          ]
        }
      ],
      "source": [
        "RF_accuracy = accuracy_score(y_test, y_pred)\n",
        "print('Accuracy: ', RF_accuracy,'\\n')"
      ]
    },
    {
      "cell_type": "code",
      "execution_count": null,
      "id": "bfb3ca6d",
      "metadata": {
        "id": "bfb3ca6d",
        "outputId": "fb8fc2fa-689b-4f72-e010-fa0330c437d7"
      },
      "outputs": [
        {
          "data": {
            "text/html": [
              "<div>\n",
              "<style scoped>\n",
              "    .dataframe tbody tr th:only-of-type {\n",
              "        vertical-align: middle;\n",
              "    }\n",
              "\n",
              "    .dataframe tbody tr th {\n",
              "        vertical-align: top;\n",
              "    }\n",
              "\n",
              "    .dataframe thead th {\n",
              "        text-align: right;\n",
              "    }\n",
              "</style>\n",
              "<table border=\"1\" class=\"dataframe\">\n",
              "  <thead>\n",
              "    <tr style=\"text-align: right;\">\n",
              "      <th></th>\n",
              "      <th>F1 score</th>\n",
              "    </tr>\n",
              "  </thead>\n",
              "  <tbody>\n",
              "    <tr>\n",
              "      <th>none</th>\n",
              "      <td>0.588235</td>\n",
              "    </tr>\n",
              "    <tr>\n",
              "      <th>anger</th>\n",
              "      <td>0.918919</td>\n",
              "    </tr>\n",
              "    <tr>\n",
              "      <th>sadness</th>\n",
              "      <td>0.468468</td>\n",
              "    </tr>\n",
              "    <tr>\n",
              "      <th>joy</th>\n",
              "      <td>0.694215</td>\n",
              "    </tr>\n",
              "    <tr>\n",
              "      <th>surprise</th>\n",
              "      <td>0.693333</td>\n",
              "    </tr>\n",
              "    <tr>\n",
              "      <th>love</th>\n",
              "      <td>0.374332</td>\n",
              "    </tr>\n",
              "    <tr>\n",
              "      <th>sympathy</th>\n",
              "      <td>0.460526</td>\n",
              "    </tr>\n",
              "    <tr>\n",
              "      <th>fear</th>\n",
              "      <td>0.801619</td>\n",
              "    </tr>\n",
              "  </tbody>\n",
              "</table>\n",
              "</div>"
            ],
            "text/plain": [
              "          F1 score\n",
              "none      0.588235\n",
              "anger     0.918919\n",
              "sadness   0.468468\n",
              "joy       0.694215\n",
              "surprise  0.693333\n",
              "love      0.374332\n",
              "sympathy  0.460526\n",
              "fear      0.801619"
            ]
          },
          "execution_count": 889,
          "metadata": {},
          "output_type": "execute_result"
        }
      ],
      "source": [
        "f1_Score = get_F1(RF, X_test, y_test)\n",
        "pd.DataFrame(f1_Score, index=df.label.unique(), columns=['F1 score'])"
      ]
    },
    {
      "cell_type": "code",
      "execution_count": null,
      "id": "6ccfa0b3",
      "metadata": {
        "scrolled": true,
        "id": "6ccfa0b3",
        "outputId": "0d7d5981-be30-4886-e5d7-6953260dc776"
      },
      "outputs": [
        {
          "name": "stdout",
          "output_type": "stream",
          "text": [
            "              precision    recall  f1-score   support\n",
            "\n",
            "       anger       0.54      0.65      0.59       131\n",
            "        fear       0.89      0.95      0.92       107\n",
            "         joy       0.53      0.42      0.47       123\n",
            "        love       0.71      0.68      0.69       124\n",
            "        none       0.55      0.93      0.69       140\n",
            "     sadness       0.55      0.28      0.37       123\n",
            "    surprise       0.67      0.35      0.46       100\n",
            "    sympathy       0.78      0.82      0.80       120\n",
            "\n",
            "    accuracy                           0.64       968\n",
            "   macro avg       0.65      0.64      0.62       968\n",
            "weighted avg       0.64      0.64      0.62       968\n",
            "\n"
          ]
        }
      ],
      "source": [
        "##Classification Report\n",
        "print(classification_report(y_test, y_pred))"
      ]
    },
    {
      "cell_type": "markdown",
      "source": [
        "## Results"
      ],
      "metadata": {
        "id": "Mez0jPKuGjrd"
      },
      "id": "Mez0jPKuGjrd"
    },
    {
      "cell_type": "code",
      "execution_count": null,
      "id": "4d27b4fa",
      "metadata": {
        "id": "4d27b4fa",
        "outputId": "0581ee19-d634-4e25-f215-818be85a9826"
      },
      "outputs": [
        {
          "data": {
            "text/html": [
              "<div>\n",
              "<style scoped>\n",
              "    .dataframe tbody tr th:only-of-type {\n",
              "        vertical-align: middle;\n",
              "    }\n",
              "\n",
              "    .dataframe tbody tr th {\n",
              "        vertical-align: top;\n",
              "    }\n",
              "\n",
              "    .dataframe thead th {\n",
              "        text-align: right;\n",
              "    }\n",
              "</style>\n",
              "<table border=\"1\" class=\"dataframe\">\n",
              "  <thead>\n",
              "    <tr style=\"text-align: right;\">\n",
              "      <th></th>\n",
              "      <th>Model</th>\n",
              "      <th>Accuracy</th>\n",
              "    </tr>\n",
              "  </thead>\n",
              "  <tbody>\n",
              "    <tr>\n",
              "      <th>0</th>\n",
              "      <td>Logistic Regression</td>\n",
              "      <td>0.67</td>\n",
              "    </tr>\n",
              "    <tr>\n",
              "      <th>1</th>\n",
              "      <td>Support Vector Machine</td>\n",
              "      <td>0.66</td>\n",
              "    </tr>\n",
              "    <tr>\n",
              "      <th>2</th>\n",
              "      <td>Random Forest</td>\n",
              "      <td>0.64</td>\n",
              "    </tr>\n",
              "    <tr>\n",
              "      <th>3</th>\n",
              "      <td>Decision Tree</td>\n",
              "      <td>0.55</td>\n",
              "    </tr>\n",
              "  </tbody>\n",
              "</table>\n",
              "</div>"
            ],
            "text/plain": [
              "                    Model  Accuracy\n",
              "0     Logistic Regression      0.67\n",
              "1  Support Vector Machine      0.66\n",
              "2           Random Forest      0.64\n",
              "3           Decision Tree      0.55"
            ]
          },
          "execution_count": 904,
          "metadata": {},
          "output_type": "execute_result"
        }
      ],
      "source": [
        "models = pd.DataFrame({\n",
        "    'Model': ['Logistic Regression', 'Decision Tree','Support Vector Machine','Random Forest'],\n",
        "    'Accuracy': [log_reg_accuracy.round(2), DT_accuracy.round(2), SVM_accuracy.round(2), RF_accuracy.round(2)]})\n",
        "\n",
        "models.sort_values(by='Accuracy', ascending=False).reset_index().drop(['index'], axis=1)"
      ]
    },
    {
      "cell_type": "markdown",
      "id": "34cb47ad",
      "metadata": {
        "id": "34cb47ad"
      },
      "source": [
        "Note that TF-IDF vectoriser is used in this experiment"
      ]
    }
  ],
  "metadata": {
    "kernelspec": {
      "display_name": "Python 3",
      "language": "python",
      "name": "python3"
    },
    "language_info": {
      "codemirror_mode": {
        "name": "ipython",
        "version": 3
      },
      "file_extension": ".py",
      "mimetype": "text/x-python",
      "name": "python",
      "nbconvert_exporter": "python",
      "pygments_lexer": "ipython3",
      "version": "3.8.8"
    },
    "colab": {
      "name": "Emoji Prediction (with emoji's and emoticon).ipynb",
      "provenance": []
    }
  },
  "nbformat": 4,
  "nbformat_minor": 5
}